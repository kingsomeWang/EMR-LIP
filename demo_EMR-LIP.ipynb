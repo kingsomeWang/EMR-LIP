{
 "cells": [
  {
   "cell_type": "markdown",
   "metadata": {},
   "source": [
    "# **EMR-LIP Framework: Preprocessing Irregular Longitudinal Data Across Databases**\n",
    "\n",
    "This document guides users on how to preprocess irregular longitudinal data in various databases using the APls provided by the EMR-LIP framework.\n",
    "\n",
    "<u>**Important Note**: It's crucial to understand that EMR-LIP does not include data cleaning or the generation of clinical concepts. The diversity in variable statistical caliber, names, and other aspects across different databases makes it challenging to offer a universal module for automated data  cleaning and clinical concept generation in each database.</u>\n",
    "\n",
    "<img src=\"./image.png\" width=\"800\">\n",
    "\n",
    "## **Chaper 1: Example of the use of EMR-LIP and Universality of EMR-LIP**\n",
    "\n",
    "EMR-LIP's universality lies in its ability to process data from any database. Users can provide their original irregular longitudinal data in either a long table or wide table format, along with a variable dictionary that meets EMR-LIP requirements. EMR-LIP can then swiftly convert this raw data into structured multivariate time series data. This transformation facilitates the modeling of longitudinal dependencies, such as those in LSTM networks."
   ]
  },
  {
   "cell_type": "markdown",
   "metadata": {},
   "source": [
    "### **Case Studies: MIMIC-IV and eICU-CRD**\n",
    "\n",
    "Let's illustrate EMR-LIP's functionality and its universality across different databases using two major public databases: MIMIC-IV and eICU-CRD. We'll demonstrate how EMR-LIP rapidly processes data according to the user-defined variable dictionary and showcase its adaptability across various databases."
   ]
  },
  {
   "cell_type": "code",
   "execution_count": 2,
   "metadata": {
    "vscode": {
     "languageId": "r"
    }
   },
   "outputs": [],
   "source": [
    "## Load the EMR-LIP framework\n",
    "source(\"/home/luojiawei/Benchmark_project/EMR_APIs.R\")"
   ]
  },
  {
   "cell_type": "markdown",
   "metadata": {},
   "source": [
    "### **MIMIC-IV**\n",
    "\n",
    "The MIMIC-IV database provides what can be described as a \"semi-finished\" variable dictionary. This dictionary includes information such as item IDs, labels, and abbreviations for various variables. However, this information alone is insufficient for the EMR-LIP framework to function effectively. Therefore, additional effort is required to construct a comprehensive variable dictionary.\n",
    "\n",
    "#### **Building the Variable Dictionary**\n",
    "\n",
    "The process of building this dictionary, though labor-intensive, is a critical step. I assure you that once this construction is complete, subsequent data processing will become significantly easier. To illustrate this, let's consider the 'chartevents ' table from MIMIC-IV. This table is a prime example of a vertical irregular data table presented in a long table format."
   ]
  },
  {
   "cell_type": "code",
   "execution_count": 328,
   "metadata": {
    "vscode": {
     "languageId": "r"
    }
   },
   "outputs": [],
   "source": [
    "# First, read the \"semi-finished\" variable dictionary\n",
    "d_items<-fread(\"/home/luojiawei/mimiciv/mimic-iv-2.2/icu/d_items.csv.gz\",header=T,fill=T)"
   ]
  },
  {
   "cell_type": "code",
   "execution_count": 4,
   "metadata": {
    "vscode": {
     "languageId": "r"
    }
   },
   "outputs": [
    {
     "data": {
      "text/html": [
       "<table class=\"dataframe\">\n",
       "<caption>A data.table: 5 × 9</caption>\n",
       "<thead>\n",
       "\t<tr><th scope=col>itemid</th><th scope=col>label</th><th scope=col>abbreviation</th><th scope=col>linksto</th><th scope=col>category</th><th scope=col>unitname</th><th scope=col>param_type</th><th scope=col>lownormalvalue</th><th scope=col>highnormalvalue</th></tr>\n",
       "\t<tr><th scope=col>&lt;int&gt;</th><th scope=col>&lt;chr&gt;</th><th scope=col>&lt;chr&gt;</th><th scope=col>&lt;chr&gt;</th><th scope=col>&lt;chr&gt;</th><th scope=col>&lt;chr&gt;</th><th scope=col>&lt;chr&gt;</th><th scope=col>&lt;int&gt;</th><th scope=col>&lt;dbl&gt;</th></tr>\n",
       "</thead>\n",
       "<tbody>\n",
       "\t<tr><td>220001</td><td>Problem List           </td><td>Problem List      </td><td>chartevents   </td><td>General            </td><td>   </td><td>Text         </td><td>NA</td><td>NA</td></tr>\n",
       "\t<tr><td>220003</td><td>ICU Admission date     </td><td>ICU Admission date</td><td>datetimeevents</td><td>ADT                </td><td>   </td><td>Date and time</td><td>NA</td><td>NA</td></tr>\n",
       "\t<tr><td>220045</td><td>Heart Rate             </td><td>HR                </td><td>chartevents   </td><td>Routine Vital Signs</td><td>bpm</td><td>Numeric      </td><td>NA</td><td>NA</td></tr>\n",
       "\t<tr><td>220046</td><td>Heart rate Alarm - High</td><td>HR Alarm - High   </td><td>chartevents   </td><td>Alarms             </td><td>bpm</td><td>Numeric      </td><td>NA</td><td>NA</td></tr>\n",
       "\t<tr><td>220047</td><td>Heart Rate Alarm - Low </td><td>HR Alarm - Low    </td><td>chartevents   </td><td>Alarms             </td><td>bpm</td><td>Numeric      </td><td>NA</td><td>NA</td></tr>\n",
       "</tbody>\n",
       "</table>\n"
      ],
      "text/latex": [
       "A data.table: 5 × 9\n",
       "\\begin{tabular}{lllllllll}\n",
       " itemid & label & abbreviation & linksto & category & unitname & param\\_type & lownormalvalue & highnormalvalue\\\\\n",
       " <int> & <chr> & <chr> & <chr> & <chr> & <chr> & <chr> & <int> & <dbl>\\\\\n",
       "\\hline\n",
       "\t 220001 & Problem List            & Problem List       & chartevents    & General             &     & Text          & NA & NA\\\\\n",
       "\t 220003 & ICU Admission date      & ICU Admission date & datetimeevents & ADT                 &     & Date and time & NA & NA\\\\\n",
       "\t 220045 & Heart Rate              & HR                 & chartevents    & Routine Vital Signs & bpm & Numeric       & NA & NA\\\\\n",
       "\t 220046 & Heart rate Alarm - High & HR Alarm - High    & chartevents    & Alarms              & bpm & Numeric       & NA & NA\\\\\n",
       "\t 220047 & Heart Rate Alarm - Low  & HR Alarm - Low     & chartevents    & Alarms              & bpm & Numeric       & NA & NA\\\\\n",
       "\\end{tabular}\n"
      ],
      "text/markdown": [
       "\n",
       "A data.table: 5 × 9\n",
       "\n",
       "| itemid &lt;int&gt; | label &lt;chr&gt; | abbreviation &lt;chr&gt; | linksto &lt;chr&gt; | category &lt;chr&gt; | unitname &lt;chr&gt; | param_type &lt;chr&gt; | lownormalvalue &lt;int&gt; | highnormalvalue &lt;dbl&gt; |\n",
       "|---|---|---|---|---|---|---|---|---|\n",
       "| 220001 | Problem List            | Problem List       | chartevents    | General             | <!----> | Text          | NA | NA |\n",
       "| 220003 | ICU Admission date      | ICU Admission date | datetimeevents | ADT                 | <!----> | Date and time | NA | NA |\n",
       "| 220045 | Heart Rate              | HR                 | chartevents    | Routine Vital Signs | bpm | Numeric       | NA | NA |\n",
       "| 220046 | Heart rate Alarm - High | HR Alarm - High    | chartevents    | Alarms              | bpm | Numeric       | NA | NA |\n",
       "| 220047 | Heart Rate Alarm - Low  | HR Alarm - Low     | chartevents    | Alarms              | bpm | Numeric       | NA | NA |\n",
       "\n"
      ],
      "text/plain": [
       "  itemid label                   abbreviation       linksto       \n",
       "1 220001 Problem List            Problem List       chartevents   \n",
       "2 220003 ICU Admission date      ICU Admission date datetimeevents\n",
       "3 220045 Heart Rate              HR                 chartevents   \n",
       "4 220046 Heart rate Alarm - High HR Alarm - High    chartevents   \n",
       "5 220047 Heart Rate Alarm - Low  HR Alarm - Low     chartevents   \n",
       "  category            unitname param_type    lownormalvalue highnormalvalue\n",
       "1 General                      Text          NA             NA             \n",
       "2 ADT                          Date and time NA             NA             \n",
       "3 Routine Vital Signs bpm      Numeric       NA             NA             \n",
       "4 Alarms              bpm      Numeric       NA             NA             \n",
       "5 Alarms              bpm      Numeric       NA             NA             "
      ]
     },
     "metadata": {},
     "output_type": "display_data"
    }
   ],
   "source": [
    "# Let's look at its structure\n",
    "d_items[1:5,]"
   ]
  },
  {
   "cell_type": "code",
   "execution_count": 5,
   "metadata": {
    "vscode": {
     "languageId": "r"
    }
   },
   "outputs": [],
   "source": [
    "# Now we build the dictionary with variables from the \"Routine Vital Signs\" category in the category column\n",
    "d_custom <- d_items[d_items$category == \"Routine Vital Signs\", c(\"itemid\", \"param_type\")]"
   ]
  },
  {
   "cell_type": "code",
   "execution_count": 6,
   "metadata": {
    "vscode": {
     "languageId": "r"
    }
   },
   "outputs": [
    {
     "data": {
      "text/html": [
       "<style>\n",
       ".list-inline {list-style: none; margin:0; padding: 0}\n",
       ".list-inline>li {display: inline-block}\n",
       ".list-inline>li:not(:last-child)::after {content: \"\\00b7\"; padding: 0 .5ex}\n",
       "</style>\n",
       "<ol class=list-inline><li>'Numeric'</li><li>'Text'</li><li>'Checkbox'</li></ol>\n"
      ],
      "text/latex": [
       "\\begin{enumerate*}\n",
       "\\item 'Numeric'\n",
       "\\item 'Text'\n",
       "\\item 'Checkbox'\n",
       "\\end{enumerate*}\n"
      ],
      "text/markdown": [
       "1. 'Numeric'\n",
       "2. 'Text'\n",
       "3. 'Checkbox'\n",
       "\n",
       "\n"
      ],
      "text/plain": [
       "[1] \"Numeric\"  \"Text\"     \"Checkbox\""
      ]
     },
     "metadata": {},
     "output_type": "display_data"
    }
   ],
   "source": [
    "# See value types of the variables\n",
    "unique(d_custom$param_type)"
   ]
  },
  {
   "cell_type": "code",
   "execution_count": 7,
   "metadata": {
    "vscode": {
     "languageId": "r"
    }
   },
   "outputs": [],
   "source": [
    "# Because EMR-LIP cannot handle free-text, we must discard this part of the variable\n",
    "d_custom <- d_custom[d_custom$param_type != \"Text\",]"
   ]
  },
  {
   "cell_type": "code",
   "execution_count": 319,
   "metadata": {
    "vscode": {
     "languageId": "r"
    }
   },
   "outputs": [],
   "source": [
    "# Next, we read the raw data stored in the long table format and the admissions table that holds the basic information for admission\n",
    "chartevents<-fread(\"/home/luojiawei/mimiciv/mimic-iv-2.2/icu/chartevents.csv.gz\",header=T,fill=T)\n",
    "admissions<-fread(\"/home/luojiawei/mimiciv/mimic-iv-2.2/hosp/admissions.csv.gz\",header=T,fill=T)"
   ]
  },
  {
   "cell_type": "code",
   "execution_count": 9,
   "metadata": {
    "vscode": {
     "languageId": "r"
    }
   },
   "outputs": [],
   "source": [
    "# Since chartevents are large, we only keep rows that appear in the variable dictionary in order to speed up the calculation\n",
    "ds_vital <- chartevents[which(chartevents$itemid %in% d_custom$itemid),]"
   ]
  },
  {
   "cell_type": "markdown",
   "metadata": {},
   "source": [
    "Examining the structure of the 'ds_vital' dataset reveals multiple columns, but only a few are essential for data preprocessing. These columns are 'hadm_id', 'charttime ', 'itemid', and 'value'. 'hadm_id' represents the ID of each sample, 'charttime' is the timestamp when each observation was recorded, 'itemid' is the ID for each observed variable, and 'value ' is the observed value for that variable.\n",
    "\n",
    "It's important to note that we opt for the \"value' column instead of \"valuenum '. This choice is made because we might handle both numerical and discrete variables, and some discrete variables are stored as strings. These would appear as NA in the 'valuenum ' column."
   ]
  },
  {
   "cell_type": "code",
   "execution_count": 10,
   "metadata": {
    "vscode": {
     "languageId": "r"
    }
   },
   "outputs": [
    {
     "data": {
      "text/html": [
       "<table class=\"dataframe\">\n",
       "<caption>A data.table: 5 × 11</caption>\n",
       "<thead>\n",
       "\t<tr><th scope=col>subject_id</th><th scope=col>hadm_id</th><th scope=col>stay_id</th><th scope=col>caregiver_id</th><th scope=col>charttime</th><th scope=col>storetime</th><th scope=col>itemid</th><th scope=col>value</th><th scope=col>valuenum</th><th scope=col>valueuom</th><th scope=col>warning</th></tr>\n",
       "\t<tr><th scope=col>&lt;int&gt;</th><th scope=col>&lt;int&gt;</th><th scope=col>&lt;int&gt;</th><th scope=col>&lt;int&gt;</th><th scope=col>&lt;dttm&gt;</th><th scope=col>&lt;dttm&gt;</th><th scope=col>&lt;int&gt;</th><th scope=col>&lt;chr&gt;</th><th scope=col>&lt;dbl&gt;</th><th scope=col>&lt;chr&gt;</th><th scope=col>&lt;int&gt;</th></tr>\n",
       "</thead>\n",
       "<tbody>\n",
       "\t<tr><td>10000032</td><td>29079034</td><td>39553978</td><td>47007</td><td>2180-07-23 21:01:00</td><td>2180-07-23 22:15:00</td><td>220179</td><td>82</td><td>82</td><td>mmHg</td><td>0</td></tr>\n",
       "\t<tr><td>10000032</td><td>29079034</td><td>39553978</td><td>47007</td><td>2180-07-23 21:01:00</td><td>2180-07-23 22:15:00</td><td>220180</td><td>59</td><td>59</td><td>mmHg</td><td>0</td></tr>\n",
       "\t<tr><td>10000032</td><td>29079034</td><td>39553978</td><td>47007</td><td>2180-07-23 21:01:00</td><td>2180-07-23 22:15:00</td><td>220181</td><td>63</td><td>63</td><td>mmHg</td><td>0</td></tr>\n",
       "\t<tr><td>10000032</td><td>29079034</td><td>39553978</td><td>47007</td><td>2180-07-23 22:00:00</td><td>2180-07-23 22:15:00</td><td>220045</td><td>94</td><td>94</td><td>bpm </td><td>0</td></tr>\n",
       "\t<tr><td>10000032</td><td>29079034</td><td>39553978</td><td>47007</td><td>2180-07-23 22:00:00</td><td>2180-07-23 22:15:00</td><td>220179</td><td>85</td><td>85</td><td>mmHg</td><td>0</td></tr>\n",
       "</tbody>\n",
       "</table>\n"
      ],
      "text/latex": [
       "A data.table: 5 × 11\n",
       "\\begin{tabular}{lllllllllll}\n",
       " subject\\_id & hadm\\_id & stay\\_id & caregiver\\_id & charttime & storetime & itemid & value & valuenum & valueuom & warning\\\\\n",
       " <int> & <int> & <int> & <int> & <dttm> & <dttm> & <int> & <chr> & <dbl> & <chr> & <int>\\\\\n",
       "\\hline\n",
       "\t 10000032 & 29079034 & 39553978 & 47007 & 2180-07-23 21:01:00 & 2180-07-23 22:15:00 & 220179 & 82 & 82 & mmHg & 0\\\\\n",
       "\t 10000032 & 29079034 & 39553978 & 47007 & 2180-07-23 21:01:00 & 2180-07-23 22:15:00 & 220180 & 59 & 59 & mmHg & 0\\\\\n",
       "\t 10000032 & 29079034 & 39553978 & 47007 & 2180-07-23 21:01:00 & 2180-07-23 22:15:00 & 220181 & 63 & 63 & mmHg & 0\\\\\n",
       "\t 10000032 & 29079034 & 39553978 & 47007 & 2180-07-23 22:00:00 & 2180-07-23 22:15:00 & 220045 & 94 & 94 & bpm  & 0\\\\\n",
       "\t 10000032 & 29079034 & 39553978 & 47007 & 2180-07-23 22:00:00 & 2180-07-23 22:15:00 & 220179 & 85 & 85 & mmHg & 0\\\\\n",
       "\\end{tabular}\n"
      ],
      "text/markdown": [
       "\n",
       "A data.table: 5 × 11\n",
       "\n",
       "| subject_id &lt;int&gt; | hadm_id &lt;int&gt; | stay_id &lt;int&gt; | caregiver_id &lt;int&gt; | charttime &lt;dttm&gt; | storetime &lt;dttm&gt; | itemid &lt;int&gt; | value &lt;chr&gt; | valuenum &lt;dbl&gt; | valueuom &lt;chr&gt; | warning &lt;int&gt; |\n",
       "|---|---|---|---|---|---|---|---|---|---|---|\n",
       "| 10000032 | 29079034 | 39553978 | 47007 | 2180-07-23 21:01:00 | 2180-07-23 22:15:00 | 220179 | 82 | 82 | mmHg | 0 |\n",
       "| 10000032 | 29079034 | 39553978 | 47007 | 2180-07-23 21:01:00 | 2180-07-23 22:15:00 | 220180 | 59 | 59 | mmHg | 0 |\n",
       "| 10000032 | 29079034 | 39553978 | 47007 | 2180-07-23 21:01:00 | 2180-07-23 22:15:00 | 220181 | 63 | 63 | mmHg | 0 |\n",
       "| 10000032 | 29079034 | 39553978 | 47007 | 2180-07-23 22:00:00 | 2180-07-23 22:15:00 | 220045 | 94 | 94 | bpm  | 0 |\n",
       "| 10000032 | 29079034 | 39553978 | 47007 | 2180-07-23 22:00:00 | 2180-07-23 22:15:00 | 220179 | 85 | 85 | mmHg | 0 |\n",
       "\n"
      ],
      "text/plain": [
       "  subject_id hadm_id  stay_id  caregiver_id charttime          \n",
       "1 10000032   29079034 39553978 47007        2180-07-23 21:01:00\n",
       "2 10000032   29079034 39553978 47007        2180-07-23 21:01:00\n",
       "3 10000032   29079034 39553978 47007        2180-07-23 21:01:00\n",
       "4 10000032   29079034 39553978 47007        2180-07-23 22:00:00\n",
       "5 10000032   29079034 39553978 47007        2180-07-23 22:00:00\n",
       "  storetime           itemid value valuenum valueuom warning\n",
       "1 2180-07-23 22:15:00 220179 82    82       mmHg     0      \n",
       "2 2180-07-23 22:15:00 220180 59    59       mmHg     0      \n",
       "3 2180-07-23 22:15:00 220181 63    63       mmHg     0      \n",
       "4 2180-07-23 22:15:00 220045 94    94       bpm      0      \n",
       "5 2180-07-23 22:15:00 220179 85    85       mmHg     0      "
      ]
     },
     "metadata": {},
     "output_type": "display_data"
    }
   ],
   "source": [
    "ds_vital[1:5,]"
   ]
  },
  {
   "cell_type": "code",
   "execution_count": 11,
   "metadata": {
    "vscode": {
     "languageId": "r"
    }
   },
   "outputs": [],
   "source": [
    "# Modify the value type of the variable dictionary to satisfy the EMR-LIP\n",
    "d_custom$param_type[d_custom$param_type == \"Numeric\"] <- \"num\"\n",
    "d_custom$param_type[d_custom$param_type == \"Checkbox\"] <- \"bin\""
   ]
  },
  {
   "cell_type": "code",
   "execution_count": 12,
   "metadata": {
    "vscode": {
     "languageId": "r"
    }
   },
   "outputs": [],
   "source": [
    "# Since the measurement times for these variables are all at single points, the time attribute for these variables should be set to \"single\".\n",
    "d_custom$time_attribute <- \"single\""
   ]
  },
  {
   "cell_type": "code",
   "execution_count": 13,
   "metadata": {
    "vscode": {
     "languageId": "r"
    }
   },
   "outputs": [],
   "source": [
    "# Since these variables are not a result of any medical intervention, their acquisition type should be categorized as \"obs\" (observational).\n",
    "d_custom$acqu_type <- \"obs\""
   ]
  },
  {
   "cell_type": "code",
   "execution_count": 14,
   "metadata": {
    "vscode": {
     "languageId": "r"
    }
   },
   "outputs": [],
   "source": [
    "# Specify their aggregation method, here for simplicity we specify the \"last\" aggregation method for all of them\n",
    "d_custom$agg_f <- \"last\""
   ]
  },
  {
   "cell_type": "code",
   "execution_count": 15,
   "metadata": {
    "vscode": {
     "languageId": "r"
    }
   },
   "outputs": [],
   "source": [
    "# Specifies the name of each column in the variable dictionary\n",
    "names(d_custom) <- c(\"itemid\",\"value_type\",\"time_attribute\", \"acqu_type\",\"agg_f\")"
   ]
  },
  {
   "cell_type": "code",
   "execution_count": 16,
   "metadata": {
    "vscode": {
     "languageId": "r"
    }
   },
   "outputs": [
    {
     "data": {
      "text/html": [
       "<table class=\"dataframe\">\n",
       "<caption>A data.table: 6 × 5</caption>\n",
       "<thead>\n",
       "\t<tr><th scope=col>itemid</th><th scope=col>value_type</th><th scope=col>time_attribute</th><th scope=col>acqu_type</th><th scope=col>agg_f</th></tr>\n",
       "\t<tr><th scope=col>&lt;int&gt;</th><th scope=col>&lt;chr&gt;</th><th scope=col>&lt;chr&gt;</th><th scope=col>&lt;chr&gt;</th><th scope=col>&lt;chr&gt;</th></tr>\n",
       "</thead>\n",
       "<tbody>\n",
       "\t<tr><td>220045</td><td>num</td><td>single</td><td>obs</td><td>last</td></tr>\n",
       "\t<tr><td>220050</td><td>num</td><td>single</td><td>obs</td><td>last</td></tr>\n",
       "\t<tr><td>220051</td><td>num</td><td>single</td><td>obs</td><td>last</td></tr>\n",
       "\t<tr><td>220052</td><td>num</td><td>single</td><td>obs</td><td>last</td></tr>\n",
       "\t<tr><td>220179</td><td>num</td><td>single</td><td>obs</td><td>last</td></tr>\n",
       "\t<tr><td>220180</td><td>num</td><td>single</td><td>obs</td><td>last</td></tr>\n",
       "</tbody>\n",
       "</table>\n"
      ],
      "text/latex": [
       "A data.table: 6 × 5\n",
       "\\begin{tabular}{lllll}\n",
       " itemid & value\\_type & time\\_attribute & acqu\\_type & agg\\_f\\\\\n",
       " <int> & <chr> & <chr> & <chr> & <chr>\\\\\n",
       "\\hline\n",
       "\t 220045 & num & single & obs & last\\\\\n",
       "\t 220050 & num & single & obs & last\\\\\n",
       "\t 220051 & num & single & obs & last\\\\\n",
       "\t 220052 & num & single & obs & last\\\\\n",
       "\t 220179 & num & single & obs & last\\\\\n",
       "\t 220180 & num & single & obs & last\\\\\n",
       "\\end{tabular}\n"
      ],
      "text/markdown": [
       "\n",
       "A data.table: 6 × 5\n",
       "\n",
       "| itemid &lt;int&gt; | value_type &lt;chr&gt; | time_attribute &lt;chr&gt; | acqu_type &lt;chr&gt; | agg_f &lt;chr&gt; |\n",
       "|---|---|---|---|---|\n",
       "| 220045 | num | single | obs | last |\n",
       "| 220050 | num | single | obs | last |\n",
       "| 220051 | num | single | obs | last |\n",
       "| 220052 | num | single | obs | last |\n",
       "| 220179 | num | single | obs | last |\n",
       "| 220180 | num | single | obs | last |\n",
       "\n"
      ],
      "text/plain": [
       "  itemid value_type time_attribute acqu_type agg_f\n",
       "1 220045 num        single         obs       last \n",
       "2 220050 num        single         obs       last \n",
       "3 220051 num        single         obs       last \n",
       "4 220052 num        single         obs       last \n",
       "5 220179 num        single         obs       last \n",
       "6 220180 num        single         obs       last "
      ]
     },
     "metadata": {},
     "output_type": "display_data"
    }
   ],
   "source": [
    "d_custom[1:6,]"
   ]
  },
  {
   "cell_type": "markdown",
   "metadata": {},
   "source": [
    "With this, a valid and effective variable dictionary has been constructed, providing all the information needed for subsequent processing. Strictly speaking, the EMR-LIP program actually begins from this point. Next, we will demonstrate how to quickly preprocess samples for irregular longitudinal data.\n",
    "\n",
    "#### **Generate the statistical information**"
   ]
  },
  {
   "cell_type": "code",
   "execution_count": 17,
   "metadata": {
    "vscode": {
     "languageId": "r"
    }
   },
   "outputs": [],
   "source": [
    "# Calculate statistics for each variable based on its value type for subsequent processing\n",
    "stat_vital <- get_stat_long(ds_vital, d_custom$itemid, d_custom$value_type, \"itemid\", \"value\")"
   ]
  },
  {
   "cell_type": "code",
   "execution_count": 18,
   "metadata": {
    "vscode": {
     "languageId": "r"
    }
   },
   "outputs": [],
   "source": [
    "# Without losing generality, we choose the sample with hadm_id of 29079034 as our example (we take one admission as a sample)\n",
    "ds_vital_k <- ds_vital[ds_vital$hadm_id == 29079034,]"
   ]
  },
  {
   "cell_type": "code",
   "execution_count": 19,
   "metadata": {
    "vscode": {
     "languageId": "r"
    }
   },
   "outputs": [],
   "source": [
    "# Select a time starting point that will serve as a reference time point for relative time generation, usually the patient's time of admission\n",
    "time_ref <- admissions$admittime[admissions$hadm_id==29079034]"
   ]
  },
  {
   "cell_type": "code",
   "execution_count": 20,
   "metadata": {
    "vscode": {
     "languageId": "r"
    }
   },
   "outputs": [],
   "source": [
    "# Convert the time of each observation in the long table to a relative time with reference to time_ref\n",
    "ds_vital_k$charttime_r <- as.numeric(difftime(ds_vital_k$charttime, time_ref, unit=\"hour\"))"
   ]
  },
  {
   "cell_type": "code",
   "execution_count": 21,
   "metadata": {
    "vscode": {
     "languageId": "r"
    }
   },
   "outputs": [],
   "source": [
    "# Next we can remove some extreme values\n",
    "ds_vital <- remove_extreme_value_long(ds_vital, d_custom$itemid, d_custom$value_type, \"itemid\", \"value\", neg_valid = F)"
   ]
  },
  {
   "cell_type": "code",
   "execution_count": 22,
   "metadata": {
    "vscode": {
     "languageId": "r"
    }
   },
   "outputs": [],
   "source": [
    "# Recalculate the statistics of the variables\n",
    "stat_vital <- get_stat_long(ds_vital, d_custom$itemid, d_custom$value_type, \"itemid\", \"value\")"
   ]
  },
  {
   "cell_type": "code",
   "execution_count": 23,
   "metadata": {
    "vscode": {
     "languageId": "r"
    }
   },
   "outputs": [
    {
     "data": {
      "text/html": [
       "<dl>\n",
       "\t<dt>$`220045`</dt>\n",
       "\t\t<dd><ol>\n",
       "\t<li>'num'</li>\n",
       "\t<li>86.0185278976776</li>\n",
       "\t<li>11.9320234378509</li>\n",
       "\t<li><style>\n",
       ".dl-inline {width: auto; margin:0; padding: 0}\n",
       ".dl-inline>dt, .dl-inline>dd {float: none; width: auto; display: inline-block}\n",
       ".dl-inline>dt::after {content: \":\\0020\"; padding-right: .5ex}\n",
       ".dl-inline>dt:not(:first-of-type) {padding-left: .5ex}\n",
       "</style><dl class=dl-inline><dt>0%</dt><dd>50</dd><dt>10%</dt><dd>64</dd><dt>20%</dt><dd>71</dd><dt>30%</dt><dd>76</dd><dt>40%</dt><dd>80</dd><dt>50%</dt><dd>85</dd><dt>60%</dt><dd>89</dd><dt>70%</dt><dd>94</dd><dt>80%</dt><dd>101</dd><dt>90%</dt><dd>109</dd><dt>100%</dt><dd>135</dd></dl>\n",
       "</li>\n",
       "</ol>\n",
       "</dd>\n",
       "\t<dt>$`220050`</dt>\n",
       "\t\t<dd><ol>\n",
       "\t<li>'num'</li>\n",
       "\t<li>119.068415226851</li>\n",
       "\t<li>15.0575459970665</li>\n",
       "\t<li><style>\n",
       ".dl-inline {width: auto; margin:0; padding: 0}\n",
       ".dl-inline>dt, .dl-inline>dd {float: none; width: auto; display: inline-block}\n",
       ".dl-inline>dt::after {content: \":\\0020\"; padding-right: .5ex}\n",
       ".dl-inline>dt:not(:first-of-type) {padding-left: .5ex}\n",
       "</style><dl class=dl-inline><dt>0%</dt><dd>71</dd><dt>10%</dt><dd>93</dd><dt>20%</dt><dd>100</dd><dt>30%</dt><dd>106</dd><dt>40%</dt><dd>111</dd><dt>50%</dt><dd>117</dd><dt>60%</dt><dd>122</dd><dt>70%</dt><dd>129</dd><dt>80%</dt><dd>138</dd><dt>90%</dt><dd>150</dd><dt>100%</dt><dd>184</dd></dl>\n",
       "</li>\n",
       "</ol>\n",
       "</dd>\n",
       "\t<dt>$`220051`</dt>\n",
       "\t\t<dd><ol>\n",
       "\t<li>'num'</li>\n",
       "\t<li>58.7217116589301</li>\n",
       "\t<li>8.12748450456817</li>\n",
       "\t<li><style>\n",
       ".dl-inline {width: auto; margin:0; padding: 0}\n",
       ".dl-inline>dt, .dl-inline>dd {float: none; width: auto; display: inline-block}\n",
       ".dl-inline>dt::after {content: \":\\0020\"; padding-right: .5ex}\n",
       ".dl-inline>dt:not(:first-of-type) {padding-left: .5ex}\n",
       "</style><dl class=dl-inline><dt>0%</dt><dd>34</dd><dt>10%</dt><dd>44</dd><dt>20%</dt><dd>48</dd><dt>30%</dt><dd>52</dd><dt>40%</dt><dd>54</dd><dt>50%</dt><dd>57</dd><dt>60%</dt><dd>60</dd><dt>70%</dt><dd>64</dd><dt>80%</dt><dd>68</dd><dt>90%</dt><dd>75</dd><dt>100%</dt><dd>98</dd></dl>\n",
       "</li>\n",
       "</ol>\n",
       "</dd>\n",
       "</dl>\n"
      ],
      "text/latex": [
       "\\begin{description}\n",
       "\\item[\\$`220045`] \\begin{enumerate}\n",
       "\\item 'num'\n",
       "\\item 86.0185278976776\n",
       "\\item 11.9320234378509\n",
       "\\item \\begin{description*}\n",
       "\\item[0\\textbackslash{}\\%] 50\n",
       "\\item[10\\textbackslash{}\\%] 64\n",
       "\\item[20\\textbackslash{}\\%] 71\n",
       "\\item[30\\textbackslash{}\\%] 76\n",
       "\\item[40\\textbackslash{}\\%] 80\n",
       "\\item[50\\textbackslash{}\\%] 85\n",
       "\\item[60\\textbackslash{}\\%] 89\n",
       "\\item[70\\textbackslash{}\\%] 94\n",
       "\\item[80\\textbackslash{}\\%] 101\n",
       "\\item[90\\textbackslash{}\\%] 109\n",
       "\\item[100\\textbackslash{}\\%] 135\n",
       "\\end{description*}\n",
       "\n",
       "\\end{enumerate}\n",
       "\n",
       "\\item[\\$`220050`] \\begin{enumerate}\n",
       "\\item 'num'\n",
       "\\item 119.068415226851\n",
       "\\item 15.0575459970665\n",
       "\\item \\begin{description*}\n",
       "\\item[0\\textbackslash{}\\%] 71\n",
       "\\item[10\\textbackslash{}\\%] 93\n",
       "\\item[20\\textbackslash{}\\%] 100\n",
       "\\item[30\\textbackslash{}\\%] 106\n",
       "\\item[40\\textbackslash{}\\%] 111\n",
       "\\item[50\\textbackslash{}\\%] 117\n",
       "\\item[60\\textbackslash{}\\%] 122\n",
       "\\item[70\\textbackslash{}\\%] 129\n",
       "\\item[80\\textbackslash{}\\%] 138\n",
       "\\item[90\\textbackslash{}\\%] 150\n",
       "\\item[100\\textbackslash{}\\%] 184\n",
       "\\end{description*}\n",
       "\n",
       "\\end{enumerate}\n",
       "\n",
       "\\item[\\$`220051`] \\begin{enumerate}\n",
       "\\item 'num'\n",
       "\\item 58.7217116589301\n",
       "\\item 8.12748450456817\n",
       "\\item \\begin{description*}\n",
       "\\item[0\\textbackslash{}\\%] 34\n",
       "\\item[10\\textbackslash{}\\%] 44\n",
       "\\item[20\\textbackslash{}\\%] 48\n",
       "\\item[30\\textbackslash{}\\%] 52\n",
       "\\item[40\\textbackslash{}\\%] 54\n",
       "\\item[50\\textbackslash{}\\%] 57\n",
       "\\item[60\\textbackslash{}\\%] 60\n",
       "\\item[70\\textbackslash{}\\%] 64\n",
       "\\item[80\\textbackslash{}\\%] 68\n",
       "\\item[90\\textbackslash{}\\%] 75\n",
       "\\item[100\\textbackslash{}\\%] 98\n",
       "\\end{description*}\n",
       "\n",
       "\\end{enumerate}\n",
       "\n",
       "\\end{description}\n"
      ],
      "text/markdown": [
       "$`220045`\n",
       ":   1. 'num'\n",
       "2. 86.0185278976776\n",
       "3. 11.9320234378509\n",
       "4. 0%\n",
       ":   5010%\n",
       ":   6420%\n",
       ":   7130%\n",
       ":   7640%\n",
       ":   8050%\n",
       ":   8560%\n",
       ":   8970%\n",
       ":   9480%\n",
       ":   10190%\n",
       ":   109100%\n",
       ":   135\n",
       "\n",
       "\n",
       "\n",
       "\n",
       "\n",
       "$`220050`\n",
       ":   1. 'num'\n",
       "2. 119.068415226851\n",
       "3. 15.0575459970665\n",
       "4. 0%\n",
       ":   7110%\n",
       ":   9320%\n",
       ":   10030%\n",
       ":   10640%\n",
       ":   11150%\n",
       ":   11760%\n",
       ":   12270%\n",
       ":   12980%\n",
       ":   13890%\n",
       ":   150100%\n",
       ":   184\n",
       "\n",
       "\n",
       "\n",
       "\n",
       "\n",
       "$`220051`\n",
       ":   1. 'num'\n",
       "2. 58.7217116589301\n",
       "3. 8.12748450456817\n",
       "4. 0%\n",
       ":   3410%\n",
       ":   4420%\n",
       ":   4830%\n",
       ":   5240%\n",
       ":   5450%\n",
       ":   5760%\n",
       ":   6070%\n",
       ":   6480%\n",
       ":   6890%\n",
       ":   75100%\n",
       ":   98\n",
       "\n",
       "\n",
       "\n",
       "\n",
       "\n",
       "\n",
       "\n"
      ],
      "text/plain": [
       "$`220045`\n",
       "$`220045`[[1]]\n",
       "[1] \"num\"\n",
       "\n",
       "$`220045`[[2]]\n",
       "[1] 86.01853\n",
       "\n",
       "$`220045`[[3]]\n",
       "[1] 11.93202\n",
       "\n",
       "$`220045`[[4]]\n",
       "  0%  10%  20%  30%  40%  50%  60%  70%  80%  90% 100% \n",
       "  50   64   71   76   80   85   89   94  101  109  135 \n",
       "\n",
       "\n",
       "$`220050`\n",
       "$`220050`[[1]]\n",
       "[1] \"num\"\n",
       "\n",
       "$`220050`[[2]]\n",
       "[1] 119.0684\n",
       "\n",
       "$`220050`[[3]]\n",
       "[1] 15.05755\n",
       "\n",
       "$`220050`[[4]]\n",
       "  0%  10%  20%  30%  40%  50%  60%  70%  80%  90% 100% \n",
       "  71   93  100  106  111  117  122  129  138  150  184 \n",
       "\n",
       "\n",
       "$`220051`\n",
       "$`220051`[[1]]\n",
       "[1] \"num\"\n",
       "\n",
       "$`220051`[[2]]\n",
       "[1] 58.72171\n",
       "\n",
       "$`220051`[[3]]\n",
       "[1] 8.127485\n",
       "\n",
       "$`220051`[[4]]\n",
       "  0%  10%  20%  30%  40%  50%  60%  70%  80%  90% 100% \n",
       "  34   44   48   52   54   57   60   64   68   75   98 \n",
       "\n"
      ]
     },
     "metadata": {},
     "output_type": "display_data"
    }
   ],
   "source": [
    "stat_vital[1:3]"
   ]
  },
  {
   "cell_type": "code",
   "execution_count": 24,
   "metadata": {
    "vscode": {
     "languageId": "r"
    }
   },
   "outputs": [],
   "source": [
    "# Construct an endtime column, although it has no effect on variables of type single point, but this is to unify the function interface\n",
    "ds_vital_k$timecol <- \"NA\"\n",
    "# Give a set of times you want to resample, e.g. 1 to 48 hours, with 1 hour intervals\n",
    "time_range <- 1:48\n",
    "# Remember, you need to sort the data by time before resampling\n",
    "ds_vital_k <- ds_vital_k[order(ds_vital_k$charttime_r, decreasing = F), ]"
   ]
  },
  {
   "cell_type": "markdown",
   "metadata": {},
   "source": [
    "#### **Sequence resampling**"
   ]
  },
  {
   "cell_type": "code",
   "execution_count": 25,
   "metadata": {
    "vscode": {
     "languageId": "r"
    }
   },
   "outputs": [],
   "source": [
    "# resample the long table\n",
    "ds_vital_k1 <- resample_data_long(ds_vital_k, # long table that needs resampling\n",
    "                                  d_custom$itemid, # id list of the variable\n",
    "                                  d_custom$value_type,  # The value type list of the variable\n",
    "                                  d_custom$agg_f, # aggregation method list of variables\n",
    "                                  time_range,  # aggregation method list of variables\n",
    "                                  \"itemid\",  # the column name for variable names in the long table\n",
    "                                  \"value\",  # the column name for variable value in the long table\n",
    "                                  \"charttime_r\",  # the column name for relative start times in the long table\n",
    "                                  \"timecol\",  # the column name for relative end times in the long table\n",
    "                                  1 # time interval/time window\n",
    "                                  )"
   ]
  },
  {
   "cell_type": "markdown",
   "metadata": {},
   "source": [
    "After resampling, we can see that each variable has been aligned to the given set of timestamps. Each variable occupies a separate column, and the column names correspond to the variable IDs in the variable dictionary. Additionally, there is an extra second column; if 'keep' is set to 1, it indicates that at least one variable has a non-NA observation at that timestamp."
   ]
  },
  {
   "cell_type": "code",
   "execution_count": 26,
   "metadata": {
    "vscode": {
     "languageId": "r"
    }
   },
   "outputs": [
    {
     "data": {
      "text/html": [
       "<table class=\"dataframe\">\n",
       "<caption>A matrix: 10 × 10 of type chr</caption>\n",
       "<thead>\n",
       "\t<tr><th scope=col>time</th><th scope=col>keep</th><th scope=col>220045</th><th scope=col>220050</th><th scope=col>220051</th><th scope=col>220052</th><th scope=col>220179</th><th scope=col>220180</th><th scope=col>220181</th><th scope=col>223761</th></tr>\n",
       "</thead>\n",
       "<tbody>\n",
       "\t<tr><td>1 </td><td>1</td><td>NA </td><td>NA</td><td>NA</td><td>NA</td><td>NA</td><td>NA</td><td>NA</td><td>98.7</td></tr>\n",
       "\t<tr><td>2 </td><td>1</td><td>94 </td><td>NA</td><td>NA</td><td>NA</td><td>88</td><td>56</td><td>64</td><td>98.7</td></tr>\n",
       "\t<tr><td>3 </td><td>1</td><td>105</td><td>NA</td><td>NA</td><td>NA</td><td>91</td><td>55</td><td>64</td><td>98.7</td></tr>\n",
       "\t<tr><td>4 </td><td>1</td><td>97 </td><td>NA</td><td>NA</td><td>NA</td><td>95</td><td>58</td><td>67</td><td>98.7</td></tr>\n",
       "\t<tr><td>5 </td><td>1</td><td>100</td><td>NA</td><td>NA</td><td>NA</td><td>86</td><td>53</td><td>60</td><td>98.7</td></tr>\n",
       "\t<tr><td>6 </td><td>1</td><td>97 </td><td>NA</td><td>NA</td><td>NA</td><td>93</td><td>41</td><td>56</td><td>98.7</td></tr>\n",
       "\t<tr><td>7 </td><td>1</td><td>100</td><td>NA</td><td>NA</td><td>NA</td><td>90</td><td>57</td><td>64</td><td>99.5</td></tr>\n",
       "\t<tr><td>8 </td><td>1</td><td>94 </td><td>NA</td><td>NA</td><td>NA</td><td>82</td><td>59</td><td>63</td><td>99.5</td></tr>\n",
       "\t<tr><td>9 </td><td>1</td><td>94 </td><td>NA</td><td>NA</td><td>NA</td><td>85</td><td>55</td><td>62</td><td>99.5</td></tr>\n",
       "\t<tr><td>10</td><td>1</td><td>94 </td><td>NA</td><td>NA</td><td>NA</td><td>85</td><td>55</td><td>62</td><td>99.5</td></tr>\n",
       "</tbody>\n",
       "</table>\n"
      ],
      "text/latex": [
       "A matrix: 10 × 10 of type chr\n",
       "\\begin{tabular}{llllllllll}\n",
       " time & keep & 220045 & 220050 & 220051 & 220052 & 220179 & 220180 & 220181 & 223761\\\\\n",
       "\\hline\n",
       "\t 1  & 1 & NA  & NA & NA & NA & NA & NA & NA & 98.7\\\\\n",
       "\t 2  & 1 & 94  & NA & NA & NA & 88 & 56 & 64 & 98.7\\\\\n",
       "\t 3  & 1 & 105 & NA & NA & NA & 91 & 55 & 64 & 98.7\\\\\n",
       "\t 4  & 1 & 97  & NA & NA & NA & 95 & 58 & 67 & 98.7\\\\\n",
       "\t 5  & 1 & 100 & NA & NA & NA & 86 & 53 & 60 & 98.7\\\\\n",
       "\t 6  & 1 & 97  & NA & NA & NA & 93 & 41 & 56 & 98.7\\\\\n",
       "\t 7  & 1 & 100 & NA & NA & NA & 90 & 57 & 64 & 99.5\\\\\n",
       "\t 8  & 1 & 94  & NA & NA & NA & 82 & 59 & 63 & 99.5\\\\\n",
       "\t 9  & 1 & 94  & NA & NA & NA & 85 & 55 & 62 & 99.5\\\\\n",
       "\t 10 & 1 & 94  & NA & NA & NA & 85 & 55 & 62 & 99.5\\\\\n",
       "\\end{tabular}\n"
      ],
      "text/markdown": [
       "\n",
       "A matrix: 10 × 10 of type chr\n",
       "\n",
       "| time | keep | 220045 | 220050 | 220051 | 220052 | 220179 | 220180 | 220181 | 223761 |\n",
       "|---|---|---|---|---|---|---|---|---|---|\n",
       "| 1  | 1 | NA  | NA | NA | NA | NA | NA | NA | 98.7 |\n",
       "| 2  | 1 | 94  | NA | NA | NA | 88 | 56 | 64 | 98.7 |\n",
       "| 3  | 1 | 105 | NA | NA | NA | 91 | 55 | 64 | 98.7 |\n",
       "| 4  | 1 | 97  | NA | NA | NA | 95 | 58 | 67 | 98.7 |\n",
       "| 5  | 1 | 100 | NA | NA | NA | 86 | 53 | 60 | 98.7 |\n",
       "| 6  | 1 | 97  | NA | NA | NA | 93 | 41 | 56 | 98.7 |\n",
       "| 7  | 1 | 100 | NA | NA | NA | 90 | 57 | 64 | 99.5 |\n",
       "| 8  | 1 | 94  | NA | NA | NA | 82 | 59 | 63 | 99.5 |\n",
       "| 9  | 1 | 94  | NA | NA | NA | 85 | 55 | 62 | 99.5 |\n",
       "| 10 | 1 | 94  | NA | NA | NA | 85 | 55 | 62 | 99.5 |\n",
       "\n"
      ],
      "text/plain": [
       "      time keep 220045 220050 220051 220052 220179 220180 220181 223761\n",
       " [1,] 1    1    NA     NA     NA     NA     NA     NA     NA     98.7  \n",
       " [2,] 2    1    94     NA     NA     NA     88     56     64     98.7  \n",
       " [3,] 3    1    105    NA     NA     NA     91     55     64     98.7  \n",
       " [4,] 4    1    97     NA     NA     NA     95     58     67     98.7  \n",
       " [5,] 5    1    100    NA     NA     NA     86     53     60     98.7  \n",
       " [6,] 6    1    97     NA     NA     NA     93     41     56     98.7  \n",
       " [7,] 7    1    100    NA     NA     NA     90     57     64     99.5  \n",
       " [8,] 8    1    94     NA     NA     NA     82     59     63     99.5  \n",
       " [9,] 9    1    94     NA     NA     NA     85     55     62     99.5  \n",
       "[10,] 10   1    94     NA     NA     NA     85     55     62     99.5  "
      ]
     },
     "metadata": {},
     "output_type": "display_data"
    }
   ],
   "source": [
    "ds_vital_k1[1:10,1:10]"
   ]
  },
  {
   "cell_type": "markdown",
   "metadata": {},
   "source": [
    "The 'get_fill_method' function takes the variable dictionary as both input and output, but it adds two columns to indicate the methods for filling missing values for each variable. The \"fill\" column represents the method for filling gaps when there is at least one observation of the variable within the entire time range, while the \"fillall\" column represents the method for filling when there are no observations of the variable across the entire time range."
   ]
  },
  {
   "cell_type": "code",
   "execution_count": 27,
   "metadata": {
    "vscode": {
     "languageId": "r"
    }
   },
   "outputs": [],
   "source": [
    "d_custom <- get_fill_method(d_custom)"
   ]
  },
  {
   "cell_type": "code",
   "execution_count": 28,
   "metadata": {
    "vscode": {
     "languageId": "r"
    }
   },
   "outputs": [
    {
     "data": {
      "text/html": [
       "<table class=\"dataframe\">\n",
       "<caption>A data.table: 4 × 7</caption>\n",
       "<thead>\n",
       "\t<tr><th scope=col>itemid</th><th scope=col>value_type</th><th scope=col>time_attribute</th><th scope=col>acqu_type</th><th scope=col>agg_f</th><th scope=col>fill</th><th scope=col>fillall</th></tr>\n",
       "\t<tr><th scope=col>&lt;int&gt;</th><th scope=col>&lt;chr&gt;</th><th scope=col>&lt;chr&gt;</th><th scope=col>&lt;chr&gt;</th><th scope=col>&lt;chr&gt;</th><th scope=col>&lt;chr&gt;</th><th scope=col>&lt;chr&gt;</th></tr>\n",
       "</thead>\n",
       "<tbody>\n",
       "\t<tr><td>220045</td><td>num</td><td>single</td><td>obs</td><td>last</td><td>locf</td><td>mean</td></tr>\n",
       "\t<tr><td>220050</td><td>num</td><td>single</td><td>obs</td><td>last</td><td>locf</td><td>mean</td></tr>\n",
       "\t<tr><td>220051</td><td>num</td><td>single</td><td>obs</td><td>last</td><td>locf</td><td>mean</td></tr>\n",
       "\t<tr><td>220052</td><td>num</td><td>single</td><td>obs</td><td>last</td><td>locf</td><td>mean</td></tr>\n",
       "</tbody>\n",
       "</table>\n"
      ],
      "text/latex": [
       "A data.table: 4 × 7\n",
       "\\begin{tabular}{lllllll}\n",
       " itemid & value\\_type & time\\_attribute & acqu\\_type & agg\\_f & fill & fillall\\\\\n",
       " <int> & <chr> & <chr> & <chr> & <chr> & <chr> & <chr>\\\\\n",
       "\\hline\n",
       "\t 220045 & num & single & obs & last & locf & mean\\\\\n",
       "\t 220050 & num & single & obs & last & locf & mean\\\\\n",
       "\t 220051 & num & single & obs & last & locf & mean\\\\\n",
       "\t 220052 & num & single & obs & last & locf & mean\\\\\n",
       "\\end{tabular}\n"
      ],
      "text/markdown": [
       "\n",
       "A data.table: 4 × 7\n",
       "\n",
       "| itemid &lt;int&gt; | value_type &lt;chr&gt; | time_attribute &lt;chr&gt; | acqu_type &lt;chr&gt; | agg_f &lt;chr&gt; | fill &lt;chr&gt; | fillall &lt;chr&gt; |\n",
       "|---|---|---|---|---|---|---|\n",
       "| 220045 | num | single | obs | last | locf | mean |\n",
       "| 220050 | num | single | obs | last | locf | mean |\n",
       "| 220051 | num | single | obs | last | locf | mean |\n",
       "| 220052 | num | single | obs | last | locf | mean |\n",
       "\n"
      ],
      "text/plain": [
       "  itemid value_type time_attribute acqu_type agg_f fill fillall\n",
       "1 220045 num        single         obs       last  locf mean   \n",
       "2 220050 num        single         obs       last  locf mean   \n",
       "3 220051 num        single         obs       last  locf mean   \n",
       "4 220052 num        single         obs       last  locf mean   "
      ]
     },
     "metadata": {},
     "output_type": "display_data"
    }
   ],
   "source": [
    "d_custom[1:4,]"
   ]
  },
  {
   "cell_type": "markdown",
   "metadata": {},
   "source": [
    "#### **Data imputation**"
   ]
  },
  {
   "cell_type": "code",
   "execution_count": 29,
   "metadata": {
    "vscode": {
     "languageId": "r"
    }
   },
   "outputs": [],
   "source": [
    "ds_vital_k2 <- fill(ds_vital_k1,  # wide table to fill\n",
    "                    3:ncol(ds_vital_k1),  # The index of the column to be filled\n",
    "                    1,  # Index of the time column\n",
    "                    d_custom$value_type,  # value type list\n",
    "                    d_custom$fill,  # fill method list\n",
    "                    d_custom$fillall, # fillall method list \n",
    "                    stat_vital # List of statistics (this was previously generated using the get_stat_* function)\n",
    "                    )"
   ]
  },
  {
   "cell_type": "code",
   "execution_count": 30,
   "metadata": {
    "vscode": {
     "languageId": "r"
    }
   },
   "outputs": [
    {
     "data": {
      "text/html": [
       "<table class=\"dataframe\">\n",
       "<caption>A matrix: 10 × 10 of type chr</caption>\n",
       "<thead>\n",
       "\t<tr><th scope=col>time</th><th scope=col>220045</th><th scope=col>220050</th><th scope=col>220051</th><th scope=col>220052</th><th scope=col>220179</th><th scope=col>220180</th><th scope=col>220181</th><th scope=col>223761</th><th scope=col>223762</th></tr>\n",
       "</thead>\n",
       "<tbody>\n",
       "\t<tr><td>1 </td><td>94 </td><td>119.068415226851</td><td>58.7217116589301</td><td>78.7468714221984</td><td>88</td><td>56</td><td>64</td><td>98.7</td><td>36.9328261615236</td></tr>\n",
       "\t<tr><td>2 </td><td>94 </td><td>119.068415226851</td><td>58.7217116589301</td><td>78.7468714221984</td><td>88</td><td>56</td><td>64</td><td>98.7</td><td>36.9328261615236</td></tr>\n",
       "\t<tr><td>3 </td><td>105</td><td>119.068415226851</td><td>58.7217116589301</td><td>78.7468714221984</td><td>91</td><td>55</td><td>64</td><td>98.7</td><td>36.9328261615236</td></tr>\n",
       "\t<tr><td>4 </td><td>97 </td><td>119.068415226851</td><td>58.7217116589301</td><td>78.7468714221984</td><td>95</td><td>58</td><td>67</td><td>98.7</td><td>36.9328261615236</td></tr>\n",
       "\t<tr><td>5 </td><td>100</td><td>119.068415226851</td><td>58.7217116589301</td><td>78.7468714221984</td><td>86</td><td>53</td><td>60</td><td>98.7</td><td>36.9328261615236</td></tr>\n",
       "\t<tr><td>6 </td><td>97 </td><td>119.068415226851</td><td>58.7217116589301</td><td>78.7468714221984</td><td>93</td><td>41</td><td>56</td><td>98.7</td><td>36.9328261615236</td></tr>\n",
       "\t<tr><td>7 </td><td>100</td><td>119.068415226851</td><td>58.7217116589301</td><td>78.7468714221984</td><td>90</td><td>57</td><td>64</td><td>99.5</td><td>36.9328261615236</td></tr>\n",
       "\t<tr><td>8 </td><td>94 </td><td>119.068415226851</td><td>58.7217116589301</td><td>78.7468714221984</td><td>82</td><td>59</td><td>63</td><td>99.5</td><td>36.9328261615236</td></tr>\n",
       "\t<tr><td>9 </td><td>94 </td><td>119.068415226851</td><td>58.7217116589301</td><td>78.7468714221984</td><td>85</td><td>55</td><td>62</td><td>99.5</td><td>36.9328261615236</td></tr>\n",
       "\t<tr><td>10</td><td>94 </td><td>119.068415226851</td><td>58.7217116589301</td><td>78.7468714221984</td><td>85</td><td>55</td><td>62</td><td>99.5</td><td>36.9328261615236</td></tr>\n",
       "</tbody>\n",
       "</table>\n"
      ],
      "text/latex": [
       "A matrix: 10 × 10 of type chr\n",
       "\\begin{tabular}{llllllllll}\n",
       " time & 220045 & 220050 & 220051 & 220052 & 220179 & 220180 & 220181 & 223761 & 223762\\\\\n",
       "\\hline\n",
       "\t 1  & 94  & 119.068415226851 & 58.7217116589301 & 78.7468714221984 & 88 & 56 & 64 & 98.7 & 36.9328261615236\\\\\n",
       "\t 2  & 94  & 119.068415226851 & 58.7217116589301 & 78.7468714221984 & 88 & 56 & 64 & 98.7 & 36.9328261615236\\\\\n",
       "\t 3  & 105 & 119.068415226851 & 58.7217116589301 & 78.7468714221984 & 91 & 55 & 64 & 98.7 & 36.9328261615236\\\\\n",
       "\t 4  & 97  & 119.068415226851 & 58.7217116589301 & 78.7468714221984 & 95 & 58 & 67 & 98.7 & 36.9328261615236\\\\\n",
       "\t 5  & 100 & 119.068415226851 & 58.7217116589301 & 78.7468714221984 & 86 & 53 & 60 & 98.7 & 36.9328261615236\\\\\n",
       "\t 6  & 97  & 119.068415226851 & 58.7217116589301 & 78.7468714221984 & 93 & 41 & 56 & 98.7 & 36.9328261615236\\\\\n",
       "\t 7  & 100 & 119.068415226851 & 58.7217116589301 & 78.7468714221984 & 90 & 57 & 64 & 99.5 & 36.9328261615236\\\\\n",
       "\t 8  & 94  & 119.068415226851 & 58.7217116589301 & 78.7468714221984 & 82 & 59 & 63 & 99.5 & 36.9328261615236\\\\\n",
       "\t 9  & 94  & 119.068415226851 & 58.7217116589301 & 78.7468714221984 & 85 & 55 & 62 & 99.5 & 36.9328261615236\\\\\n",
       "\t 10 & 94  & 119.068415226851 & 58.7217116589301 & 78.7468714221984 & 85 & 55 & 62 & 99.5 & 36.9328261615236\\\\\n",
       "\\end{tabular}\n"
      ],
      "text/markdown": [
       "\n",
       "A matrix: 10 × 10 of type chr\n",
       "\n",
       "| time | 220045 | 220050 | 220051 | 220052 | 220179 | 220180 | 220181 | 223761 | 223762 |\n",
       "|---|---|---|---|---|---|---|---|---|---|\n",
       "| 1  | 94  | 119.068415226851 | 58.7217116589301 | 78.7468714221984 | 88 | 56 | 64 | 98.7 | 36.9328261615236 |\n",
       "| 2  | 94  | 119.068415226851 | 58.7217116589301 | 78.7468714221984 | 88 | 56 | 64 | 98.7 | 36.9328261615236 |\n",
       "| 3  | 105 | 119.068415226851 | 58.7217116589301 | 78.7468714221984 | 91 | 55 | 64 | 98.7 | 36.9328261615236 |\n",
       "| 4  | 97  | 119.068415226851 | 58.7217116589301 | 78.7468714221984 | 95 | 58 | 67 | 98.7 | 36.9328261615236 |\n",
       "| 5  | 100 | 119.068415226851 | 58.7217116589301 | 78.7468714221984 | 86 | 53 | 60 | 98.7 | 36.9328261615236 |\n",
       "| 6  | 97  | 119.068415226851 | 58.7217116589301 | 78.7468714221984 | 93 | 41 | 56 | 98.7 | 36.9328261615236 |\n",
       "| 7  | 100 | 119.068415226851 | 58.7217116589301 | 78.7468714221984 | 90 | 57 | 64 | 99.5 | 36.9328261615236 |\n",
       "| 8  | 94  | 119.068415226851 | 58.7217116589301 | 78.7468714221984 | 82 | 59 | 63 | 99.5 | 36.9328261615236 |\n",
       "| 9  | 94  | 119.068415226851 | 58.7217116589301 | 78.7468714221984 | 85 | 55 | 62 | 99.5 | 36.9328261615236 |\n",
       "| 10 | 94  | 119.068415226851 | 58.7217116589301 | 78.7468714221984 | 85 | 55 | 62 | 99.5 | 36.9328261615236 |\n",
       "\n"
      ],
      "text/plain": [
       "      time 220045 220050           220051           220052           220179\n",
       " [1,] 1    94     119.068415226851 58.7217116589301 78.7468714221984 88    \n",
       " [2,] 2    94     119.068415226851 58.7217116589301 78.7468714221984 88    \n",
       " [3,] 3    105    119.068415226851 58.7217116589301 78.7468714221984 91    \n",
       " [4,] 4    97     119.068415226851 58.7217116589301 78.7468714221984 95    \n",
       " [5,] 5    100    119.068415226851 58.7217116589301 78.7468714221984 86    \n",
       " [6,] 6    97     119.068415226851 58.7217116589301 78.7468714221984 93    \n",
       " [7,] 7    100    119.068415226851 58.7217116589301 78.7468714221984 90    \n",
       " [8,] 8    94     119.068415226851 58.7217116589301 78.7468714221984 82    \n",
       " [9,] 9    94     119.068415226851 58.7217116589301 78.7468714221984 85    \n",
       "[10,] 10   94     119.068415226851 58.7217116589301 78.7468714221984 85    \n",
       "      220180 220181 223761 223762          \n",
       " [1,] 56     64     98.7   36.9328261615236\n",
       " [2,] 56     64     98.7   36.9328261615236\n",
       " [3,] 55     64     98.7   36.9328261615236\n",
       " [4,] 58     67     98.7   36.9328261615236\n",
       " [5,] 53     60     98.7   36.9328261615236\n",
       " [6,] 41     56     98.7   36.9328261615236\n",
       " [7,] 57     64     99.5   36.9328261615236\n",
       " [8,] 59     63     99.5   36.9328261615236\n",
       " [9,] 55     62     99.5   36.9328261615236\n",
       "[10,] 55     62     99.5   36.9328261615236"
      ]
     },
     "metadata": {},
     "output_type": "display_data"
    }
   ],
   "source": [
    "ds_vital_k2[1:10,1:10]"
   ]
  },
  {
   "cell_type": "markdown",
   "metadata": {},
   "source": [
    "#### **Variable transformation**"
   ]
  },
  {
   "cell_type": "code",
   "execution_count": 31,
   "metadata": {
    "vscode": {
     "languageId": "r"
    }
   },
   "outputs": [],
   "source": [
    "ds_vital_k2 <- norm_num(ds_vital_k2,  # wide table that needs to be normalized\n",
    "                        2:ncol(ds_vital_k2), # Index of the column that needs to be processed\n",
    "                        1, # Index of the time column\n",
    "                        d_custom$value_type,  # value type list\n",
    "                        stat_vital # List of statistics (this was previously generated using the get_stat_* function)\n",
    "                        )"
   ]
  },
  {
   "cell_type": "code",
   "execution_count": 32,
   "metadata": {
    "vscode": {
     "languageId": "r"
    }
   },
   "outputs": [
    {
     "data": {
      "text/html": [
       "<table class=\"dataframe\">\n",
       "<caption>A matrix: 10 × 10 of type chr</caption>\n",
       "<thead>\n",
       "\t<tr><th scope=col>time</th><th scope=col>220045</th><th scope=col>220050</th><th scope=col>220051</th><th scope=col>220052</th><th scope=col>220179</th><th scope=col>220180</th><th scope=col>220181</th><th scope=col>223761</th><th scope=col>223762</th></tr>\n",
       "</thead>\n",
       "<tbody>\n",
       "\t<tr><td>1 </td><td>0.6689118132</td><td>0</td><td>0</td><td>0</td><td>-2.142094516 </td><td>-0.8735569127</td><td>-1.4086559815</td><td>0.2689092536</td><td>0</td></tr>\n",
       "\t<tr><td>2 </td><td>0.6689118132</td><td>0</td><td>0</td><td>0</td><td>-2.142094516 </td><td>-0.8735569127</td><td>-1.4086559815</td><td>0.2689092536</td><td>0</td></tr>\n",
       "\t<tr><td>3 </td><td>1.5908006392</td><td>0</td><td>0</td><td>0</td><td>-1.9382515751</td><td>-0.9736575371</td><td>-1.4086559815</td><td>0.2689092536</td><td>0</td></tr>\n",
       "\t<tr><td>4 </td><td>0.9203360385</td><td>0</td><td>0</td><td>0</td><td>-1.6664609872</td><td>-0.6733556641</td><td>-1.1115263477</td><td>0.2689092536</td><td>0</td></tr>\n",
       "\t<tr><td>5 </td><td>1.1717602637</td><td>0</td><td>0</td><td>0</td><td>-2.27798981  </td><td>-1.1738587858</td><td>-1.8048288266</td><td>0.2689092536</td><td>0</td></tr>\n",
       "\t<tr><td>6 </td><td>0.9203360385</td><td>0</td><td>0</td><td>0</td><td>-1.8023562811</td><td>-2.3750662779</td><td>-2.2010016718</td><td>0.2689092536</td><td>0</td></tr>\n",
       "\t<tr><td>7 </td><td>1.1717602637</td><td>0</td><td>0</td><td>0</td><td>-2.0061992221</td><td>-0.7734562884</td><td>-1.4086559815</td><td>1.5609787465</td><td>0</td></tr>\n",
       "\t<tr><td>8 </td><td>0.6689118132</td><td>0</td><td>0</td><td>0</td><td>-2.5497803978</td><td>-0.5732550397</td><td>-1.5076991928</td><td>1.5609787465</td><td>0</td></tr>\n",
       "\t<tr><td>9 </td><td>0.6689118132</td><td>0</td><td>0</td><td>0</td><td>-2.3459374569</td><td>-0.9736575371</td><td>-1.6067424041</td><td>1.5609787465</td><td>0</td></tr>\n",
       "\t<tr><td>10</td><td>0.6689118132</td><td>0</td><td>0</td><td>0</td><td>-2.3459374569</td><td>-0.9736575371</td><td>-1.6067424041</td><td>1.5609787465</td><td>0</td></tr>\n",
       "</tbody>\n",
       "</table>\n"
      ],
      "text/latex": [
       "A matrix: 10 × 10 of type chr\n",
       "\\begin{tabular}{llllllllll}\n",
       " time & 220045 & 220050 & 220051 & 220052 & 220179 & 220180 & 220181 & 223761 & 223762\\\\\n",
       "\\hline\n",
       "\t 1  & 0.6689118132 & 0 & 0 & 0 & -2.142094516  & -0.8735569127 & -1.4086559815 & 0.2689092536 & 0\\\\\n",
       "\t 2  & 0.6689118132 & 0 & 0 & 0 & -2.142094516  & -0.8735569127 & -1.4086559815 & 0.2689092536 & 0\\\\\n",
       "\t 3  & 1.5908006392 & 0 & 0 & 0 & -1.9382515751 & -0.9736575371 & -1.4086559815 & 0.2689092536 & 0\\\\\n",
       "\t 4  & 0.9203360385 & 0 & 0 & 0 & -1.6664609872 & -0.6733556641 & -1.1115263477 & 0.2689092536 & 0\\\\\n",
       "\t 5  & 1.1717602637 & 0 & 0 & 0 & -2.27798981   & -1.1738587858 & -1.8048288266 & 0.2689092536 & 0\\\\\n",
       "\t 6  & 0.9203360385 & 0 & 0 & 0 & -1.8023562811 & -2.3750662779 & -2.2010016718 & 0.2689092536 & 0\\\\\n",
       "\t 7  & 1.1717602637 & 0 & 0 & 0 & -2.0061992221 & -0.7734562884 & -1.4086559815 & 1.5609787465 & 0\\\\\n",
       "\t 8  & 0.6689118132 & 0 & 0 & 0 & -2.5497803978 & -0.5732550397 & -1.5076991928 & 1.5609787465 & 0\\\\\n",
       "\t 9  & 0.6689118132 & 0 & 0 & 0 & -2.3459374569 & -0.9736575371 & -1.6067424041 & 1.5609787465 & 0\\\\\n",
       "\t 10 & 0.6689118132 & 0 & 0 & 0 & -2.3459374569 & -0.9736575371 & -1.6067424041 & 1.5609787465 & 0\\\\\n",
       "\\end{tabular}\n"
      ],
      "text/markdown": [
       "\n",
       "A matrix: 10 × 10 of type chr\n",
       "\n",
       "| time | 220045 | 220050 | 220051 | 220052 | 220179 | 220180 | 220181 | 223761 | 223762 |\n",
       "|---|---|---|---|---|---|---|---|---|---|\n",
       "| 1  | 0.6689118132 | 0 | 0 | 0 | -2.142094516  | -0.8735569127 | -1.4086559815 | 0.2689092536 | 0 |\n",
       "| 2  | 0.6689118132 | 0 | 0 | 0 | -2.142094516  | -0.8735569127 | -1.4086559815 | 0.2689092536 | 0 |\n",
       "| 3  | 1.5908006392 | 0 | 0 | 0 | -1.9382515751 | -0.9736575371 | -1.4086559815 | 0.2689092536 | 0 |\n",
       "| 4  | 0.9203360385 | 0 | 0 | 0 | -1.6664609872 | -0.6733556641 | -1.1115263477 | 0.2689092536 | 0 |\n",
       "| 5  | 1.1717602637 | 0 | 0 | 0 | -2.27798981   | -1.1738587858 | -1.8048288266 | 0.2689092536 | 0 |\n",
       "| 6  | 0.9203360385 | 0 | 0 | 0 | -1.8023562811 | -2.3750662779 | -2.2010016718 | 0.2689092536 | 0 |\n",
       "| 7  | 1.1717602637 | 0 | 0 | 0 | -2.0061992221 | -0.7734562884 | -1.4086559815 | 1.5609787465 | 0 |\n",
       "| 8  | 0.6689118132 | 0 | 0 | 0 | -2.5497803978 | -0.5732550397 | -1.5076991928 | 1.5609787465 | 0 |\n",
       "| 9  | 0.6689118132 | 0 | 0 | 0 | -2.3459374569 | -0.9736575371 | -1.6067424041 | 1.5609787465 | 0 |\n",
       "| 10 | 0.6689118132 | 0 | 0 | 0 | -2.3459374569 | -0.9736575371 | -1.6067424041 | 1.5609787465 | 0 |\n",
       "\n"
      ],
      "text/plain": [
       "      time 220045       220050 220051 220052 220179        220180       \n",
       " [1,] 1    0.6689118132 0      0      0      -2.142094516  -0.8735569127\n",
       " [2,] 2    0.6689118132 0      0      0      -2.142094516  -0.8735569127\n",
       " [3,] 3    1.5908006392 0      0      0      -1.9382515751 -0.9736575371\n",
       " [4,] 4    0.9203360385 0      0      0      -1.6664609872 -0.6733556641\n",
       " [5,] 5    1.1717602637 0      0      0      -2.27798981   -1.1738587858\n",
       " [6,] 6    0.9203360385 0      0      0      -1.8023562811 -2.3750662779\n",
       " [7,] 7    1.1717602637 0      0      0      -2.0061992221 -0.7734562884\n",
       " [8,] 8    0.6689118132 0      0      0      -2.5497803978 -0.5732550397\n",
       " [9,] 9    0.6689118132 0      0      0      -2.3459374569 -0.9736575371\n",
       "[10,] 10   0.6689118132 0      0      0      -2.3459374569 -0.9736575371\n",
       "      220181        223761       223762\n",
       " [1,] -1.4086559815 0.2689092536 0     \n",
       " [2,] -1.4086559815 0.2689092536 0     \n",
       " [3,] -1.4086559815 0.2689092536 0     \n",
       " [4,] -1.1115263477 0.2689092536 0     \n",
       " [5,] -1.8048288266 0.2689092536 0     \n",
       " [6,] -2.2010016718 0.2689092536 0     \n",
       " [7,] -1.4086559815 1.5609787465 0     \n",
       " [8,] -1.5076991928 1.5609787465 0     \n",
       " [9,] -1.6067424041 1.5609787465 0     \n",
       "[10,] -1.6067424041 1.5609787465 0     "
      ]
     },
     "metadata": {},
     "output_type": "display_data"
    }
   ],
   "source": [
    "ds_vital_k2[1:10,1:10]"
   ]
  },
  {
   "cell_type": "code",
   "execution_count": 33,
   "metadata": {
    "vscode": {
     "languageId": "r"
    }
   },
   "outputs": [],
   "source": [
    "ds_vital_k2 <- to_onehot(ds_vital_k2, # wide table that requires one_hot transformation\n",
    "                         2:ncol(ds_vital_k2), # Index of the column that needs to be processed\n",
    "                         1, # Index of the time column\n",
    "                         d_custom$value_type,  # value type list\n",
    "                         stat_vital # List of statistics (this was previously generated using the get_stat_* function)\n",
    "                         )"
   ]
  },
  {
   "cell_type": "markdown",
   "metadata": {},
   "source": [
    "$\\mathbf{X}$"
   ]
  },
  {
   "cell_type": "code",
   "execution_count": 34,
   "metadata": {
    "vscode": {
     "languageId": "r"
    }
   },
   "outputs": [
    {
     "data": {
      "text/html": [
       "<table class=\"dataframe\">\n",
       "<caption>A matrix: 4 × 10 of type chr</caption>\n",
       "<thead>\n",
       "\t<tr><th scope=col>time</th><th scope=col>220045</th><th scope=col>220050</th><th scope=col>220051</th><th scope=col>220052</th><th scope=col>220179</th><th scope=col>220180</th><th scope=col>220181</th><th scope=col>223761</th><th scope=col>223762</th></tr>\n",
       "</thead>\n",
       "<tbody>\n",
       "\t<tr><td>1</td><td>0.6689118132</td><td>0</td><td>0</td><td>0</td><td>-2.142094516 </td><td>-0.8735569127</td><td>-1.4086559815</td><td>0.2689092536</td><td>0</td></tr>\n",
       "\t<tr><td>2</td><td>0.6689118132</td><td>0</td><td>0</td><td>0</td><td>-2.142094516 </td><td>-0.8735569127</td><td>-1.4086559815</td><td>0.2689092536</td><td>0</td></tr>\n",
       "\t<tr><td>3</td><td>1.5908006392</td><td>0</td><td>0</td><td>0</td><td>-1.9382515751</td><td>-0.9736575371</td><td>-1.4086559815</td><td>0.2689092536</td><td>0</td></tr>\n",
       "\t<tr><td>4</td><td>0.9203360385</td><td>0</td><td>0</td><td>0</td><td>-1.6664609872</td><td>-0.6733556641</td><td>-1.1115263477</td><td>0.2689092536</td><td>0</td></tr>\n",
       "</tbody>\n",
       "</table>\n"
      ],
      "text/latex": [
       "A matrix: 4 × 10 of type chr\n",
       "\\begin{tabular}{llllllllll}\n",
       " time & 220045 & 220050 & 220051 & 220052 & 220179 & 220180 & 220181 & 223761 & 223762\\\\\n",
       "\\hline\n",
       "\t 1 & 0.6689118132 & 0 & 0 & 0 & -2.142094516  & -0.8735569127 & -1.4086559815 & 0.2689092536 & 0\\\\\n",
       "\t 2 & 0.6689118132 & 0 & 0 & 0 & -2.142094516  & -0.8735569127 & -1.4086559815 & 0.2689092536 & 0\\\\\n",
       "\t 3 & 1.5908006392 & 0 & 0 & 0 & -1.9382515751 & -0.9736575371 & -1.4086559815 & 0.2689092536 & 0\\\\\n",
       "\t 4 & 0.9203360385 & 0 & 0 & 0 & -1.6664609872 & -0.6733556641 & -1.1115263477 & 0.2689092536 & 0\\\\\n",
       "\\end{tabular}\n"
      ],
      "text/markdown": [
       "\n",
       "A matrix: 4 × 10 of type chr\n",
       "\n",
       "| time | 220045 | 220050 | 220051 | 220052 | 220179 | 220180 | 220181 | 223761 | 223762 |\n",
       "|---|---|---|---|---|---|---|---|---|---|\n",
       "| 1 | 0.6689118132 | 0 | 0 | 0 | -2.142094516  | -0.8735569127 | -1.4086559815 | 0.2689092536 | 0 |\n",
       "| 2 | 0.6689118132 | 0 | 0 | 0 | -2.142094516  | -0.8735569127 | -1.4086559815 | 0.2689092536 | 0 |\n",
       "| 3 | 1.5908006392 | 0 | 0 | 0 | -1.9382515751 | -0.9736575371 | -1.4086559815 | 0.2689092536 | 0 |\n",
       "| 4 | 0.9203360385 | 0 | 0 | 0 | -1.6664609872 | -0.6733556641 | -1.1115263477 | 0.2689092536 | 0 |\n",
       "\n"
      ],
      "text/plain": [
       "     time 220045       220050 220051 220052 220179        220180       \n",
       "[1,] 1    0.6689118132 0      0      0      -2.142094516  -0.8735569127\n",
       "[2,] 2    0.6689118132 0      0      0      -2.142094516  -0.8735569127\n",
       "[3,] 3    1.5908006392 0      0      0      -1.9382515751 -0.9736575371\n",
       "[4,] 4    0.9203360385 0      0      0      -1.6664609872 -0.6733556641\n",
       "     220181        223761       223762\n",
       "[1,] -1.4086559815 0.2689092536 0     \n",
       "[2,] -1.4086559815 0.2689092536 0     \n",
       "[3,] -1.4086559815 0.2689092536 0     \n",
       "[4,] -1.1115263477 0.2689092536 0     "
      ]
     },
     "metadata": {},
     "output_type": "display_data"
    }
   ],
   "source": [
    "ds_vital_k2[1:4,1:10]"
   ]
  },
  {
   "cell_type": "markdown",
   "metadata": {},
   "source": [
    "#### **Feature engineering**\n",
    "\n",
    "$\\mathbf{M}$"
   ]
  },
  {
   "cell_type": "code",
   "execution_count": 35,
   "metadata": {
    "vscode": {
     "languageId": "r"
    }
   },
   "outputs": [],
   "source": [
    "mask_k1 <- get_mask(ds_vital_k1, 3:ncol(ds_vital_k1), 1)\n",
    "mask_k1 <- shape_as_onehot(mask_k1, 2:ncol(mask_k1), 1, get_type(stat_vital), stat_vital)"
   ]
  },
  {
   "cell_type": "code",
   "execution_count": 36,
   "metadata": {
    "vscode": {
     "languageId": "r"
    }
   },
   "outputs": [
    {
     "data": {
      "text/html": [
       "<table class=\"dataframe\">\n",
       "<caption>A matrix: 10 × 10 of type chr</caption>\n",
       "<thead>\n",
       "\t<tr><th scope=col>time</th><th scope=col>220045</th><th scope=col>220050</th><th scope=col>220051</th><th scope=col>220052</th><th scope=col>220179</th><th scope=col>220180</th><th scope=col>220181</th><th scope=col>223761</th><th scope=col>223762</th></tr>\n",
       "</thead>\n",
       "<tbody>\n",
       "\t<tr><td>1 </td><td>0</td><td>0</td><td>0</td><td>0</td><td>0</td><td>0</td><td>0</td><td>1</td><td>0</td></tr>\n",
       "\t<tr><td>2 </td><td>1</td><td>0</td><td>0</td><td>0</td><td>1</td><td>1</td><td>1</td><td>1</td><td>0</td></tr>\n",
       "\t<tr><td>3 </td><td>1</td><td>0</td><td>0</td><td>0</td><td>1</td><td>1</td><td>1</td><td>1</td><td>0</td></tr>\n",
       "\t<tr><td>4 </td><td>1</td><td>0</td><td>0</td><td>0</td><td>1</td><td>1</td><td>1</td><td>1</td><td>0</td></tr>\n",
       "\t<tr><td>5 </td><td>1</td><td>0</td><td>0</td><td>0</td><td>1</td><td>1</td><td>1</td><td>1</td><td>0</td></tr>\n",
       "\t<tr><td>6 </td><td>1</td><td>0</td><td>0</td><td>0</td><td>1</td><td>1</td><td>1</td><td>1</td><td>0</td></tr>\n",
       "\t<tr><td>7 </td><td>1</td><td>0</td><td>0</td><td>0</td><td>1</td><td>1</td><td>1</td><td>1</td><td>0</td></tr>\n",
       "\t<tr><td>8 </td><td>1</td><td>0</td><td>0</td><td>0</td><td>1</td><td>1</td><td>1</td><td>1</td><td>0</td></tr>\n",
       "\t<tr><td>9 </td><td>1</td><td>0</td><td>0</td><td>0</td><td>1</td><td>1</td><td>1</td><td>1</td><td>0</td></tr>\n",
       "\t<tr><td>10</td><td>1</td><td>0</td><td>0</td><td>0</td><td>1</td><td>1</td><td>1</td><td>1</td><td>0</td></tr>\n",
       "</tbody>\n",
       "</table>\n"
      ],
      "text/latex": [
       "A matrix: 10 × 10 of type chr\n",
       "\\begin{tabular}{llllllllll}\n",
       " time & 220045 & 220050 & 220051 & 220052 & 220179 & 220180 & 220181 & 223761 & 223762\\\\\n",
       "\\hline\n",
       "\t 1  & 0 & 0 & 0 & 0 & 0 & 0 & 0 & 1 & 0\\\\\n",
       "\t 2  & 1 & 0 & 0 & 0 & 1 & 1 & 1 & 1 & 0\\\\\n",
       "\t 3  & 1 & 0 & 0 & 0 & 1 & 1 & 1 & 1 & 0\\\\\n",
       "\t 4  & 1 & 0 & 0 & 0 & 1 & 1 & 1 & 1 & 0\\\\\n",
       "\t 5  & 1 & 0 & 0 & 0 & 1 & 1 & 1 & 1 & 0\\\\\n",
       "\t 6  & 1 & 0 & 0 & 0 & 1 & 1 & 1 & 1 & 0\\\\\n",
       "\t 7  & 1 & 0 & 0 & 0 & 1 & 1 & 1 & 1 & 0\\\\\n",
       "\t 8  & 1 & 0 & 0 & 0 & 1 & 1 & 1 & 1 & 0\\\\\n",
       "\t 9  & 1 & 0 & 0 & 0 & 1 & 1 & 1 & 1 & 0\\\\\n",
       "\t 10 & 1 & 0 & 0 & 0 & 1 & 1 & 1 & 1 & 0\\\\\n",
       "\\end{tabular}\n"
      ],
      "text/markdown": [
       "\n",
       "A matrix: 10 × 10 of type chr\n",
       "\n",
       "| time | 220045 | 220050 | 220051 | 220052 | 220179 | 220180 | 220181 | 223761 | 223762 |\n",
       "|---|---|---|---|---|---|---|---|---|---|\n",
       "| 1  | 0 | 0 | 0 | 0 | 0 | 0 | 0 | 1 | 0 |\n",
       "| 2  | 1 | 0 | 0 | 0 | 1 | 1 | 1 | 1 | 0 |\n",
       "| 3  | 1 | 0 | 0 | 0 | 1 | 1 | 1 | 1 | 0 |\n",
       "| 4  | 1 | 0 | 0 | 0 | 1 | 1 | 1 | 1 | 0 |\n",
       "| 5  | 1 | 0 | 0 | 0 | 1 | 1 | 1 | 1 | 0 |\n",
       "| 6  | 1 | 0 | 0 | 0 | 1 | 1 | 1 | 1 | 0 |\n",
       "| 7  | 1 | 0 | 0 | 0 | 1 | 1 | 1 | 1 | 0 |\n",
       "| 8  | 1 | 0 | 0 | 0 | 1 | 1 | 1 | 1 | 0 |\n",
       "| 9  | 1 | 0 | 0 | 0 | 1 | 1 | 1 | 1 | 0 |\n",
       "| 10 | 1 | 0 | 0 | 0 | 1 | 1 | 1 | 1 | 0 |\n",
       "\n"
      ],
      "text/plain": [
       "      time 220045 220050 220051 220052 220179 220180 220181 223761 223762\n",
       " [1,] 1    0      0      0      0      0      0      0      1      0     \n",
       " [2,] 2    1      0      0      0      1      1      1      1      0     \n",
       " [3,] 3    1      0      0      0      1      1      1      1      0     \n",
       " [4,] 4    1      0      0      0      1      1      1      1      0     \n",
       " [5,] 5    1      0      0      0      1      1      1      1      0     \n",
       " [6,] 6    1      0      0      0      1      1      1      1      0     \n",
       " [7,] 7    1      0      0      0      1      1      1      1      0     \n",
       " [8,] 8    1      0      0      0      1      1      1      1      0     \n",
       " [9,] 9    1      0      0      0      1      1      1      1      0     \n",
       "[10,] 10   1      0      0      0      1      1      1      1      0     "
      ]
     },
     "metadata": {},
     "output_type": "display_data"
    }
   ],
   "source": [
    "mask_k1[1:10,1:10]"
   ]
  },
  {
   "cell_type": "markdown",
   "metadata": {},
   "source": [
    "$\\mathbf{\\Delta}$"
   ]
  },
  {
   "cell_type": "code",
   "execution_count": 37,
   "metadata": {
    "vscode": {
     "languageId": "r"
    }
   },
   "outputs": [],
   "source": [
    "delta_k1 <- get_deltamat(mask_k1, 2:ncol(mask_k1),1)"
   ]
  },
  {
   "cell_type": "code",
   "execution_count": 38,
   "metadata": {
    "vscode": {
     "languageId": "r"
    }
   },
   "outputs": [
    {
     "data": {
      "text/html": [
       "<table class=\"dataframe\">\n",
       "<caption>A matrix: 10 × 10 of type chr</caption>\n",
       "<thead>\n",
       "\t<tr><th scope=col>time</th><th scope=col>220045</th><th scope=col>220050</th><th scope=col>220051</th><th scope=col>220052</th><th scope=col>220179</th><th scope=col>220180</th><th scope=col>220181</th><th scope=col>223761</th><th scope=col>223762</th></tr>\n",
       "</thead>\n",
       "<tbody>\n",
       "\t<tr><td>1 </td><td>0</td><td>0</td><td>0</td><td>0</td><td>0</td><td>0</td><td>0</td><td>0</td><td>0</td></tr>\n",
       "\t<tr><td>2 </td><td>1</td><td>1</td><td>1</td><td>1</td><td>1</td><td>1</td><td>1</td><td>1</td><td>1</td></tr>\n",
       "\t<tr><td>3 </td><td>1</td><td>2</td><td>2</td><td>2</td><td>1</td><td>1</td><td>1</td><td>1</td><td>2</td></tr>\n",
       "\t<tr><td>4 </td><td>1</td><td>3</td><td>3</td><td>3</td><td>1</td><td>1</td><td>1</td><td>1</td><td>3</td></tr>\n",
       "\t<tr><td>5 </td><td>1</td><td>4</td><td>4</td><td>4</td><td>1</td><td>1</td><td>1</td><td>1</td><td>4</td></tr>\n",
       "\t<tr><td>6 </td><td>1</td><td>5</td><td>5</td><td>5</td><td>1</td><td>1</td><td>1</td><td>1</td><td>5</td></tr>\n",
       "\t<tr><td>7 </td><td>1</td><td>6</td><td>6</td><td>6</td><td>1</td><td>1</td><td>1</td><td>1</td><td>6</td></tr>\n",
       "\t<tr><td>8 </td><td>1</td><td>7</td><td>7</td><td>7</td><td>1</td><td>1</td><td>1</td><td>1</td><td>7</td></tr>\n",
       "\t<tr><td>9 </td><td>1</td><td>8</td><td>8</td><td>8</td><td>1</td><td>1</td><td>1</td><td>1</td><td>8</td></tr>\n",
       "\t<tr><td>10</td><td>1</td><td>9</td><td>9</td><td>9</td><td>1</td><td>1</td><td>1</td><td>1</td><td>9</td></tr>\n",
       "</tbody>\n",
       "</table>\n"
      ],
      "text/latex": [
       "A matrix: 10 × 10 of type chr\n",
       "\\begin{tabular}{llllllllll}\n",
       " time & 220045 & 220050 & 220051 & 220052 & 220179 & 220180 & 220181 & 223761 & 223762\\\\\n",
       "\\hline\n",
       "\t 1  & 0 & 0 & 0 & 0 & 0 & 0 & 0 & 0 & 0\\\\\n",
       "\t 2  & 1 & 1 & 1 & 1 & 1 & 1 & 1 & 1 & 1\\\\\n",
       "\t 3  & 1 & 2 & 2 & 2 & 1 & 1 & 1 & 1 & 2\\\\\n",
       "\t 4  & 1 & 3 & 3 & 3 & 1 & 1 & 1 & 1 & 3\\\\\n",
       "\t 5  & 1 & 4 & 4 & 4 & 1 & 1 & 1 & 1 & 4\\\\\n",
       "\t 6  & 1 & 5 & 5 & 5 & 1 & 1 & 1 & 1 & 5\\\\\n",
       "\t 7  & 1 & 6 & 6 & 6 & 1 & 1 & 1 & 1 & 6\\\\\n",
       "\t 8  & 1 & 7 & 7 & 7 & 1 & 1 & 1 & 1 & 7\\\\\n",
       "\t 9  & 1 & 8 & 8 & 8 & 1 & 1 & 1 & 1 & 8\\\\\n",
       "\t 10 & 1 & 9 & 9 & 9 & 1 & 1 & 1 & 1 & 9\\\\\n",
       "\\end{tabular}\n"
      ],
      "text/markdown": [
       "\n",
       "A matrix: 10 × 10 of type chr\n",
       "\n",
       "| time | 220045 | 220050 | 220051 | 220052 | 220179 | 220180 | 220181 | 223761 | 223762 |\n",
       "|---|---|---|---|---|---|---|---|---|---|\n",
       "| 1  | 0 | 0 | 0 | 0 | 0 | 0 | 0 | 0 | 0 |\n",
       "| 2  | 1 | 1 | 1 | 1 | 1 | 1 | 1 | 1 | 1 |\n",
       "| 3  | 1 | 2 | 2 | 2 | 1 | 1 | 1 | 1 | 2 |\n",
       "| 4  | 1 | 3 | 3 | 3 | 1 | 1 | 1 | 1 | 3 |\n",
       "| 5  | 1 | 4 | 4 | 4 | 1 | 1 | 1 | 1 | 4 |\n",
       "| 6  | 1 | 5 | 5 | 5 | 1 | 1 | 1 | 1 | 5 |\n",
       "| 7  | 1 | 6 | 6 | 6 | 1 | 1 | 1 | 1 | 6 |\n",
       "| 8  | 1 | 7 | 7 | 7 | 1 | 1 | 1 | 1 | 7 |\n",
       "| 9  | 1 | 8 | 8 | 8 | 1 | 1 | 1 | 1 | 8 |\n",
       "| 10 | 1 | 9 | 9 | 9 | 1 | 1 | 1 | 1 | 9 |\n",
       "\n"
      ],
      "text/plain": [
       "      time 220045 220050 220051 220052 220179 220180 220181 223761 223762\n",
       " [1,] 1    0      0      0      0      0      0      0      0      0     \n",
       " [2,] 2    1      1      1      1      1      1      1      1      1     \n",
       " [3,] 3    1      2      2      2      1      1      1      1      2     \n",
       " [4,] 4    1      3      3      3      1      1      1      1      3     \n",
       " [5,] 5    1      4      4      4      1      1      1      1      4     \n",
       " [6,] 6    1      5      5      5      1      1      1      1      5     \n",
       " [7,] 7    1      6      6      6      1      1      1      1      6     \n",
       " [8,] 8    1      7      7      7      1      1      1      1      7     \n",
       " [9,] 9    1      8      8      8      1      1      1      1      8     \n",
       "[10,] 10   1      9      9      9      1      1      1      1      9     "
      ]
     },
     "metadata": {},
     "output_type": "display_data"
    }
   ],
   "source": [
    "delta_k1[1:10,1:10]"
   ]
  },
  {
   "cell_type": "markdown",
   "metadata": {},
   "source": [
    "#### **Output**"
   ]
  },
  {
   "cell_type": "code",
   "execution_count": 39,
   "metadata": {
    "vscode": {
     "languageId": "r"
    }
   },
   "outputs": [],
   "source": [
    "ds_vital_k2 <- as.data.frame(ds_vital_k2) %>% lapply(., as.numeric) %>% as.data.frame\n",
    "mask_k1 <- as.data.frame(mask_k1) %>% lapply(., as.numeric) %>% as.data.frame\n",
    "delta_k1 <- as.data.frame(delta_k1) %>% lapply(., as.numeric) %>% as.data.frame"
   ]
  },
  {
   "cell_type": "markdown",
   "metadata": {},
   "source": [
    "### **eICU-CRD**\n",
    "\n",
    "The eICU-CRD database does not provide a variable dictionary. Therefore, users need to invest more effort in constructing it when working with the eICU-CRD database.\n",
    "\n",
    "#### **Building the Variable Dictionary**\n",
    "\n",
    "Transitioning from the MIMIC-IV database to eICU-CRD, the primary additional task for users is the creation of a new variable dictionary. To illustrate this, let's consider the 'vitalsign' table from eICU-CRD. This table serves as an excellent example of a vertical irregular data table in a wide table format. Here, users need not worry about the transition from a long table to a wide table format, as EMR-LIP offers equivalent solutions for both formats."
   ]
  },
  {
   "cell_type": "code",
   "execution_count": 40,
   "metadata": {
    "vscode": {
     "languageId": "r"
    }
   },
   "outputs": [],
   "source": [
    "# First, we read the raw data stored in the wide table format and the admissions table that holds the basic information for admission\n",
    "patients<-fread(\"/home/luojiawei/eicu/eicu-collaborative-research-database-2.0/patient.csv.gz\",header=T,fill=T)\n",
    "vitalsign <- fread(\"/home/luojiawei/eicu/eicu-collaborative-research-database-2.0/vitalPeriodic.csv.gz\", header=T,fill=T)"
   ]
  },
  {
   "cell_type": "code",
   "execution_count": 45,
   "metadata": {
    "vscode": {
     "languageId": "r"
    }
   },
   "outputs": [
    {
     "data": {
      "text/html": [
       "<table class=\"dataframe\">\n",
       "<caption>A data.table: 3 × 19</caption>\n",
       "<thead>\n",
       "\t<tr><th scope=col>vitalperiodicid</th><th scope=col>patientunitstayid</th><th scope=col>observationoffset</th><th scope=col>temperature</th><th scope=col>sao2</th><th scope=col>heartrate</th><th scope=col>respiration</th><th scope=col>cvp</th><th scope=col>etco2</th><th scope=col>systemicsystolic</th><th scope=col>systemicdiastolic</th><th scope=col>systemicmean</th><th scope=col>pasystolic</th><th scope=col>padiastolic</th><th scope=col>pamean</th><th scope=col>st1</th><th scope=col>st2</th><th scope=col>st3</th><th scope=col>icp</th></tr>\n",
       "\t<tr><th scope=col>&lt;int64&gt;</th><th scope=col>&lt;int&gt;</th><th scope=col>&lt;int&gt;</th><th scope=col>&lt;dbl&gt;</th><th scope=col>&lt;int&gt;</th><th scope=col>&lt;int&gt;</th><th scope=col>&lt;int&gt;</th><th scope=col>&lt;int&gt;</th><th scope=col>&lt;int&gt;</th><th scope=col>&lt;int&gt;</th><th scope=col>&lt;int&gt;</th><th scope=col>&lt;int&gt;</th><th scope=col>&lt;int&gt;</th><th scope=col>&lt;int&gt;</th><th scope=col>&lt;int&gt;</th><th scope=col>&lt;dbl&gt;</th><th scope=col>&lt;dbl&gt;</th><th scope=col>&lt;dbl&gt;</th><th scope=col>&lt;int&gt;</th></tr>\n",
       "</thead>\n",
       "<tbody>\n",
       "\t<tr><td>37376747</td><td>141168</td><td>2059</td><td>NA</td><td>NA</td><td> 92</td><td>NA</td><td>30</td><td>NA</td><td>NA</td><td>NA</td><td>NA</td><td>NA</td><td>NA</td><td>NA</td><td>NA</td><td>NA</td><td>NA</td><td>NA</td></tr>\n",
       "\t<tr><td>37404957</td><td>141168</td><td>1289</td><td>NA</td><td>NA</td><td>118</td><td>NA</td><td>NA</td><td>NA</td><td>NA</td><td>NA</td><td>NA</td><td>NA</td><td>NA</td><td>NA</td><td>NA</td><td>NA</td><td>NA</td><td>NA</td></tr>\n",
       "\t<tr><td>37385871</td><td>141168</td><td>1794</td><td>NA</td><td>91</td><td> 78</td><td>NA</td><td>NA</td><td>NA</td><td>NA</td><td>NA</td><td>NA</td><td>NA</td><td>NA</td><td>NA</td><td>NA</td><td>NA</td><td>NA</td><td>NA</td></tr>\n",
       "</tbody>\n",
       "</table>\n"
      ],
      "text/latex": [
       "A data.table: 3 × 19\n",
       "\\begin{tabular}{lllllllllllllllllll}\n",
       " vitalperiodicid & patientunitstayid & observationoffset & temperature & sao2 & heartrate & respiration & cvp & etco2 & systemicsystolic & systemicdiastolic & systemicmean & pasystolic & padiastolic & pamean & st1 & st2 & st3 & icp\\\\\n",
       " <int64> & <int> & <int> & <dbl> & <int> & <int> & <int> & <int> & <int> & <int> & <int> & <int> & <int> & <int> & <int> & <dbl> & <dbl> & <dbl> & <int>\\\\\n",
       "\\hline\n",
       "\t 37376747 & 141168 & 2059 & NA & NA &  92 & NA & 30 & NA & NA & NA & NA & NA & NA & NA & NA & NA & NA & NA\\\\\n",
       "\t 37404957 & 141168 & 1289 & NA & NA & 118 & NA & NA & NA & NA & NA & NA & NA & NA & NA & NA & NA & NA & NA\\\\\n",
       "\t 37385871 & 141168 & 1794 & NA & 91 &  78 & NA & NA & NA & NA & NA & NA & NA & NA & NA & NA & NA & NA & NA\\\\\n",
       "\\end{tabular}\n"
      ],
      "text/markdown": [
       "\n",
       "A data.table: 3 × 19\n",
       "\n",
       "| vitalperiodicid &lt;int64&gt; | patientunitstayid &lt;int&gt; | observationoffset &lt;int&gt; | temperature &lt;dbl&gt; | sao2 &lt;int&gt; | heartrate &lt;int&gt; | respiration &lt;int&gt; | cvp &lt;int&gt; | etco2 &lt;int&gt; | systemicsystolic &lt;int&gt; | systemicdiastolic &lt;int&gt; | systemicmean &lt;int&gt; | pasystolic &lt;int&gt; | padiastolic &lt;int&gt; | pamean &lt;int&gt; | st1 &lt;dbl&gt; | st2 &lt;dbl&gt; | st3 &lt;dbl&gt; | icp &lt;int&gt; |\n",
       "|---|---|---|---|---|---|---|---|---|---|---|---|---|---|---|---|---|---|---|\n",
       "| 37376747 | 141168 | 2059 | NA | NA |  92 | NA | 30 | NA | NA | NA | NA | NA | NA | NA | NA | NA | NA | NA |\n",
       "| 37404957 | 141168 | 1289 | NA | NA | 118 | NA | NA | NA | NA | NA | NA | NA | NA | NA | NA | NA | NA | NA |\n",
       "| 37385871 | 141168 | 1794 | NA | 91 |  78 | NA | NA | NA | NA | NA | NA | NA | NA | NA | NA | NA | NA | NA |\n",
       "\n"
      ],
      "text/plain": [
       "  vitalperiodicid patientunitstayid observationoffset temperature sao2\n",
       "1 37376747        141168            2059              NA          NA  \n",
       "2 37404957        141168            1289              NA          NA  \n",
       "3 37385871        141168            1794              NA          91  \n",
       "  heartrate respiration cvp etco2 systemicsystolic systemicdiastolic\n",
       "1  92       NA          30  NA    NA               NA               \n",
       "2 118       NA          NA  NA    NA               NA               \n",
       "3  78       NA          NA  NA    NA               NA               \n",
       "  systemicmean pasystolic padiastolic pamean st1 st2 st3 icp\n",
       "1 NA           NA         NA          NA     NA  NA  NA  NA \n",
       "2 NA           NA         NA          NA     NA  NA  NA  NA \n",
       "3 NA           NA         NA          NA     NA  NA  NA  NA "
      ]
     },
     "metadata": {},
     "output_type": "display_data"
    }
   ],
   "source": [
    "# As can be seen, the biggest difference between raw data in wide table format and long table is that wide table has been initially aligned\n",
    "# For wide tables, there are no columns dedicated to storing variable names and values.\n",
    "vitalsign[1:3,]"
   ]
  },
  {
   "cell_type": "markdown",
   "metadata": {},
   "source": [
    "For wide tables, we can start by examining the types of the various columns we need to process.  From the table, it's evident that these variables are all of a numerical type, and their time attributes are all \"single\", with an acquisition type of \"observational\".  Therefore, we can manually construct the variable dictionary based on this information."
   ]
  },
  {
   "cell_type": "code",
   "execution_count": 42,
   "metadata": {
    "vscode": {
     "languageId": "r"
    }
   },
   "outputs": [],
   "source": [
    "d_custom <- data.frame(itemid = names(vitalsign)[4:ncol(vitalsign)],\n",
    "                       value_type = rep(\"num\", ncol(vitalsign) - 4 + 1),\n",
    "                       time_attribute = rep(\"single\", ncol(vitalsign) - 4 + 1),\n",
    "                       acqu_type = rep(\"obs\", ncol(vitalsign) - 4 + 1),\n",
    "                       agg_f = \"last\")"
   ]
  },
  {
   "cell_type": "markdown",
   "metadata": {},
   "source": [
    "#### **Get the statistical information**"
   ]
  },
  {
   "cell_type": "code",
   "execution_count": 43,
   "metadata": {
    "vscode": {
     "languageId": "r"
    }
   },
   "outputs": [],
   "source": [
    "stat_vital <- get_stat_wide(vitalsign, d_custom$itemid, d_custom$value_type)"
   ]
  },
  {
   "cell_type": "code",
   "execution_count": 46,
   "metadata": {
    "vscode": {
     "languageId": "r"
    }
   },
   "outputs": [
    {
     "data": {
      "text/html": [
       "<dl>\n",
       "\t<dt>$temperature</dt>\n",
       "\t\t<dd><ol>\n",
       "\t<li>'num'</li>\n",
       "\t<li>39.0070477083854</li>\n",
       "\t<li>0.523939854271368</li>\n",
       "\t<li><style>\n",
       ".dl-inline {width: auto; margin:0; padding: 0}\n",
       ".dl-inline>dt, .dl-inline>dd {float: none; width: auto; display: inline-block}\n",
       ".dl-inline>dt::after {content: \":\\0020\"; padding-right: .5ex}\n",
       ".dl-inline>dt:not(:first-of-type) {padding-left: .5ex}\n",
       "</style><dl class=dl-inline><dt>0%</dt><dd>-2622.5</dd><dt>10%</dt><dd>36.2</dd><dt>20%</dt><dd>36.6</dd><dt>30%</dt><dd>36.9</dd><dt>40%</dt><dd>37.1</dd><dt>50%</dt><dd>37.3</dd><dt>60%</dt><dd>37.5</dd><dt>70%</dt><dd>37.7</dd><dt>80%</dt><dd>37.9</dd><dt>90%</dt><dd>38.3</dd><dt>100%</dt><dd>106.8</dd></dl>\n",
       "</li>\n",
       "</ol>\n",
       "</dd>\n",
       "\t<dt>$sao2</dt>\n",
       "\t\t<dd><ol>\n",
       "\t<li>'num'</li>\n",
       "\t<li>96.6826478949022</li>\n",
       "\t<li>2.15110722775151</li>\n",
       "\t<li><style>\n",
       ".dl-inline {width: auto; margin:0; padding: 0}\n",
       ".dl-inline>dt, .dl-inline>dd {float: none; width: auto; display: inline-block}\n",
       ".dl-inline>dt::after {content: \":\\0020\"; padding-right: .5ex}\n",
       ".dl-inline>dt:not(:first-of-type) {padding-left: .5ex}\n",
       "</style><dl class=dl-inline><dt>0%</dt><dd>0</dd><dt>10%</dt><dd>93</dd><dt>20%</dt><dd>95</dd><dt>30%</dt><dd>96</dd><dt>40%</dt><dd>97</dd><dt>50%</dt><dd>97</dd><dt>60%</dt><dd>98</dd><dt>70%</dt><dd>99</dd><dt>80%</dt><dd>100</dd><dt>90%</dt><dd>100</dd><dt>100%</dt><dd>239</dd></dl>\n",
       "</li>\n",
       "</ol>\n",
       "</dd>\n",
       "\t<dt>$heartrate</dt>\n",
       "\t\t<dd><ol>\n",
       "\t<li>'num'</li>\n",
       "\t<li>85.8349300383314</li>\n",
       "\t<li>12.2348415579617</li>\n",
       "\t<li><style>\n",
       ".dl-inline {width: auto; margin:0; padding: 0}\n",
       ".dl-inline>dt, .dl-inline>dd {float: none; width: auto; display: inline-block}\n",
       ".dl-inline>dt::after {content: \":\\0020\"; padding-right: .5ex}\n",
       ".dl-inline>dt:not(:first-of-type) {padding-left: .5ex}\n",
       "</style><dl class=dl-inline><dt>0%</dt><dd>0</dd><dt>10%</dt><dd>64</dd><dt>20%</dt><dd>70</dd><dt>30%</dt><dd>75</dd><dt>40%</dt><dd>80</dd><dt>50%</dt><dd>84</dd><dt>60%</dt><dd>89</dd><dt>70%</dt><dd>94</dd><dt>80%</dt><dd>101</dd><dt>90%</dt><dd>110</dd><dt>100%</dt><dd>300</dd></dl>\n",
       "</li>\n",
       "</ol>\n",
       "</dd>\n",
       "</dl>\n"
      ],
      "text/latex": [
       "\\begin{description}\n",
       "\\item[\\$temperature] \\begin{enumerate}\n",
       "\\item 'num'\n",
       "\\item 39.0070477083854\n",
       "\\item 0.523939854271368\n",
       "\\item \\begin{description*}\n",
       "\\item[0\\textbackslash{}\\%] -2622.5\n",
       "\\item[10\\textbackslash{}\\%] 36.2\n",
       "\\item[20\\textbackslash{}\\%] 36.6\n",
       "\\item[30\\textbackslash{}\\%] 36.9\n",
       "\\item[40\\textbackslash{}\\%] 37.1\n",
       "\\item[50\\textbackslash{}\\%] 37.3\n",
       "\\item[60\\textbackslash{}\\%] 37.5\n",
       "\\item[70\\textbackslash{}\\%] 37.7\n",
       "\\item[80\\textbackslash{}\\%] 37.9\n",
       "\\item[90\\textbackslash{}\\%] 38.3\n",
       "\\item[100\\textbackslash{}\\%] 106.8\n",
       "\\end{description*}\n",
       "\n",
       "\\end{enumerate}\n",
       "\n",
       "\\item[\\$sao2] \\begin{enumerate}\n",
       "\\item 'num'\n",
       "\\item 96.6826478949022\n",
       "\\item 2.15110722775151\n",
       "\\item \\begin{description*}\n",
       "\\item[0\\textbackslash{}\\%] 0\n",
       "\\item[10\\textbackslash{}\\%] 93\n",
       "\\item[20\\textbackslash{}\\%] 95\n",
       "\\item[30\\textbackslash{}\\%] 96\n",
       "\\item[40\\textbackslash{}\\%] 97\n",
       "\\item[50\\textbackslash{}\\%] 97\n",
       "\\item[60\\textbackslash{}\\%] 98\n",
       "\\item[70\\textbackslash{}\\%] 99\n",
       "\\item[80\\textbackslash{}\\%] 100\n",
       "\\item[90\\textbackslash{}\\%] 100\n",
       "\\item[100\\textbackslash{}\\%] 239\n",
       "\\end{description*}\n",
       "\n",
       "\\end{enumerate}\n",
       "\n",
       "\\item[\\$heartrate] \\begin{enumerate}\n",
       "\\item 'num'\n",
       "\\item 85.8349300383314\n",
       "\\item 12.2348415579617\n",
       "\\item \\begin{description*}\n",
       "\\item[0\\textbackslash{}\\%] 0\n",
       "\\item[10\\textbackslash{}\\%] 64\n",
       "\\item[20\\textbackslash{}\\%] 70\n",
       "\\item[30\\textbackslash{}\\%] 75\n",
       "\\item[40\\textbackslash{}\\%] 80\n",
       "\\item[50\\textbackslash{}\\%] 84\n",
       "\\item[60\\textbackslash{}\\%] 89\n",
       "\\item[70\\textbackslash{}\\%] 94\n",
       "\\item[80\\textbackslash{}\\%] 101\n",
       "\\item[90\\textbackslash{}\\%] 110\n",
       "\\item[100\\textbackslash{}\\%] 300\n",
       "\\end{description*}\n",
       "\n",
       "\\end{enumerate}\n",
       "\n",
       "\\end{description}\n"
      ],
      "text/markdown": [
       "$temperature\n",
       ":   1. 'num'\n",
       "2. 39.0070477083854\n",
       "3. 0.523939854271368\n",
       "4. 0%\n",
       ":   -2622.510%\n",
       ":   36.220%\n",
       ":   36.630%\n",
       ":   36.940%\n",
       ":   37.150%\n",
       ":   37.360%\n",
       ":   37.570%\n",
       ":   37.780%\n",
       ":   37.990%\n",
       ":   38.3100%\n",
       ":   106.8\n",
       "\n",
       "\n",
       "\n",
       "\n",
       "\n",
       "$sao2\n",
       ":   1. 'num'\n",
       "2. 96.6826478949022\n",
       "3. 2.15110722775151\n",
       "4. 0%\n",
       ":   010%\n",
       ":   9320%\n",
       ":   9530%\n",
       ":   9640%\n",
       ":   9750%\n",
       ":   9760%\n",
       ":   9870%\n",
       ":   9980%\n",
       ":   10090%\n",
       ":   100100%\n",
       ":   239\n",
       "\n",
       "\n",
       "\n",
       "\n",
       "\n",
       "$heartrate\n",
       ":   1. 'num'\n",
       "2. 85.8349300383314\n",
       "3. 12.2348415579617\n",
       "4. 0%\n",
       ":   010%\n",
       ":   6420%\n",
       ":   7030%\n",
       ":   7540%\n",
       ":   8050%\n",
       ":   8460%\n",
       ":   8970%\n",
       ":   9480%\n",
       ":   10190%\n",
       ":   110100%\n",
       ":   300\n",
       "\n",
       "\n",
       "\n",
       "\n",
       "\n",
       "\n",
       "\n"
      ],
      "text/plain": [
       "$temperature\n",
       "$temperature[[1]]\n",
       "[1] \"num\"\n",
       "\n",
       "$temperature[[2]]\n",
       "[1] 39.00705\n",
       "\n",
       "$temperature[[3]]\n",
       "[1] 0.5239399\n",
       "\n",
       "$temperature[[4]]\n",
       "     0%     10%     20%     30%     40%     50%     60%     70%     80%     90% \n",
       "-2622.5    36.2    36.6    36.9    37.1    37.3    37.5    37.7    37.9    38.3 \n",
       "   100% \n",
       "  106.8 \n",
       "\n",
       "\n",
       "$sao2\n",
       "$sao2[[1]]\n",
       "[1] \"num\"\n",
       "\n",
       "$sao2[[2]]\n",
       "[1] 96.68265\n",
       "\n",
       "$sao2[[3]]\n",
       "[1] 2.151107\n",
       "\n",
       "$sao2[[4]]\n",
       "  0%  10%  20%  30%  40%  50%  60%  70%  80%  90% 100% \n",
       "   0   93   95   96   97   97   98   99  100  100  239 \n",
       "\n",
       "\n",
       "$heartrate\n",
       "$heartrate[[1]]\n",
       "[1] \"num\"\n",
       "\n",
       "$heartrate[[2]]\n",
       "[1] 85.83493\n",
       "\n",
       "$heartrate[[3]]\n",
       "[1] 12.23484\n",
       "\n",
       "$heartrate[[4]]\n",
       "  0%  10%  20%  30%  40%  50%  60%  70%  80%  90% 100% \n",
       "   0   64   70   75   80   84   89   94  101  110  300 \n",
       "\n"
      ]
     },
     "metadata": {},
     "output_type": "display_data"
    }
   ],
   "source": [
    "stat_vital[1:3]"
   ]
  },
  {
   "cell_type": "code",
   "execution_count": 47,
   "metadata": {
    "vscode": {
     "languageId": "r"
    }
   },
   "outputs": [
    {
     "data": {
      "text/html": [
       "<table class=\"dataframe\">\n",
       "<caption>A data.table: 4 × 29</caption>\n",
       "<thead>\n",
       "\t<tr><th scope=col>patientunitstayid</th><th scope=col>patienthealthsystemstayid</th><th scope=col>gender</th><th scope=col>age</th><th scope=col>ethnicity</th><th scope=col>hospitalid</th><th scope=col>wardid</th><th scope=col>apacheadmissiondx</th><th scope=col>admissionheight</th><th scope=col>hospitaladmittime24</th><th scope=col>⋯</th><th scope=col>unitadmitsource</th><th scope=col>unitvisitnumber</th><th scope=col>unitstaytype</th><th scope=col>admissionweight</th><th scope=col>dischargeweight</th><th scope=col>unitdischargetime24</th><th scope=col>unitdischargeoffset</th><th scope=col>unitdischargelocation</th><th scope=col>unitdischargestatus</th><th scope=col>uniquepid</th></tr>\n",
       "\t<tr><th scope=col>&lt;int&gt;</th><th scope=col>&lt;int&gt;</th><th scope=col>&lt;chr&gt;</th><th scope=col>&lt;chr&gt;</th><th scope=col>&lt;chr&gt;</th><th scope=col>&lt;int&gt;</th><th scope=col>&lt;int&gt;</th><th scope=col>&lt;chr&gt;</th><th scope=col>&lt;dbl&gt;</th><th scope=col>&lt;chr&gt;</th><th scope=col>⋯</th><th scope=col>&lt;chr&gt;</th><th scope=col>&lt;int&gt;</th><th scope=col>&lt;chr&gt;</th><th scope=col>&lt;dbl&gt;</th><th scope=col>&lt;dbl&gt;</th><th scope=col>&lt;chr&gt;</th><th scope=col>&lt;int&gt;</th><th scope=col>&lt;chr&gt;</th><th scope=col>&lt;chr&gt;</th><th scope=col>&lt;chr&gt;</th></tr>\n",
       "</thead>\n",
       "<tbody>\n",
       "\t<tr><td>141168</td><td>128919</td><td>Female</td><td>70</td><td>Caucasian</td><td>59</td><td>91</td><td>Rhythm disturbance (atrial, supraventricular)</td><td>152.4</td><td>15:54:00</td><td>⋯</td><td>Direct Admit        </td><td>1</td><td>admit         </td><td>84.3</td><td>85.8</td><td>03:50:00</td><td>3596</td><td>Death               </td><td>Expired</td><td>002-34851</td></tr>\n",
       "\t<tr><td>141178</td><td>128927</td><td>Female</td><td>52</td><td>Caucasian</td><td>60</td><td>83</td><td>                                             </td><td>162.6</td><td>08:56:00</td><td>⋯</td><td>Emergency Department</td><td>1</td><td>admit         </td><td>54.4</td><td>54.4</td><td>09:18:00</td><td>   8</td><td>Step-Down Unit (SDU)</td><td>Alive  </td><td>002-33870</td></tr>\n",
       "\t<tr><td>141179</td><td>128927</td><td>Female</td><td>52</td><td>Caucasian</td><td>60</td><td>83</td><td>                                             </td><td>162.6</td><td>08:56:00</td><td>⋯</td><td>ICU to SDU          </td><td>2</td><td>stepdown/other</td><td>  NA</td><td>60.4</td><td>19:20:00</td><td>2042</td><td>Home                </td><td>Alive  </td><td>002-33870</td></tr>\n",
       "\t<tr><td>141194</td><td>128941</td><td>Male  </td><td>68</td><td>Caucasian</td><td>73</td><td>92</td><td>Sepsis, renal/UTI (including bladder)        </td><td>180.3</td><td>18:18:40</td><td>⋯</td><td>Floor               </td><td>1</td><td>admit         </td><td>73.9</td><td>76.7</td><td>15:31:00</td><td>4813</td><td>Floor               </td><td>Alive  </td><td>002-5276 </td></tr>\n",
       "</tbody>\n",
       "</table>\n"
      ],
      "text/latex": [
       "A data.table: 4 × 29\n",
       "\\begin{tabular}{lllllllllllllllllllll}\n",
       " patientunitstayid & patienthealthsystemstayid & gender & age & ethnicity & hospitalid & wardid & apacheadmissiondx & admissionheight & hospitaladmittime24 & ⋯ & unitadmitsource & unitvisitnumber & unitstaytype & admissionweight & dischargeweight & unitdischargetime24 & unitdischargeoffset & unitdischargelocation & unitdischargestatus & uniquepid\\\\\n",
       " <int> & <int> & <chr> & <chr> & <chr> & <int> & <int> & <chr> & <dbl> & <chr> & ⋯ & <chr> & <int> & <chr> & <dbl> & <dbl> & <chr> & <int> & <chr> & <chr> & <chr>\\\\\n",
       "\\hline\n",
       "\t 141168 & 128919 & Female & 70 & Caucasian & 59 & 91 & Rhythm disturbance (atrial, supraventricular) & 152.4 & 15:54:00 & ⋯ & Direct Admit         & 1 & admit          & 84.3 & 85.8 & 03:50:00 & 3596 & Death                & Expired & 002-34851\\\\\n",
       "\t 141178 & 128927 & Female & 52 & Caucasian & 60 & 83 &                                               & 162.6 & 08:56:00 & ⋯ & Emergency Department & 1 & admit          & 54.4 & 54.4 & 09:18:00 &    8 & Step-Down Unit (SDU) & Alive   & 002-33870\\\\\n",
       "\t 141179 & 128927 & Female & 52 & Caucasian & 60 & 83 &                                               & 162.6 & 08:56:00 & ⋯ & ICU to SDU           & 2 & stepdown/other &   NA & 60.4 & 19:20:00 & 2042 & Home                 & Alive   & 002-33870\\\\\n",
       "\t 141194 & 128941 & Male   & 68 & Caucasian & 73 & 92 & Sepsis, renal/UTI (including bladder)         & 180.3 & 18:18:40 & ⋯ & Floor                & 1 & admit          & 73.9 & 76.7 & 15:31:00 & 4813 & Floor                & Alive   & 002-5276 \\\\\n",
       "\\end{tabular}\n"
      ],
      "text/markdown": [
       "\n",
       "A data.table: 4 × 29\n",
       "\n",
       "| patientunitstayid &lt;int&gt; | patienthealthsystemstayid &lt;int&gt; | gender &lt;chr&gt; | age &lt;chr&gt; | ethnicity &lt;chr&gt; | hospitalid &lt;int&gt; | wardid &lt;int&gt; | apacheadmissiondx &lt;chr&gt; | admissionheight &lt;dbl&gt; | hospitaladmittime24 &lt;chr&gt; | ⋯ ⋯ | unitadmitsource &lt;chr&gt; | unitvisitnumber &lt;int&gt; | unitstaytype &lt;chr&gt; | admissionweight &lt;dbl&gt; | dischargeweight &lt;dbl&gt; | unitdischargetime24 &lt;chr&gt; | unitdischargeoffset &lt;int&gt; | unitdischargelocation &lt;chr&gt; | unitdischargestatus &lt;chr&gt; | uniquepid &lt;chr&gt; |\n",
       "|---|---|---|---|---|---|---|---|---|---|---|---|---|---|---|---|---|---|---|---|---|\n",
       "| 141168 | 128919 | Female | 70 | Caucasian | 59 | 91 | Rhythm disturbance (atrial, supraventricular) | 152.4 | 15:54:00 | ⋯ | Direct Admit         | 1 | admit          | 84.3 | 85.8 | 03:50:00 | 3596 | Death                | Expired | 002-34851 |\n",
       "| 141178 | 128927 | Female | 52 | Caucasian | 60 | 83 | <!----> | 162.6 | 08:56:00 | ⋯ | Emergency Department | 1 | admit          | 54.4 | 54.4 | 09:18:00 |    8 | Step-Down Unit (SDU) | Alive   | 002-33870 |\n",
       "| 141179 | 128927 | Female | 52 | Caucasian | 60 | 83 | <!----> | 162.6 | 08:56:00 | ⋯ | ICU to SDU           | 2 | stepdown/other |   NA | 60.4 | 19:20:00 | 2042 | Home                 | Alive   | 002-33870 |\n",
       "| 141194 | 128941 | Male   | 68 | Caucasian | 73 | 92 | Sepsis, renal/UTI (including bladder)         | 180.3 | 18:18:40 | ⋯ | Floor                | 1 | admit          | 73.9 | 76.7 | 15:31:00 | 4813 | Floor                | Alive   | 002-5276  |\n",
       "\n"
      ],
      "text/plain": [
       "  patientunitstayid patienthealthsystemstayid gender age ethnicity hospitalid\n",
       "1 141168            128919                    Female 70  Caucasian 59        \n",
       "2 141178            128927                    Female 52  Caucasian 60        \n",
       "3 141179            128927                    Female 52  Caucasian 60        \n",
       "4 141194            128941                    Male   68  Caucasian 73        \n",
       "  wardid apacheadmissiondx                             admissionheight\n",
       "1 91     Rhythm disturbance (atrial, supraventricular) 152.4          \n",
       "2 83                                                   162.6          \n",
       "3 83                                                   162.6          \n",
       "4 92     Sepsis, renal/UTI (including bladder)         180.3          \n",
       "  hospitaladmittime24 ⋯ unitadmitsource      unitvisitnumber unitstaytype  \n",
       "1 15:54:00            ⋯ Direct Admit         1               admit         \n",
       "2 08:56:00            ⋯ Emergency Department 1               admit         \n",
       "3 08:56:00            ⋯ ICU to SDU           2               stepdown/other\n",
       "4 18:18:40            ⋯ Floor                1               admit         \n",
       "  admissionweight dischargeweight unitdischargetime24 unitdischargeoffset\n",
       "1 84.3            85.8            03:50:00            3596               \n",
       "2 54.4            54.4            09:18:00               8               \n",
       "3   NA            60.4            19:20:00            2042               \n",
       "4 73.9            76.7            15:31:00            4813               \n",
       "  unitdischargelocation unitdischargestatus uniquepid\n",
       "1 Death                 Expired             002-34851\n",
       "2 Step-Down Unit (SDU)  Alive               002-33870\n",
       "3 Home                  Alive               002-33870\n",
       "4 Floor                 Alive               002-5276 "
      ]
     },
     "metadata": {},
     "output_type": "display_data"
    }
   ],
   "source": [
    "# Without loss of generality, we read the sample data of patientunitstayid 128919\n",
    "patients[1:4,]"
   ]
  },
  {
   "cell_type": "code",
   "execution_count": 48,
   "metadata": {
    "vscode": {
     "languageId": "r"
    }
   },
   "outputs": [],
   "source": [
    "vitalsign_k <- vitalsign[which(vitalsign$patientunitstayid == 141168), ]"
   ]
  },
  {
   "cell_type": "code",
   "execution_count": 49,
   "metadata": {
    "vscode": {
     "languageId": "r"
    }
   },
   "outputs": [
    {
     "data": {
      "text/html": [
       "<table class=\"dataframe\">\n",
       "<caption>A data.table: 4 × 19</caption>\n",
       "<thead>\n",
       "\t<tr><th scope=col>vitalperiodicid</th><th scope=col>patientunitstayid</th><th scope=col>observationoffset</th><th scope=col>temperature</th><th scope=col>sao2</th><th scope=col>heartrate</th><th scope=col>respiration</th><th scope=col>cvp</th><th scope=col>etco2</th><th scope=col>systemicsystolic</th><th scope=col>systemicdiastolic</th><th scope=col>systemicmean</th><th scope=col>pasystolic</th><th scope=col>padiastolic</th><th scope=col>pamean</th><th scope=col>st1</th><th scope=col>st2</th><th scope=col>st3</th><th scope=col>icp</th></tr>\n",
       "\t<tr><th scope=col>&lt;int64&gt;</th><th scope=col>&lt;int&gt;</th><th scope=col>&lt;int&gt;</th><th scope=col>&lt;dbl&gt;</th><th scope=col>&lt;int&gt;</th><th scope=col>&lt;int&gt;</th><th scope=col>&lt;int&gt;</th><th scope=col>&lt;int&gt;</th><th scope=col>&lt;int&gt;</th><th scope=col>&lt;int&gt;</th><th scope=col>&lt;int&gt;</th><th scope=col>&lt;int&gt;</th><th scope=col>&lt;int&gt;</th><th scope=col>&lt;int&gt;</th><th scope=col>&lt;int&gt;</th><th scope=col>&lt;dbl&gt;</th><th scope=col>&lt;dbl&gt;</th><th scope=col>&lt;dbl&gt;</th><th scope=col>&lt;int&gt;</th></tr>\n",
       "</thead>\n",
       "<tbody>\n",
       "\t<tr><td>37376747</td><td>141168</td><td>2059</td><td>NA</td><td>NA</td><td> 92</td><td>NA</td><td>30</td><td>NA</td><td>NA</td><td>NA</td><td>NA</td><td>NA</td><td>NA</td><td>NA</td><td>NA</td><td>NA</td><td>NA</td><td>NA</td></tr>\n",
       "\t<tr><td>37404957</td><td>141168</td><td>1289</td><td>NA</td><td>NA</td><td>118</td><td>NA</td><td>NA</td><td>NA</td><td>NA</td><td>NA</td><td>NA</td><td>NA</td><td>NA</td><td>NA</td><td>NA</td><td>NA</td><td>NA</td><td>NA</td></tr>\n",
       "\t<tr><td>37385871</td><td>141168</td><td>1794</td><td>NA</td><td>91</td><td> 78</td><td>NA</td><td>NA</td><td>NA</td><td>NA</td><td>NA</td><td>NA</td><td>NA</td><td>NA</td><td>NA</td><td>NA</td><td>NA</td><td>NA</td><td>NA</td></tr>\n",
       "\t<tr><td>37401664</td><td>141168</td><td>1374</td><td>NA</td><td>90</td><td>118</td><td>NA</td><td>NA</td><td>NA</td><td>NA</td><td>NA</td><td>NA</td><td>NA</td><td>NA</td><td>NA</td><td>NA</td><td>NA</td><td>NA</td><td>NA</td></tr>\n",
       "</tbody>\n",
       "</table>\n"
      ],
      "text/latex": [
       "A data.table: 4 × 19\n",
       "\\begin{tabular}{lllllllllllllllllll}\n",
       " vitalperiodicid & patientunitstayid & observationoffset & temperature & sao2 & heartrate & respiration & cvp & etco2 & systemicsystolic & systemicdiastolic & systemicmean & pasystolic & padiastolic & pamean & st1 & st2 & st3 & icp\\\\\n",
       " <int64> & <int> & <int> & <dbl> & <int> & <int> & <int> & <int> & <int> & <int> & <int> & <int> & <int> & <int> & <int> & <dbl> & <dbl> & <dbl> & <int>\\\\\n",
       "\\hline\n",
       "\t 37376747 & 141168 & 2059 & NA & NA &  92 & NA & 30 & NA & NA & NA & NA & NA & NA & NA & NA & NA & NA & NA\\\\\n",
       "\t 37404957 & 141168 & 1289 & NA & NA & 118 & NA & NA & NA & NA & NA & NA & NA & NA & NA & NA & NA & NA & NA\\\\\n",
       "\t 37385871 & 141168 & 1794 & NA & 91 &  78 & NA & NA & NA & NA & NA & NA & NA & NA & NA & NA & NA & NA & NA\\\\\n",
       "\t 37401664 & 141168 & 1374 & NA & 90 & 118 & NA & NA & NA & NA & NA & NA & NA & NA & NA & NA & NA & NA & NA\\\\\n",
       "\\end{tabular}\n"
      ],
      "text/markdown": [
       "\n",
       "A data.table: 4 × 19\n",
       "\n",
       "| vitalperiodicid &lt;int64&gt; | patientunitstayid &lt;int&gt; | observationoffset &lt;int&gt; | temperature &lt;dbl&gt; | sao2 &lt;int&gt; | heartrate &lt;int&gt; | respiration &lt;int&gt; | cvp &lt;int&gt; | etco2 &lt;int&gt; | systemicsystolic &lt;int&gt; | systemicdiastolic &lt;int&gt; | systemicmean &lt;int&gt; | pasystolic &lt;int&gt; | padiastolic &lt;int&gt; | pamean &lt;int&gt; | st1 &lt;dbl&gt; | st2 &lt;dbl&gt; | st3 &lt;dbl&gt; | icp &lt;int&gt; |\n",
       "|---|---|---|---|---|---|---|---|---|---|---|---|---|---|---|---|---|---|---|\n",
       "| 37376747 | 141168 | 2059 | NA | NA |  92 | NA | 30 | NA | NA | NA | NA | NA | NA | NA | NA | NA | NA | NA |\n",
       "| 37404957 | 141168 | 1289 | NA | NA | 118 | NA | NA | NA | NA | NA | NA | NA | NA | NA | NA | NA | NA | NA |\n",
       "| 37385871 | 141168 | 1794 | NA | 91 |  78 | NA | NA | NA | NA | NA | NA | NA | NA | NA | NA | NA | NA | NA |\n",
       "| 37401664 | 141168 | 1374 | NA | 90 | 118 | NA | NA | NA | NA | NA | NA | NA | NA | NA | NA | NA | NA | NA |\n",
       "\n"
      ],
      "text/plain": [
       "  vitalperiodicid patientunitstayid observationoffset temperature sao2\n",
       "1 37376747        141168            2059              NA          NA  \n",
       "2 37404957        141168            1289              NA          NA  \n",
       "3 37385871        141168            1794              NA          91  \n",
       "4 37401664        141168            1374              NA          90  \n",
       "  heartrate respiration cvp etco2 systemicsystolic systemicdiastolic\n",
       "1  92       NA          30  NA    NA               NA               \n",
       "2 118       NA          NA  NA    NA               NA               \n",
       "3  78       NA          NA  NA    NA               NA               \n",
       "4 118       NA          NA  NA    NA               NA               \n",
       "  systemicmean pasystolic padiastolic pamean st1 st2 st3 icp\n",
       "1 NA           NA         NA          NA     NA  NA  NA  NA \n",
       "2 NA           NA         NA          NA     NA  NA  NA  NA \n",
       "3 NA           NA         NA          NA     NA  NA  NA  NA \n",
       "4 NA           NA         NA          NA     NA  NA  NA  NA "
      ]
     },
     "metadata": {},
     "output_type": "display_data"
    }
   ],
   "source": [
    "vitalsign_k[1:4,]"
   ]
  },
  {
   "cell_type": "markdown",
   "metadata": {},
   "source": [
    "Since the time in the table is already in relative terms, there's no need for further conversion to relative time. However, it's important to note that this time is in minutes, and we need to convert it to hours."
   ]
  },
  {
   "cell_type": "code",
   "execution_count": 50,
   "metadata": {
    "vscode": {
     "languageId": "r"
    }
   },
   "outputs": [],
   "source": [
    "vitalsign_k$observationoffset <- vitalsign_k$observationoffset / 60"
   ]
  },
  {
   "cell_type": "code",
   "execution_count": 51,
   "metadata": {
    "vscode": {
     "languageId": "r"
    }
   },
   "outputs": [],
   "source": [
    "# Construct an endtime column, although it has no effect on variables of type single point, but this is to unify the function interface\n",
    "vitalsign_k$timecol <- \"NA\"\n",
    "# Give a set of times you want to resample, e.g. 1 to 48 hours, with 1 hour intervals\n",
    "time_range <- 1:48\n",
    "# Remember, you need to sort the data by time before resampling\n",
    "vitalsign_k <- vitalsign_k[order(vitalsign_k$observationoffset, decreasing = F), ]"
   ]
  },
  {
   "cell_type": "code",
   "execution_count": 52,
   "metadata": {
    "vscode": {
     "languageId": "r"
    }
   },
   "outputs": [
    {
     "data": {
      "text/html": [
       "<table class=\"dataframe\">\n",
       "<caption>A data.table: 10 × 20</caption>\n",
       "<thead>\n",
       "\t<tr><th scope=col>vitalperiodicid</th><th scope=col>patientunitstayid</th><th scope=col>observationoffset</th><th scope=col>temperature</th><th scope=col>sao2</th><th scope=col>heartrate</th><th scope=col>respiration</th><th scope=col>cvp</th><th scope=col>etco2</th><th scope=col>systemicsystolic</th><th scope=col>systemicdiastolic</th><th scope=col>systemicmean</th><th scope=col>pasystolic</th><th scope=col>padiastolic</th><th scope=col>pamean</th><th scope=col>st1</th><th scope=col>st2</th><th scope=col>st3</th><th scope=col>icp</th><th scope=col>timecol</th></tr>\n",
       "\t<tr><th scope=col>&lt;int64&gt;</th><th scope=col>&lt;int&gt;</th><th scope=col>&lt;dbl&gt;</th><th scope=col>&lt;dbl&gt;</th><th scope=col>&lt;int&gt;</th><th scope=col>&lt;int&gt;</th><th scope=col>&lt;int&gt;</th><th scope=col>&lt;int&gt;</th><th scope=col>&lt;int&gt;</th><th scope=col>&lt;int&gt;</th><th scope=col>&lt;int&gt;</th><th scope=col>&lt;int&gt;</th><th scope=col>&lt;int&gt;</th><th scope=col>&lt;int&gt;</th><th scope=col>&lt;int&gt;</th><th scope=col>&lt;dbl&gt;</th><th scope=col>&lt;dbl&gt;</th><th scope=col>&lt;dbl&gt;</th><th scope=col>&lt;int&gt;</th><th scope=col>&lt;chr&gt;</th></tr>\n",
       "</thead>\n",
       "<tbody>\n",
       "\t<tr><td>37449174</td><td>141168</td><td>1.983333</td><td>NA</td><td>93</td><td>140</td><td>NA</td><td>NA</td><td>NA</td><td>NA</td><td>NA</td><td>NA</td><td>NA</td><td>NA</td><td>NA</td><td>NA</td><td>NA</td><td>NA</td><td>NA</td><td>NA</td></tr>\n",
       "\t<tr><td>37448979</td><td>141168</td><td>2.066667</td><td>NA</td><td>NA</td><td>140</td><td>NA</td><td>NA</td><td>NA</td><td>NA</td><td>NA</td><td>NA</td><td>NA</td><td>NA</td><td>NA</td><td>NA</td><td>NA</td><td>NA</td><td>NA</td><td>NA</td></tr>\n",
       "\t<tr><td>37448785</td><td>141168</td><td>2.150000</td><td>NA</td><td>NA</td><td>140</td><td>NA</td><td>NA</td><td>NA</td><td>NA</td><td>NA</td><td>NA</td><td>NA</td><td>NA</td><td>NA</td><td>NA</td><td>NA</td><td>NA</td><td>NA</td><td>NA</td></tr>\n",
       "\t<tr><td>37448594</td><td>141168</td><td>2.233333</td><td>NA</td><td>NA</td><td>140</td><td>NA</td><td>NA</td><td>NA</td><td>NA</td><td>NA</td><td>NA</td><td>NA</td><td>NA</td><td>NA</td><td>NA</td><td>NA</td><td>NA</td><td>NA</td><td>NA</td></tr>\n",
       "\t<tr><td>37448402</td><td>141168</td><td>2.316667</td><td>NA</td><td>NA</td><td>140</td><td>NA</td><td>NA</td><td>NA</td><td>NA</td><td>NA</td><td>NA</td><td>NA</td><td>NA</td><td>NA</td><td>NA</td><td>NA</td><td>NA</td><td>NA</td><td>NA</td></tr>\n",
       "\t<tr><td>37448210</td><td>141168</td><td>2.400000</td><td>NA</td><td>NA</td><td>140</td><td>NA</td><td>NA</td><td>NA</td><td>NA</td><td>NA</td><td>NA</td><td>NA</td><td>NA</td><td>NA</td><td>NA</td><td>NA</td><td>NA</td><td>NA</td><td>NA</td></tr>\n",
       "\t<tr><td>37448020</td><td>141168</td><td>2.483333</td><td>NA</td><td>NA</td><td>140</td><td>NA</td><td>NA</td><td>NA</td><td>NA</td><td>NA</td><td>NA</td><td>NA</td><td>NA</td><td>NA</td><td>NA</td><td>NA</td><td>NA</td><td>NA</td><td>NA</td></tr>\n",
       "\t<tr><td>37447831</td><td>141168</td><td>2.566667</td><td>NA</td><td>NA</td><td>136</td><td>NA</td><td>NA</td><td>NA</td><td>NA</td><td>NA</td><td>NA</td><td>NA</td><td>NA</td><td>NA</td><td>NA</td><td>NA</td><td>NA</td><td>NA</td><td>NA</td></tr>\n",
       "\t<tr><td>37447641</td><td>141168</td><td>2.650000</td><td>NA</td><td>NA</td><td>132</td><td>NA</td><td>NA</td><td>NA</td><td>NA</td><td>NA</td><td>NA</td><td>NA</td><td>NA</td><td>NA</td><td>NA</td><td>NA</td><td>NA</td><td>NA</td><td>NA</td></tr>\n",
       "\t<tr><td>37447450</td><td>141168</td><td>2.733333</td><td>NA</td><td>NA</td><td>132</td><td>NA</td><td>NA</td><td>NA</td><td>NA</td><td>NA</td><td>NA</td><td>NA</td><td>NA</td><td>NA</td><td>NA</td><td>NA</td><td>NA</td><td>NA</td><td>NA</td></tr>\n",
       "</tbody>\n",
       "</table>\n"
      ],
      "text/latex": [
       "A data.table: 10 × 20\n",
       "\\begin{tabular}{llllllllllllllllllll}\n",
       " vitalperiodicid & patientunitstayid & observationoffset & temperature & sao2 & heartrate & respiration & cvp & etco2 & systemicsystolic & systemicdiastolic & systemicmean & pasystolic & padiastolic & pamean & st1 & st2 & st3 & icp & timecol\\\\\n",
       " <int64> & <int> & <dbl> & <dbl> & <int> & <int> & <int> & <int> & <int> & <int> & <int> & <int> & <int> & <int> & <int> & <dbl> & <dbl> & <dbl> & <int> & <chr>\\\\\n",
       "\\hline\n",
       "\t 37449174 & 141168 & 1.983333 & NA & 93 & 140 & NA & NA & NA & NA & NA & NA & NA & NA & NA & NA & NA & NA & NA & NA\\\\\n",
       "\t 37448979 & 141168 & 2.066667 & NA & NA & 140 & NA & NA & NA & NA & NA & NA & NA & NA & NA & NA & NA & NA & NA & NA\\\\\n",
       "\t 37448785 & 141168 & 2.150000 & NA & NA & 140 & NA & NA & NA & NA & NA & NA & NA & NA & NA & NA & NA & NA & NA & NA\\\\\n",
       "\t 37448594 & 141168 & 2.233333 & NA & NA & 140 & NA & NA & NA & NA & NA & NA & NA & NA & NA & NA & NA & NA & NA & NA\\\\\n",
       "\t 37448402 & 141168 & 2.316667 & NA & NA & 140 & NA & NA & NA & NA & NA & NA & NA & NA & NA & NA & NA & NA & NA & NA\\\\\n",
       "\t 37448210 & 141168 & 2.400000 & NA & NA & 140 & NA & NA & NA & NA & NA & NA & NA & NA & NA & NA & NA & NA & NA & NA\\\\\n",
       "\t 37448020 & 141168 & 2.483333 & NA & NA & 140 & NA & NA & NA & NA & NA & NA & NA & NA & NA & NA & NA & NA & NA & NA\\\\\n",
       "\t 37447831 & 141168 & 2.566667 & NA & NA & 136 & NA & NA & NA & NA & NA & NA & NA & NA & NA & NA & NA & NA & NA & NA\\\\\n",
       "\t 37447641 & 141168 & 2.650000 & NA & NA & 132 & NA & NA & NA & NA & NA & NA & NA & NA & NA & NA & NA & NA & NA & NA\\\\\n",
       "\t 37447450 & 141168 & 2.733333 & NA & NA & 132 & NA & NA & NA & NA & NA & NA & NA & NA & NA & NA & NA & NA & NA & NA\\\\\n",
       "\\end{tabular}\n"
      ],
      "text/markdown": [
       "\n",
       "A data.table: 10 × 20\n",
       "\n",
       "| vitalperiodicid &lt;int64&gt; | patientunitstayid &lt;int&gt; | observationoffset &lt;dbl&gt; | temperature &lt;dbl&gt; | sao2 &lt;int&gt; | heartrate &lt;int&gt; | respiration &lt;int&gt; | cvp &lt;int&gt; | etco2 &lt;int&gt; | systemicsystolic &lt;int&gt; | systemicdiastolic &lt;int&gt; | systemicmean &lt;int&gt; | pasystolic &lt;int&gt; | padiastolic &lt;int&gt; | pamean &lt;int&gt; | st1 &lt;dbl&gt; | st2 &lt;dbl&gt; | st3 &lt;dbl&gt; | icp &lt;int&gt; | timecol &lt;chr&gt; |\n",
       "|---|---|---|---|---|---|---|---|---|---|---|---|---|---|---|---|---|---|---|---|\n",
       "| 37449174 | 141168 | 1.983333 | NA | 93 | 140 | NA | NA | NA | NA | NA | NA | NA | NA | NA | NA | NA | NA | NA | NA |\n",
       "| 37448979 | 141168 | 2.066667 | NA | NA | 140 | NA | NA | NA | NA | NA | NA | NA | NA | NA | NA | NA | NA | NA | NA |\n",
       "| 37448785 | 141168 | 2.150000 | NA | NA | 140 | NA | NA | NA | NA | NA | NA | NA | NA | NA | NA | NA | NA | NA | NA |\n",
       "| 37448594 | 141168 | 2.233333 | NA | NA | 140 | NA | NA | NA | NA | NA | NA | NA | NA | NA | NA | NA | NA | NA | NA |\n",
       "| 37448402 | 141168 | 2.316667 | NA | NA | 140 | NA | NA | NA | NA | NA | NA | NA | NA | NA | NA | NA | NA | NA | NA |\n",
       "| 37448210 | 141168 | 2.400000 | NA | NA | 140 | NA | NA | NA | NA | NA | NA | NA | NA | NA | NA | NA | NA | NA | NA |\n",
       "| 37448020 | 141168 | 2.483333 | NA | NA | 140 | NA | NA | NA | NA | NA | NA | NA | NA | NA | NA | NA | NA | NA | NA |\n",
       "| 37447831 | 141168 | 2.566667 | NA | NA | 136 | NA | NA | NA | NA | NA | NA | NA | NA | NA | NA | NA | NA | NA | NA |\n",
       "| 37447641 | 141168 | 2.650000 | NA | NA | 132 | NA | NA | NA | NA | NA | NA | NA | NA | NA | NA | NA | NA | NA | NA |\n",
       "| 37447450 | 141168 | 2.733333 | NA | NA | 132 | NA | NA | NA | NA | NA | NA | NA | NA | NA | NA | NA | NA | NA | NA |\n",
       "\n"
      ],
      "text/plain": [
       "   vitalperiodicid patientunitstayid observationoffset temperature sao2\n",
       "1  37449174        141168            1.983333          NA          93  \n",
       "2  37448979        141168            2.066667          NA          NA  \n",
       "3  37448785        141168            2.150000          NA          NA  \n",
       "4  37448594        141168            2.233333          NA          NA  \n",
       "5  37448402        141168            2.316667          NA          NA  \n",
       "6  37448210        141168            2.400000          NA          NA  \n",
       "7  37448020        141168            2.483333          NA          NA  \n",
       "8  37447831        141168            2.566667          NA          NA  \n",
       "9  37447641        141168            2.650000          NA          NA  \n",
       "10 37447450        141168            2.733333          NA          NA  \n",
       "   heartrate respiration cvp etco2 systemicsystolic systemicdiastolic\n",
       "1  140       NA          NA  NA    NA               NA               \n",
       "2  140       NA          NA  NA    NA               NA               \n",
       "3  140       NA          NA  NA    NA               NA               \n",
       "4  140       NA          NA  NA    NA               NA               \n",
       "5  140       NA          NA  NA    NA               NA               \n",
       "6  140       NA          NA  NA    NA               NA               \n",
       "7  140       NA          NA  NA    NA               NA               \n",
       "8  136       NA          NA  NA    NA               NA               \n",
       "9  132       NA          NA  NA    NA               NA               \n",
       "10 132       NA          NA  NA    NA               NA               \n",
       "   systemicmean pasystolic padiastolic pamean st1 st2 st3 icp timecol\n",
       "1  NA           NA         NA          NA     NA  NA  NA  NA  NA     \n",
       "2  NA           NA         NA          NA     NA  NA  NA  NA  NA     \n",
       "3  NA           NA         NA          NA     NA  NA  NA  NA  NA     \n",
       "4  NA           NA         NA          NA     NA  NA  NA  NA  NA     \n",
       "5  NA           NA         NA          NA     NA  NA  NA  NA  NA     \n",
       "6  NA           NA         NA          NA     NA  NA  NA  NA  NA     \n",
       "7  NA           NA         NA          NA     NA  NA  NA  NA  NA     \n",
       "8  NA           NA         NA          NA     NA  NA  NA  NA  NA     \n",
       "9  NA           NA         NA          NA     NA  NA  NA  NA  NA     \n",
       "10 NA           NA         NA          NA     NA  NA  NA  NA  NA     "
      ]
     },
     "metadata": {},
     "output_type": "display_data"
    }
   ],
   "source": [
    "vitalsign_k[1:10,]"
   ]
  },
  {
   "cell_type": "markdown",
   "metadata": {},
   "source": [
    "#### **Sequence resampling**"
   ]
  },
  {
   "cell_type": "code",
   "execution_count": 53,
   "metadata": {
    "vscode": {
     "languageId": "r"
    }
   },
   "outputs": [],
   "source": [
    "# resample the long table\n",
    "vitalsign_k1 <- resample_data_wide(vitalsign_k, # long table that needs resampling\n",
    "                                  d_custom$itemid, # id list of the variable\n",
    "                                  d_custom$value_type,  # The value type list of the variable\n",
    "                                  d_custom$agg_f, # aggregation method list of variables\n",
    "                                  time_range,  # aggregation method list of variables\n",
    "                                  \"observationoffset\",  # the column name for relative start times in the long table\n",
    "                                  \"timecol\",  # the column name for relative end times in the long table\n",
    "                                  1 # time interval/time window\n",
    "                                  )"
   ]
  },
  {
   "cell_type": "code",
   "execution_count": 54,
   "metadata": {
    "vscode": {
     "languageId": "r"
    }
   },
   "outputs": [
    {
     "data": {
      "text/html": [
       "<table class=\"dataframe\">\n",
       "<caption>A matrix: 10 × 10 of type chr</caption>\n",
       "<thead>\n",
       "\t<tr><th scope=col>time</th><th scope=col>keep</th><th scope=col>temperature</th><th scope=col>sao2</th><th scope=col>heartrate</th><th scope=col>respiration</th><th scope=col>cvp</th><th scope=col>etco2</th><th scope=col>systemicsystolic</th><th scope=col>systemicdiastolic</th></tr>\n",
       "</thead>\n",
       "<tbody>\n",
       "\t<tr><td>1 </td><td>1</td><td>NA</td><td>NA</td><td>NA </td><td>NA</td><td>NA</td><td>NA</td><td>NA</td><td>NA</td></tr>\n",
       "\t<tr><td>2 </td><td>1</td><td>NA</td><td>93</td><td>140</td><td>NA</td><td>NA</td><td>NA</td><td>NA</td><td>NA</td></tr>\n",
       "\t<tr><td>3 </td><td>1</td><td>NA</td><td>93</td><td>134</td><td>NA</td><td>NA</td><td>NA</td><td>NA</td><td>NA</td></tr>\n",
       "\t<tr><td>4 </td><td>1</td><td>NA</td><td>75</td><td>134</td><td>NA</td><td>NA</td><td>NA</td><td>NA</td><td>NA</td></tr>\n",
       "\t<tr><td>5 </td><td>1</td><td>NA</td><td>79</td><td>134</td><td>NA</td><td>NA</td><td>NA</td><td>NA</td><td>NA</td></tr>\n",
       "\t<tr><td>6 </td><td>1</td><td>NA</td><td>84</td><td>134</td><td>NA</td><td>NA</td><td>NA</td><td>NA</td><td>NA</td></tr>\n",
       "\t<tr><td>7 </td><td>1</td><td>NA</td><td>84</td><td>132</td><td>NA</td><td>NA</td><td>NA</td><td>NA</td><td>NA</td></tr>\n",
       "\t<tr><td>8 </td><td>1</td><td>NA</td><td>84</td><td>132</td><td>NA</td><td>NA</td><td>NA</td><td>NA</td><td>NA</td></tr>\n",
       "\t<tr><td>9 </td><td>1</td><td>NA</td><td>84</td><td>132</td><td>NA</td><td>NA</td><td>NA</td><td>NA</td><td>NA</td></tr>\n",
       "\t<tr><td>10</td><td>1</td><td>NA</td><td>84</td><td>130</td><td>NA</td><td>NA</td><td>NA</td><td>NA</td><td>NA</td></tr>\n",
       "</tbody>\n",
       "</table>\n"
      ],
      "text/latex": [
       "A matrix: 10 × 10 of type chr\n",
       "\\begin{tabular}{llllllllll}\n",
       " time & keep & temperature & sao2 & heartrate & respiration & cvp & etco2 & systemicsystolic & systemicdiastolic\\\\\n",
       "\\hline\n",
       "\t 1  & 1 & NA & NA & NA  & NA & NA & NA & NA & NA\\\\\n",
       "\t 2  & 1 & NA & 93 & 140 & NA & NA & NA & NA & NA\\\\\n",
       "\t 3  & 1 & NA & 93 & 134 & NA & NA & NA & NA & NA\\\\\n",
       "\t 4  & 1 & NA & 75 & 134 & NA & NA & NA & NA & NA\\\\\n",
       "\t 5  & 1 & NA & 79 & 134 & NA & NA & NA & NA & NA\\\\\n",
       "\t 6  & 1 & NA & 84 & 134 & NA & NA & NA & NA & NA\\\\\n",
       "\t 7  & 1 & NA & 84 & 132 & NA & NA & NA & NA & NA\\\\\n",
       "\t 8  & 1 & NA & 84 & 132 & NA & NA & NA & NA & NA\\\\\n",
       "\t 9  & 1 & NA & 84 & 132 & NA & NA & NA & NA & NA\\\\\n",
       "\t 10 & 1 & NA & 84 & 130 & NA & NA & NA & NA & NA\\\\\n",
       "\\end{tabular}\n"
      ],
      "text/markdown": [
       "\n",
       "A matrix: 10 × 10 of type chr\n",
       "\n",
       "| time | keep | temperature | sao2 | heartrate | respiration | cvp | etco2 | systemicsystolic | systemicdiastolic |\n",
       "|---|---|---|---|---|---|---|---|---|---|\n",
       "| 1  | 1 | NA | NA | NA  | NA | NA | NA | NA | NA |\n",
       "| 2  | 1 | NA | 93 | 140 | NA | NA | NA | NA | NA |\n",
       "| 3  | 1 | NA | 93 | 134 | NA | NA | NA | NA | NA |\n",
       "| 4  | 1 | NA | 75 | 134 | NA | NA | NA | NA | NA |\n",
       "| 5  | 1 | NA | 79 | 134 | NA | NA | NA | NA | NA |\n",
       "| 6  | 1 | NA | 84 | 134 | NA | NA | NA | NA | NA |\n",
       "| 7  | 1 | NA | 84 | 132 | NA | NA | NA | NA | NA |\n",
       "| 8  | 1 | NA | 84 | 132 | NA | NA | NA | NA | NA |\n",
       "| 9  | 1 | NA | 84 | 132 | NA | NA | NA | NA | NA |\n",
       "| 10 | 1 | NA | 84 | 130 | NA | NA | NA | NA | NA |\n",
       "\n"
      ],
      "text/plain": [
       "      time keep temperature sao2 heartrate respiration cvp etco2\n",
       " [1,] 1    1    NA          NA   NA        NA          NA  NA   \n",
       " [2,] 2    1    NA          93   140       NA          NA  NA   \n",
       " [3,] 3    1    NA          93   134       NA          NA  NA   \n",
       " [4,] 4    1    NA          75   134       NA          NA  NA   \n",
       " [5,] 5    1    NA          79   134       NA          NA  NA   \n",
       " [6,] 6    1    NA          84   134       NA          NA  NA   \n",
       " [7,] 7    1    NA          84   132       NA          NA  NA   \n",
       " [8,] 8    1    NA          84   132       NA          NA  NA   \n",
       " [9,] 9    1    NA          84   132       NA          NA  NA   \n",
       "[10,] 10   1    NA          84   130       NA          NA  NA   \n",
       "      systemicsystolic systemicdiastolic\n",
       " [1,] NA               NA               \n",
       " [2,] NA               NA               \n",
       " [3,] NA               NA               \n",
       " [4,] NA               NA               \n",
       " [5,] NA               NA               \n",
       " [6,] NA               NA               \n",
       " [7,] NA               NA               \n",
       " [8,] NA               NA               \n",
       " [9,] NA               NA               \n",
       "[10,] NA               NA               "
      ]
     },
     "metadata": {},
     "output_type": "display_data"
    }
   ],
   "source": [
    "vitalsign_k1[1:10,1:10]"
   ]
  },
  {
   "cell_type": "code",
   "execution_count": 55,
   "metadata": {
    "vscode": {
     "languageId": "r"
    }
   },
   "outputs": [],
   "source": [
    "d_custom <- get_fill_method(d_custom)"
   ]
  },
  {
   "cell_type": "code",
   "execution_count": 56,
   "metadata": {
    "vscode": {
     "languageId": "r"
    }
   },
   "outputs": [
    {
     "data": {
      "text/html": [
       "<table class=\"dataframe\">\n",
       "<caption>A data.frame: 4 × 6</caption>\n",
       "<thead>\n",
       "\t<tr><th></th><th scope=col>itemid</th><th scope=col>value_type</th><th scope=col>acqu_type</th><th scope=col>agg_f</th><th scope=col>fill</th><th scope=col>fillall</th></tr>\n",
       "\t<tr><th></th><th scope=col>&lt;chr&gt;</th><th scope=col>&lt;chr&gt;</th><th scope=col>&lt;chr&gt;</th><th scope=col>&lt;chr&gt;</th><th scope=col>&lt;chr&gt;</th><th scope=col>&lt;chr&gt;</th></tr>\n",
       "</thead>\n",
       "<tbody>\n",
       "\t<tr><th scope=row>1</th><td>temperature</td><td>num</td><td>obs</td><td>last</td><td>locf</td><td>mean</td></tr>\n",
       "\t<tr><th scope=row>2</th><td>sao2       </td><td>num</td><td>obs</td><td>last</td><td>locf</td><td>mean</td></tr>\n",
       "\t<tr><th scope=row>3</th><td>heartrate  </td><td>num</td><td>obs</td><td>last</td><td>locf</td><td>mean</td></tr>\n",
       "\t<tr><th scope=row>4</th><td>respiration</td><td>num</td><td>obs</td><td>last</td><td>locf</td><td>mean</td></tr>\n",
       "</tbody>\n",
       "</table>\n"
      ],
      "text/latex": [
       "A data.frame: 4 × 6\n",
       "\\begin{tabular}{r|llllll}\n",
       "  & itemid & value\\_type & acqu\\_type & agg\\_f & fill & fillall\\\\\n",
       "  & <chr> & <chr> & <chr> & <chr> & <chr> & <chr>\\\\\n",
       "\\hline\n",
       "\t1 & temperature & num & obs & last & locf & mean\\\\\n",
       "\t2 & sao2        & num & obs & last & locf & mean\\\\\n",
       "\t3 & heartrate   & num & obs & last & locf & mean\\\\\n",
       "\t4 & respiration & num & obs & last & locf & mean\\\\\n",
       "\\end{tabular}\n"
      ],
      "text/markdown": [
       "\n",
       "A data.frame: 4 × 6\n",
       "\n",
       "| <!--/--> | itemid &lt;chr&gt; | value_type &lt;chr&gt; | acqu_type &lt;chr&gt; | agg_f &lt;chr&gt; | fill &lt;chr&gt; | fillall &lt;chr&gt; |\n",
       "|---|---|---|---|---|---|---|\n",
       "| 1 | temperature | num | obs | last | locf | mean |\n",
       "| 2 | sao2        | num | obs | last | locf | mean |\n",
       "| 3 | heartrate   | num | obs | last | locf | mean |\n",
       "| 4 | respiration | num | obs | last | locf | mean |\n",
       "\n"
      ],
      "text/plain": [
       "  itemid      value_type acqu_type agg_f fill fillall\n",
       "1 temperature num        obs       last  locf mean   \n",
       "2 sao2        num        obs       last  locf mean   \n",
       "3 heartrate   num        obs       last  locf mean   \n",
       "4 respiration num        obs       last  locf mean   "
      ]
     },
     "metadata": {},
     "output_type": "display_data"
    }
   ],
   "source": [
    "d_custom[1:4,]"
   ]
  },
  {
   "cell_type": "markdown",
   "metadata": {},
   "source": [
    "#### **Data imputation**"
   ]
  },
  {
   "cell_type": "code",
   "execution_count": 57,
   "metadata": {
    "vscode": {
     "languageId": "r"
    }
   },
   "outputs": [],
   "source": [
    "vitalsign_k2 <- fill(vitalsign_k1,  # wide table to fill\n",
    "                    3:ncol(vitalsign_k1),  # The index of the column to be filled\n",
    "                    1,  # Index of the time column\n",
    "                    d_custom$value_type,  # value type list\n",
    "                    d_custom$fill,  # fill method list\n",
    "                    d_custom$fillall, # fillall method list \n",
    "                    stat_vital # List of statistics (this was previously generated using the get_stat_* function)\n",
    "                    )"
   ]
  },
  {
   "cell_type": "code",
   "execution_count": 58,
   "metadata": {
    "vscode": {
     "languageId": "r"
    }
   },
   "outputs": [
    {
     "data": {
      "text/html": [
       "<table class=\"dataframe\">\n",
       "<caption>A matrix: 10 × 10 of type chr</caption>\n",
       "<thead>\n",
       "\t<tr><th scope=col>time</th><th scope=col>temperature</th><th scope=col>sao2</th><th scope=col>heartrate</th><th scope=col>respiration</th><th scope=col>cvp</th><th scope=col>etco2</th><th scope=col>systemicsystolic</th><th scope=col>systemicdiastolic</th><th scope=col>systemicmean</th></tr>\n",
       "</thead>\n",
       "<tbody>\n",
       "\t<tr><td>1 </td><td>39.0070477083854</td><td>93</td><td>140</td><td>20.1089271251924</td><td>33</td><td>31.4004136699633</td><td>46</td><td>20</td><td>31</td></tr>\n",
       "\t<tr><td>2 </td><td>39.0070477083854</td><td>93</td><td>140</td><td>20.1089271251924</td><td>33</td><td>31.4004136699633</td><td>46</td><td>20</td><td>31</td></tr>\n",
       "\t<tr><td>3 </td><td>39.0070477083854</td><td>93</td><td>134</td><td>20.1089271251924</td><td>33</td><td>31.4004136699633</td><td>46</td><td>20</td><td>31</td></tr>\n",
       "\t<tr><td>4 </td><td>39.0070477083854</td><td>75</td><td>134</td><td>20.1089271251924</td><td>33</td><td>31.4004136699633</td><td>46</td><td>20</td><td>31</td></tr>\n",
       "\t<tr><td>5 </td><td>39.0070477083854</td><td>79</td><td>134</td><td>20.1089271251924</td><td>33</td><td>31.4004136699633</td><td>46</td><td>20</td><td>31</td></tr>\n",
       "\t<tr><td>6 </td><td>39.0070477083854</td><td>84</td><td>134</td><td>20.1089271251924</td><td>33</td><td>31.4004136699633</td><td>46</td><td>20</td><td>31</td></tr>\n",
       "\t<tr><td>7 </td><td>39.0070477083854</td><td>84</td><td>132</td><td>20.1089271251924</td><td>33</td><td>31.4004136699633</td><td>46</td><td>20</td><td>31</td></tr>\n",
       "\t<tr><td>8 </td><td>39.0070477083854</td><td>84</td><td>132</td><td>20.1089271251924</td><td>33</td><td>31.4004136699633</td><td>46</td><td>20</td><td>31</td></tr>\n",
       "\t<tr><td>9 </td><td>39.0070477083854</td><td>84</td><td>132</td><td>20.1089271251924</td><td>33</td><td>31.4004136699633</td><td>46</td><td>20</td><td>31</td></tr>\n",
       "\t<tr><td>10</td><td>39.0070477083854</td><td>84</td><td>130</td><td>20.1089271251924</td><td>33</td><td>31.4004136699633</td><td>46</td><td>20</td><td>31</td></tr>\n",
       "</tbody>\n",
       "</table>\n"
      ],
      "text/latex": [
       "A matrix: 10 × 10 of type chr\n",
       "\\begin{tabular}{llllllllll}\n",
       " time & temperature & sao2 & heartrate & respiration & cvp & etco2 & systemicsystolic & systemicdiastolic & systemicmean\\\\\n",
       "\\hline\n",
       "\t 1  & 39.0070477083854 & 93 & 140 & 20.1089271251924 & 33 & 31.4004136699633 & 46 & 20 & 31\\\\\n",
       "\t 2  & 39.0070477083854 & 93 & 140 & 20.1089271251924 & 33 & 31.4004136699633 & 46 & 20 & 31\\\\\n",
       "\t 3  & 39.0070477083854 & 93 & 134 & 20.1089271251924 & 33 & 31.4004136699633 & 46 & 20 & 31\\\\\n",
       "\t 4  & 39.0070477083854 & 75 & 134 & 20.1089271251924 & 33 & 31.4004136699633 & 46 & 20 & 31\\\\\n",
       "\t 5  & 39.0070477083854 & 79 & 134 & 20.1089271251924 & 33 & 31.4004136699633 & 46 & 20 & 31\\\\\n",
       "\t 6  & 39.0070477083854 & 84 & 134 & 20.1089271251924 & 33 & 31.4004136699633 & 46 & 20 & 31\\\\\n",
       "\t 7  & 39.0070477083854 & 84 & 132 & 20.1089271251924 & 33 & 31.4004136699633 & 46 & 20 & 31\\\\\n",
       "\t 8  & 39.0070477083854 & 84 & 132 & 20.1089271251924 & 33 & 31.4004136699633 & 46 & 20 & 31\\\\\n",
       "\t 9  & 39.0070477083854 & 84 & 132 & 20.1089271251924 & 33 & 31.4004136699633 & 46 & 20 & 31\\\\\n",
       "\t 10 & 39.0070477083854 & 84 & 130 & 20.1089271251924 & 33 & 31.4004136699633 & 46 & 20 & 31\\\\\n",
       "\\end{tabular}\n"
      ],
      "text/markdown": [
       "\n",
       "A matrix: 10 × 10 of type chr\n",
       "\n",
       "| time | temperature | sao2 | heartrate | respiration | cvp | etco2 | systemicsystolic | systemicdiastolic | systemicmean |\n",
       "|---|---|---|---|---|---|---|---|---|---|\n",
       "| 1  | 39.0070477083854 | 93 | 140 | 20.1089271251924 | 33 | 31.4004136699633 | 46 | 20 | 31 |\n",
       "| 2  | 39.0070477083854 | 93 | 140 | 20.1089271251924 | 33 | 31.4004136699633 | 46 | 20 | 31 |\n",
       "| 3  | 39.0070477083854 | 93 | 134 | 20.1089271251924 | 33 | 31.4004136699633 | 46 | 20 | 31 |\n",
       "| 4  | 39.0070477083854 | 75 | 134 | 20.1089271251924 | 33 | 31.4004136699633 | 46 | 20 | 31 |\n",
       "| 5  | 39.0070477083854 | 79 | 134 | 20.1089271251924 | 33 | 31.4004136699633 | 46 | 20 | 31 |\n",
       "| 6  | 39.0070477083854 | 84 | 134 | 20.1089271251924 | 33 | 31.4004136699633 | 46 | 20 | 31 |\n",
       "| 7  | 39.0070477083854 | 84 | 132 | 20.1089271251924 | 33 | 31.4004136699633 | 46 | 20 | 31 |\n",
       "| 8  | 39.0070477083854 | 84 | 132 | 20.1089271251924 | 33 | 31.4004136699633 | 46 | 20 | 31 |\n",
       "| 9  | 39.0070477083854 | 84 | 132 | 20.1089271251924 | 33 | 31.4004136699633 | 46 | 20 | 31 |\n",
       "| 10 | 39.0070477083854 | 84 | 130 | 20.1089271251924 | 33 | 31.4004136699633 | 46 | 20 | 31 |\n",
       "\n"
      ],
      "text/plain": [
       "      time temperature      sao2 heartrate respiration      cvp\n",
       " [1,] 1    39.0070477083854 93   140       20.1089271251924 33 \n",
       " [2,] 2    39.0070477083854 93   140       20.1089271251924 33 \n",
       " [3,] 3    39.0070477083854 93   134       20.1089271251924 33 \n",
       " [4,] 4    39.0070477083854 75   134       20.1089271251924 33 \n",
       " [5,] 5    39.0070477083854 79   134       20.1089271251924 33 \n",
       " [6,] 6    39.0070477083854 84   134       20.1089271251924 33 \n",
       " [7,] 7    39.0070477083854 84   132       20.1089271251924 33 \n",
       " [8,] 8    39.0070477083854 84   132       20.1089271251924 33 \n",
       " [9,] 9    39.0070477083854 84   132       20.1089271251924 33 \n",
       "[10,] 10   39.0070477083854 84   130       20.1089271251924 33 \n",
       "      etco2            systemicsystolic systemicdiastolic systemicmean\n",
       " [1,] 31.4004136699633 46               20                31          \n",
       " [2,] 31.4004136699633 46               20                31          \n",
       " [3,] 31.4004136699633 46               20                31          \n",
       " [4,] 31.4004136699633 46               20                31          \n",
       " [5,] 31.4004136699633 46               20                31          \n",
       " [6,] 31.4004136699633 46               20                31          \n",
       " [7,] 31.4004136699633 46               20                31          \n",
       " [8,] 31.4004136699633 46               20                31          \n",
       " [9,] 31.4004136699633 46               20                31          \n",
       "[10,] 31.4004136699633 46               20                31          "
      ]
     },
     "metadata": {},
     "output_type": "display_data"
    }
   ],
   "source": [
    "vitalsign_k2[1:10,1:10]"
   ]
  },
  {
   "cell_type": "markdown",
   "metadata": {},
   "source": [
    "#### **Variable transformation**"
   ]
  },
  {
   "cell_type": "code",
   "execution_count": 59,
   "metadata": {
    "vscode": {
     "languageId": "r"
    }
   },
   "outputs": [],
   "source": [
    "vitalsign_k2 <- norm_num(vitalsign_k2,  # wide table that needs to be normalized\n",
    "                        2:ncol(vitalsign_k2), # Index of the column that needs to be processed\n",
    "                        1, # Index of the time column\n",
    "                        d_custom$value_type,  # value type list\n",
    "                        stat_vital # List of statistics (this was previously generated using the get_stat_* function)\n",
    "                        )"
   ]
  },
  {
   "cell_type": "code",
   "execution_count": 60,
   "metadata": {
    "vscode": {
     "languageId": "r"
    }
   },
   "outputs": [
    {
     "data": {
      "text/html": [
       "<table class=\"dataframe\">\n",
       "<caption>A matrix: 10 × 10 of type chr</caption>\n",
       "<thead>\n",
       "\t<tr><th scope=col>time</th><th scope=col>temperature</th><th scope=col>sao2</th><th scope=col>heartrate</th><th scope=col>respiration</th><th scope=col>cvp</th><th scope=col>etco2</th><th scope=col>systemicsystolic</th><th scope=col>systemicdiastolic</th><th scope=col>systemicmean</th></tr>\n",
       "</thead>\n",
       "<tbody>\n",
       "\t<tr><td>1 </td><td>0</td><td>-1.7119770393 </td><td>4.427116222 </td><td>0</td><td>-0.4452239288</td><td>0</td><td>-4.687323389</td><td>-4.6346846104</td><td>-4.8961439279</td></tr>\n",
       "\t<tr><td>2 </td><td>0</td><td>-1.7119770393 </td><td>4.427116222 </td><td>0</td><td>-0.4452239288</td><td>0</td><td>-4.687323389</td><td>-4.6346846104</td><td>-4.8961439279</td></tr>\n",
       "\t<tr><td>3 </td><td>0</td><td>-1.7119770393 </td><td>3.9367135076</td><td>0</td><td>-0.4452239288</td><td>0</td><td>-4.687323389</td><td>-4.6346846104</td><td>-4.8961439279</td></tr>\n",
       "\t<tr><td>4 </td><td>0</td><td>-10.0797568505</td><td>3.9367135076</td><td>0</td><td>-0.4452239288</td><td>0</td><td>-4.687323389</td><td>-4.6346846104</td><td>-4.8961439279</td></tr>\n",
       "\t<tr><td>5 </td><td>0</td><td>-8.2202502258 </td><td>3.9367135076</td><td>0</td><td>-0.4452239288</td><td>0</td><td>-4.687323389</td><td>-4.6346846104</td><td>-4.8961439279</td></tr>\n",
       "\t<tr><td>6 </td><td>0</td><td>-5.8958669449 </td><td>3.9367135076</td><td>0</td><td>-0.4452239288</td><td>0</td><td>-4.687323389</td><td>-4.6346846104</td><td>-4.8961439279</td></tr>\n",
       "\t<tr><td>7 </td><td>0</td><td>-5.8958669449 </td><td>3.7732459362</td><td>0</td><td>-0.4452239288</td><td>0</td><td>-4.687323389</td><td>-4.6346846104</td><td>-4.8961439279</td></tr>\n",
       "\t<tr><td>8 </td><td>0</td><td>-5.8958669449 </td><td>3.7732459362</td><td>0</td><td>-0.4452239288</td><td>0</td><td>-4.687323389</td><td>-4.6346846104</td><td>-4.8961439279</td></tr>\n",
       "\t<tr><td>9 </td><td>0</td><td>-5.8958669449 </td><td>3.7732459362</td><td>0</td><td>-0.4452239288</td><td>0</td><td>-4.687323389</td><td>-4.6346846104</td><td>-4.8961439279</td></tr>\n",
       "\t<tr><td>10</td><td>0</td><td>-5.8958669449 </td><td>3.6097783647</td><td>0</td><td>-0.4452239288</td><td>0</td><td>-4.687323389</td><td>-4.6346846104</td><td>-4.8961439279</td></tr>\n",
       "</tbody>\n",
       "</table>\n"
      ],
      "text/latex": [
       "A matrix: 10 × 10 of type chr\n",
       "\\begin{tabular}{llllllllll}\n",
       " time & temperature & sao2 & heartrate & respiration & cvp & etco2 & systemicsystolic & systemicdiastolic & systemicmean\\\\\n",
       "\\hline\n",
       "\t 1  & 0 & -1.7119770393  & 4.427116222  & 0 & -0.4452239288 & 0 & -4.687323389 & -4.6346846104 & -4.8961439279\\\\\n",
       "\t 2  & 0 & -1.7119770393  & 4.427116222  & 0 & -0.4452239288 & 0 & -4.687323389 & -4.6346846104 & -4.8961439279\\\\\n",
       "\t 3  & 0 & -1.7119770393  & 3.9367135076 & 0 & -0.4452239288 & 0 & -4.687323389 & -4.6346846104 & -4.8961439279\\\\\n",
       "\t 4  & 0 & -10.0797568505 & 3.9367135076 & 0 & -0.4452239288 & 0 & -4.687323389 & -4.6346846104 & -4.8961439279\\\\\n",
       "\t 5  & 0 & -8.2202502258  & 3.9367135076 & 0 & -0.4452239288 & 0 & -4.687323389 & -4.6346846104 & -4.8961439279\\\\\n",
       "\t 6  & 0 & -5.8958669449  & 3.9367135076 & 0 & -0.4452239288 & 0 & -4.687323389 & -4.6346846104 & -4.8961439279\\\\\n",
       "\t 7  & 0 & -5.8958669449  & 3.7732459362 & 0 & -0.4452239288 & 0 & -4.687323389 & -4.6346846104 & -4.8961439279\\\\\n",
       "\t 8  & 0 & -5.8958669449  & 3.7732459362 & 0 & -0.4452239288 & 0 & -4.687323389 & -4.6346846104 & -4.8961439279\\\\\n",
       "\t 9  & 0 & -5.8958669449  & 3.7732459362 & 0 & -0.4452239288 & 0 & -4.687323389 & -4.6346846104 & -4.8961439279\\\\\n",
       "\t 10 & 0 & -5.8958669449  & 3.6097783647 & 0 & -0.4452239288 & 0 & -4.687323389 & -4.6346846104 & -4.8961439279\\\\\n",
       "\\end{tabular}\n"
      ],
      "text/markdown": [
       "\n",
       "A matrix: 10 × 10 of type chr\n",
       "\n",
       "| time | temperature | sao2 | heartrate | respiration | cvp | etco2 | systemicsystolic | systemicdiastolic | systemicmean |\n",
       "|---|---|---|---|---|---|---|---|---|---|\n",
       "| 1  | 0 | -1.7119770393  | 4.427116222  | 0 | -0.4452239288 | 0 | -4.687323389 | -4.6346846104 | -4.8961439279 |\n",
       "| 2  | 0 | -1.7119770393  | 4.427116222  | 0 | -0.4452239288 | 0 | -4.687323389 | -4.6346846104 | -4.8961439279 |\n",
       "| 3  | 0 | -1.7119770393  | 3.9367135076 | 0 | -0.4452239288 | 0 | -4.687323389 | -4.6346846104 | -4.8961439279 |\n",
       "| 4  | 0 | -10.0797568505 | 3.9367135076 | 0 | -0.4452239288 | 0 | -4.687323389 | -4.6346846104 | -4.8961439279 |\n",
       "| 5  | 0 | -8.2202502258  | 3.9367135076 | 0 | -0.4452239288 | 0 | -4.687323389 | -4.6346846104 | -4.8961439279 |\n",
       "| 6  | 0 | -5.8958669449  | 3.9367135076 | 0 | -0.4452239288 | 0 | -4.687323389 | -4.6346846104 | -4.8961439279 |\n",
       "| 7  | 0 | -5.8958669449  | 3.7732459362 | 0 | -0.4452239288 | 0 | -4.687323389 | -4.6346846104 | -4.8961439279 |\n",
       "| 8  | 0 | -5.8958669449  | 3.7732459362 | 0 | -0.4452239288 | 0 | -4.687323389 | -4.6346846104 | -4.8961439279 |\n",
       "| 9  | 0 | -5.8958669449  | 3.7732459362 | 0 | -0.4452239288 | 0 | -4.687323389 | -4.6346846104 | -4.8961439279 |\n",
       "| 10 | 0 | -5.8958669449  | 3.6097783647 | 0 | -0.4452239288 | 0 | -4.687323389 | -4.6346846104 | -4.8961439279 |\n",
       "\n"
      ],
      "text/plain": [
       "      time temperature sao2           heartrate    respiration cvp          \n",
       " [1,] 1    0           -1.7119770393  4.427116222  0           -0.4452239288\n",
       " [2,] 2    0           -1.7119770393  4.427116222  0           -0.4452239288\n",
       " [3,] 3    0           -1.7119770393  3.9367135076 0           -0.4452239288\n",
       " [4,] 4    0           -10.0797568505 3.9367135076 0           -0.4452239288\n",
       " [5,] 5    0           -8.2202502258  3.9367135076 0           -0.4452239288\n",
       " [6,] 6    0           -5.8958669449  3.9367135076 0           -0.4452239288\n",
       " [7,] 7    0           -5.8958669449  3.7732459362 0           -0.4452239288\n",
       " [8,] 8    0           -5.8958669449  3.7732459362 0           -0.4452239288\n",
       " [9,] 9    0           -5.8958669449  3.7732459362 0           -0.4452239288\n",
       "[10,] 10   0           -5.8958669449  3.6097783647 0           -0.4452239288\n",
       "      etco2 systemicsystolic systemicdiastolic systemicmean \n",
       " [1,] 0     -4.687323389     -4.6346846104     -4.8961439279\n",
       " [2,] 0     -4.687323389     -4.6346846104     -4.8961439279\n",
       " [3,] 0     -4.687323389     -4.6346846104     -4.8961439279\n",
       " [4,] 0     -4.687323389     -4.6346846104     -4.8961439279\n",
       " [5,] 0     -4.687323389     -4.6346846104     -4.8961439279\n",
       " [6,] 0     -4.687323389     -4.6346846104     -4.8961439279\n",
       " [7,] 0     -4.687323389     -4.6346846104     -4.8961439279\n",
       " [8,] 0     -4.687323389     -4.6346846104     -4.8961439279\n",
       " [9,] 0     -4.687323389     -4.6346846104     -4.8961439279\n",
       "[10,] 0     -4.687323389     -4.6346846104     -4.8961439279"
      ]
     },
     "metadata": {},
     "output_type": "display_data"
    }
   ],
   "source": [
    "vitalsign_k2[1:10,1:10]"
   ]
  },
  {
   "cell_type": "code",
   "execution_count": 336,
   "metadata": {
    "vscode": {
     "languageId": "r"
    }
   },
   "outputs": [],
   "source": [
    "vitalsign_k2 <- to_onehot(vitalsign_k2, # wide table that requires one_hot transformation\n",
    "                         2:ncol(vitalsign_k2), # Index of the column that needs to be processed\n",
    "                         1, # Index of the time column\n",
    "                         d_custom$value_type,  # value type list\n",
    "                         stat_vital # List of statistics (this was previously generated using the get_stat_* function)\n",
    "                         )"
   ]
  },
  {
   "cell_type": "markdown",
   "metadata": {},
   "source": [
    "#### **Feature engineering**"
   ]
  },
  {
   "cell_type": "code",
   "execution_count": 61,
   "metadata": {
    "vscode": {
     "languageId": "r"
    }
   },
   "outputs": [],
   "source": [
    "mask_k1 <- get_mask(vitalsign_k1, 3:ncol(vitalsign_k1), 1)\n",
    "mask_k1 <- shape_as_onehot(mask_k1, 2:ncol(mask_k1), 1, get_type(stat_vital), stat_vital)"
   ]
  },
  {
   "cell_type": "code",
   "execution_count": 62,
   "metadata": {
    "vscode": {
     "languageId": "r"
    }
   },
   "outputs": [
    {
     "data": {
      "text/html": [
       "<table class=\"dataframe\">\n",
       "<caption>A matrix: 10 × 10 of type chr</caption>\n",
       "<thead>\n",
       "\t<tr><th scope=col>time</th><th scope=col>temperature</th><th scope=col>sao2</th><th scope=col>heartrate</th><th scope=col>respiration</th><th scope=col>cvp</th><th scope=col>etco2</th><th scope=col>systemicsystolic</th><th scope=col>systemicdiastolic</th><th scope=col>systemicmean</th></tr>\n",
       "</thead>\n",
       "<tbody>\n",
       "\t<tr><td>1 </td><td>0</td><td>0</td><td>0</td><td>0</td><td>0</td><td>0</td><td>0</td><td>0</td><td>0</td></tr>\n",
       "\t<tr><td>2 </td><td>0</td><td>1</td><td>1</td><td>0</td><td>0</td><td>0</td><td>0</td><td>0</td><td>0</td></tr>\n",
       "\t<tr><td>3 </td><td>0</td><td>1</td><td>1</td><td>0</td><td>0</td><td>0</td><td>0</td><td>0</td><td>0</td></tr>\n",
       "\t<tr><td>4 </td><td>0</td><td>1</td><td>1</td><td>0</td><td>0</td><td>0</td><td>0</td><td>0</td><td>0</td></tr>\n",
       "\t<tr><td>5 </td><td>0</td><td>1</td><td>1</td><td>0</td><td>0</td><td>0</td><td>0</td><td>0</td><td>0</td></tr>\n",
       "\t<tr><td>6 </td><td>0</td><td>1</td><td>1</td><td>0</td><td>0</td><td>0</td><td>0</td><td>0</td><td>0</td></tr>\n",
       "\t<tr><td>7 </td><td>0</td><td>1</td><td>1</td><td>0</td><td>0</td><td>0</td><td>0</td><td>0</td><td>0</td></tr>\n",
       "\t<tr><td>8 </td><td>0</td><td>1</td><td>1</td><td>0</td><td>0</td><td>0</td><td>0</td><td>0</td><td>0</td></tr>\n",
       "\t<tr><td>9 </td><td>0</td><td>1</td><td>1</td><td>0</td><td>0</td><td>0</td><td>0</td><td>0</td><td>0</td></tr>\n",
       "\t<tr><td>10</td><td>0</td><td>1</td><td>1</td><td>0</td><td>0</td><td>0</td><td>0</td><td>0</td><td>0</td></tr>\n",
       "</tbody>\n",
       "</table>\n"
      ],
      "text/latex": [
       "A matrix: 10 × 10 of type chr\n",
       "\\begin{tabular}{llllllllll}\n",
       " time & temperature & sao2 & heartrate & respiration & cvp & etco2 & systemicsystolic & systemicdiastolic & systemicmean\\\\\n",
       "\\hline\n",
       "\t 1  & 0 & 0 & 0 & 0 & 0 & 0 & 0 & 0 & 0\\\\\n",
       "\t 2  & 0 & 1 & 1 & 0 & 0 & 0 & 0 & 0 & 0\\\\\n",
       "\t 3  & 0 & 1 & 1 & 0 & 0 & 0 & 0 & 0 & 0\\\\\n",
       "\t 4  & 0 & 1 & 1 & 0 & 0 & 0 & 0 & 0 & 0\\\\\n",
       "\t 5  & 0 & 1 & 1 & 0 & 0 & 0 & 0 & 0 & 0\\\\\n",
       "\t 6  & 0 & 1 & 1 & 0 & 0 & 0 & 0 & 0 & 0\\\\\n",
       "\t 7  & 0 & 1 & 1 & 0 & 0 & 0 & 0 & 0 & 0\\\\\n",
       "\t 8  & 0 & 1 & 1 & 0 & 0 & 0 & 0 & 0 & 0\\\\\n",
       "\t 9  & 0 & 1 & 1 & 0 & 0 & 0 & 0 & 0 & 0\\\\\n",
       "\t 10 & 0 & 1 & 1 & 0 & 0 & 0 & 0 & 0 & 0\\\\\n",
       "\\end{tabular}\n"
      ],
      "text/markdown": [
       "\n",
       "A matrix: 10 × 10 of type chr\n",
       "\n",
       "| time | temperature | sao2 | heartrate | respiration | cvp | etco2 | systemicsystolic | systemicdiastolic | systemicmean |\n",
       "|---|---|---|---|---|---|---|---|---|---|\n",
       "| 1  | 0 | 0 | 0 | 0 | 0 | 0 | 0 | 0 | 0 |\n",
       "| 2  | 0 | 1 | 1 | 0 | 0 | 0 | 0 | 0 | 0 |\n",
       "| 3  | 0 | 1 | 1 | 0 | 0 | 0 | 0 | 0 | 0 |\n",
       "| 4  | 0 | 1 | 1 | 0 | 0 | 0 | 0 | 0 | 0 |\n",
       "| 5  | 0 | 1 | 1 | 0 | 0 | 0 | 0 | 0 | 0 |\n",
       "| 6  | 0 | 1 | 1 | 0 | 0 | 0 | 0 | 0 | 0 |\n",
       "| 7  | 0 | 1 | 1 | 0 | 0 | 0 | 0 | 0 | 0 |\n",
       "| 8  | 0 | 1 | 1 | 0 | 0 | 0 | 0 | 0 | 0 |\n",
       "| 9  | 0 | 1 | 1 | 0 | 0 | 0 | 0 | 0 | 0 |\n",
       "| 10 | 0 | 1 | 1 | 0 | 0 | 0 | 0 | 0 | 0 |\n",
       "\n"
      ],
      "text/plain": [
       "      time temperature sao2 heartrate respiration cvp etco2 systemicsystolic\n",
       " [1,] 1    0           0    0         0           0   0     0               \n",
       " [2,] 2    0           1    1         0           0   0     0               \n",
       " [3,] 3    0           1    1         0           0   0     0               \n",
       " [4,] 4    0           1    1         0           0   0     0               \n",
       " [5,] 5    0           1    1         0           0   0     0               \n",
       " [6,] 6    0           1    1         0           0   0     0               \n",
       " [7,] 7    0           1    1         0           0   0     0               \n",
       " [8,] 8    0           1    1         0           0   0     0               \n",
       " [9,] 9    0           1    1         0           0   0     0               \n",
       "[10,] 10   0           1    1         0           0   0     0               \n",
       "      systemicdiastolic systemicmean\n",
       " [1,] 0                 0           \n",
       " [2,] 0                 0           \n",
       " [3,] 0                 0           \n",
       " [4,] 0                 0           \n",
       " [5,] 0                 0           \n",
       " [6,] 0                 0           \n",
       " [7,] 0                 0           \n",
       " [8,] 0                 0           \n",
       " [9,] 0                 0           \n",
       "[10,] 0                 0           "
      ]
     },
     "metadata": {},
     "output_type": "display_data"
    }
   ],
   "source": [
    "mask_k1[1:10,1:10]"
   ]
  },
  {
   "cell_type": "code",
   "execution_count": 63,
   "metadata": {
    "vscode": {
     "languageId": "r"
    }
   },
   "outputs": [],
   "source": [
    "delta_k1 <- get_deltamat(mask_k1, 2:ncol(mask_k1),1)"
   ]
  },
  {
   "cell_type": "code",
   "execution_count": 64,
   "metadata": {
    "vscode": {
     "languageId": "r"
    }
   },
   "outputs": [
    {
     "data": {
      "text/html": [
       "<table class=\"dataframe\">\n",
       "<caption>A matrix: 10 × 10 of type chr</caption>\n",
       "<thead>\n",
       "\t<tr><th scope=col>time</th><th scope=col>temperature</th><th scope=col>sao2</th><th scope=col>heartrate</th><th scope=col>respiration</th><th scope=col>cvp</th><th scope=col>etco2</th><th scope=col>systemicsystolic</th><th scope=col>systemicdiastolic</th><th scope=col>systemicmean</th></tr>\n",
       "</thead>\n",
       "<tbody>\n",
       "\t<tr><td>1 </td><td>0</td><td>0</td><td>0</td><td>0</td><td>0</td><td>0</td><td>0</td><td>0</td><td>0</td></tr>\n",
       "\t<tr><td>2 </td><td>1</td><td>1</td><td>1</td><td>1</td><td>1</td><td>1</td><td>1</td><td>1</td><td>1</td></tr>\n",
       "\t<tr><td>3 </td><td>2</td><td>1</td><td>1</td><td>2</td><td>2</td><td>2</td><td>2</td><td>2</td><td>2</td></tr>\n",
       "\t<tr><td>4 </td><td>3</td><td>1</td><td>1</td><td>3</td><td>3</td><td>3</td><td>3</td><td>3</td><td>3</td></tr>\n",
       "\t<tr><td>5 </td><td>4</td><td>1</td><td>1</td><td>4</td><td>4</td><td>4</td><td>4</td><td>4</td><td>4</td></tr>\n",
       "\t<tr><td>6 </td><td>5</td><td>1</td><td>1</td><td>5</td><td>5</td><td>5</td><td>5</td><td>5</td><td>5</td></tr>\n",
       "\t<tr><td>7 </td><td>6</td><td>1</td><td>1</td><td>6</td><td>6</td><td>6</td><td>6</td><td>6</td><td>6</td></tr>\n",
       "\t<tr><td>8 </td><td>7</td><td>1</td><td>1</td><td>7</td><td>7</td><td>7</td><td>7</td><td>7</td><td>7</td></tr>\n",
       "\t<tr><td>9 </td><td>8</td><td>1</td><td>1</td><td>8</td><td>8</td><td>8</td><td>8</td><td>8</td><td>8</td></tr>\n",
       "\t<tr><td>10</td><td>9</td><td>1</td><td>1</td><td>9</td><td>9</td><td>9</td><td>9</td><td>9</td><td>9</td></tr>\n",
       "</tbody>\n",
       "</table>\n"
      ],
      "text/latex": [
       "A matrix: 10 × 10 of type chr\n",
       "\\begin{tabular}{llllllllll}\n",
       " time & temperature & sao2 & heartrate & respiration & cvp & etco2 & systemicsystolic & systemicdiastolic & systemicmean\\\\\n",
       "\\hline\n",
       "\t 1  & 0 & 0 & 0 & 0 & 0 & 0 & 0 & 0 & 0\\\\\n",
       "\t 2  & 1 & 1 & 1 & 1 & 1 & 1 & 1 & 1 & 1\\\\\n",
       "\t 3  & 2 & 1 & 1 & 2 & 2 & 2 & 2 & 2 & 2\\\\\n",
       "\t 4  & 3 & 1 & 1 & 3 & 3 & 3 & 3 & 3 & 3\\\\\n",
       "\t 5  & 4 & 1 & 1 & 4 & 4 & 4 & 4 & 4 & 4\\\\\n",
       "\t 6  & 5 & 1 & 1 & 5 & 5 & 5 & 5 & 5 & 5\\\\\n",
       "\t 7  & 6 & 1 & 1 & 6 & 6 & 6 & 6 & 6 & 6\\\\\n",
       "\t 8  & 7 & 1 & 1 & 7 & 7 & 7 & 7 & 7 & 7\\\\\n",
       "\t 9  & 8 & 1 & 1 & 8 & 8 & 8 & 8 & 8 & 8\\\\\n",
       "\t 10 & 9 & 1 & 1 & 9 & 9 & 9 & 9 & 9 & 9\\\\\n",
       "\\end{tabular}\n"
      ],
      "text/markdown": [
       "\n",
       "A matrix: 10 × 10 of type chr\n",
       "\n",
       "| time | temperature | sao2 | heartrate | respiration | cvp | etco2 | systemicsystolic | systemicdiastolic | systemicmean |\n",
       "|---|---|---|---|---|---|---|---|---|---|\n",
       "| 1  | 0 | 0 | 0 | 0 | 0 | 0 | 0 | 0 | 0 |\n",
       "| 2  | 1 | 1 | 1 | 1 | 1 | 1 | 1 | 1 | 1 |\n",
       "| 3  | 2 | 1 | 1 | 2 | 2 | 2 | 2 | 2 | 2 |\n",
       "| 4  | 3 | 1 | 1 | 3 | 3 | 3 | 3 | 3 | 3 |\n",
       "| 5  | 4 | 1 | 1 | 4 | 4 | 4 | 4 | 4 | 4 |\n",
       "| 6  | 5 | 1 | 1 | 5 | 5 | 5 | 5 | 5 | 5 |\n",
       "| 7  | 6 | 1 | 1 | 6 | 6 | 6 | 6 | 6 | 6 |\n",
       "| 8  | 7 | 1 | 1 | 7 | 7 | 7 | 7 | 7 | 7 |\n",
       "| 9  | 8 | 1 | 1 | 8 | 8 | 8 | 8 | 8 | 8 |\n",
       "| 10 | 9 | 1 | 1 | 9 | 9 | 9 | 9 | 9 | 9 |\n",
       "\n"
      ],
      "text/plain": [
       "      time temperature sao2 heartrate respiration cvp etco2 systemicsystolic\n",
       " [1,] 1    0           0    0         0           0   0     0               \n",
       " [2,] 2    1           1    1         1           1   1     1               \n",
       " [3,] 3    2           1    1         2           2   2     2               \n",
       " [4,] 4    3           1    1         3           3   3     3               \n",
       " [5,] 5    4           1    1         4           4   4     4               \n",
       " [6,] 6    5           1    1         5           5   5     5               \n",
       " [7,] 7    6           1    1         6           6   6     6               \n",
       " [8,] 8    7           1    1         7           7   7     7               \n",
       " [9,] 9    8           1    1         8           8   8     8               \n",
       "[10,] 10   9           1    1         9           9   9     9               \n",
       "      systemicdiastolic systemicmean\n",
       " [1,] 0                 0           \n",
       " [2,] 1                 1           \n",
       " [3,] 2                 2           \n",
       " [4,] 3                 3           \n",
       " [5,] 4                 4           \n",
       " [6,] 5                 5           \n",
       " [7,] 6                 6           \n",
       " [8,] 7                 7           \n",
       " [9,] 8                 8           \n",
       "[10,] 9                 9           "
      ]
     },
     "metadata": {},
     "output_type": "display_data"
    }
   ],
   "source": [
    "delta_k1[1:10,1:10]"
   ]
  },
  {
   "cell_type": "markdown",
   "metadata": {},
   "source": [
    "#### **Output**"
   ]
  },
  {
   "cell_type": "code",
   "execution_count": 65,
   "metadata": {
    "vscode": {
     "languageId": "r"
    }
   },
   "outputs": [],
   "source": [
    "vitalsign_k2 <- as.data.frame(vitalsign_k2) %>% lapply(., as.numeric) %>% as.data.frame\n",
    "mask_k1 <- as.data.frame(mask_k1) %>% lapply(., as.numeric) %>% as.data.frame\n",
    "delta_k1 <- as.data.frame(delta_k1) %>% lapply(., as.numeric) %>% as.data.frame"
   ]
  },
  {
   "cell_type": "markdown",
   "metadata": {},
   "source": [
    "## **Chapter 2: Seamless Integration of EMR-LIP with Other Frameworks**\n",
    "\n",
    "If the output of other frameworks remains in the form of long or wide tables, EMR-LIP can further process the data by constructing an appropriate variable dictionary. This is a significant advantage of EMR-LIP and the reason why it does not provide standalone tools for data cleanup and clinical concept generation. These aspects tend to be highly heterogeneous across studies, making it challenging to offer a one-size-fits-all tool. However, starting from resampling, EMR-LIP provides a highly unified and encapsulated set of tools, promoting standardization in the preprocessing process.\n",
    "\n",
    "To illustrate our approach, let's consider the processing of urine data. First, we utilize clinical concepts generated from https://github.com/MIT-LCP/mimic-code as a basis for our subsequent preprocessing steps.\n",
    "\n",
    "In EMR systems, due to the presence of multiple variables representing urine output, it is sometimes necessary to aggregate these variables to create a single variable that represents the total urine volume. However, this can be a challenging process to standardize due to differences in databases, naming conventions, and other factors. Fortunately, many projects have already completed this step for us, allowing us to directly use their preprocessed results."
   ]
  },
  {
   "cell_type": "code",
   "execution_count": 194,
   "metadata": {
    "vscode": {
     "languageId": "r"
    }
   },
   "outputs": [],
   "source": [
    "library(RPostgreSQL)\n",
    "library(dplyr)"
   ]
  },
  {
   "cell_type": "code",
   "execution_count": 195,
   "metadata": {
    "vscode": {
     "languageId": "r"
    }
   },
   "outputs": [],
   "source": [
    "drv <- dbDriver(\"PostgreSQL\")\n",
    "con <- dbConnect(drv, dbname = \"mimiciv\", \n",
    "                 host = \"127.0.0.1\", port = 5432, \n",
    "                 user = \"ljw\", \n",
    "                 password = \"123456\")"
   ]
  },
  {
   "cell_type": "code",
   "execution_count": 196,
   "metadata": {
    "vscode": {
     "languageId": "r"
    }
   },
   "outputs": [],
   "source": [
    "icustays<-fread(\"/home/luojiawei/mimiciv/mimic-iv-2.2/icu/icustays.csv.gz\",header=T,fill=T)"
   ]
  },
  {
   "cell_type": "code",
   "execution_count": 197,
   "metadata": {
    "vscode": {
     "languageId": "r"
    }
   },
   "outputs": [],
   "source": [
    "table_name <- \"urine_output\"\n",
    "query <- paste0(\"SELECT * FROM \", schema_name, \".\", table_name)\n",
    "urine_output <- dbGetQuery(con, query)"
   ]
  },
  {
   "cell_type": "code",
   "execution_count": 198,
   "metadata": {
    "vscode": {
     "languageId": "r"
    }
   },
   "outputs": [],
   "source": [
    "urine_output <- merge(urine_output, icustays[,c(\"subject_id\",\"hadm_id\",\"stay_id\")], by=c(\"stay_id\"), all.x=T)\n",
    "urine_output <- urine_output[urine_output$hadm_id %in% unique(admissions$hadm_id),]\n",
    "urine_output <- merge(urine_output, admissions[,c(\"hadm_id\",\"admittime\")], by=\"hadm_id\", all.x=T)\n",
    "\n",
    "urine_output <- urine_output %>% filter(hadm_id %in% admissions$hadm_id,\n",
    "                                                charttime >= admittime) %>% \n",
    "                                                mutate(charttime_r = as.numeric(difftime(charttime, admittime, units = \"hours\")))"
   ]
  },
  {
   "cell_type": "code",
   "execution_count": 199,
   "metadata": {
    "vscode": {
     "languageId": "r"
    }
   },
   "outputs": [
    {
     "data": {
      "text/html": [
       "<table class=\"dataframe\">\n",
       "<caption>A data.frame: 3 × 7</caption>\n",
       "<thead>\n",
       "\t<tr><th></th><th scope=col>hadm_id</th><th scope=col>stay_id</th><th scope=col>charttime</th><th scope=col>urineoutput</th><th scope=col>subject_id</th><th scope=col>admittime</th><th scope=col>charttime_r</th></tr>\n",
       "\t<tr><th></th><th scope=col>&lt;int&gt;</th><th scope=col>&lt;int&gt;</th><th scope=col>&lt;dttm&gt;</th><th scope=col>&lt;dbl&gt;</th><th scope=col>&lt;int&gt;</th><th scope=col>&lt;dttm&gt;</th><th scope=col>&lt;dbl&gt;</th></tr>\n",
       "</thead>\n",
       "<tbody>\n",
       "\t<tr><th scope=row>1</th><td>20000094</td><td>35605481</td><td>2150-03-02 15:33:00</td><td> 0</td><td>14046553</td><td>2150-03-02</td><td>15.55000</td></tr>\n",
       "\t<tr><th scope=row>2</th><td>20000094</td><td>35605481</td><td>2150-03-02 15:46:00</td><td>25</td><td>14046553</td><td>2150-03-02</td><td>15.76667</td></tr>\n",
       "\t<tr><th scope=row>3</th><td>20000094</td><td>35605481</td><td>2150-03-02 20:00:00</td><td> 0</td><td>14046553</td><td>2150-03-02</td><td>20.00000</td></tr>\n",
       "</tbody>\n",
       "</table>\n"
      ],
      "text/latex": [
       "A data.frame: 3 × 7\n",
       "\\begin{tabular}{r|lllllll}\n",
       "  & hadm\\_id & stay\\_id & charttime & urineoutput & subject\\_id & admittime & charttime\\_r\\\\\n",
       "  & <int> & <int> & <dttm> & <dbl> & <int> & <dttm> & <dbl>\\\\\n",
       "\\hline\n",
       "\t1 & 20000094 & 35605481 & 2150-03-02 15:33:00 &  0 & 14046553 & 2150-03-02 & 15.55000\\\\\n",
       "\t2 & 20000094 & 35605481 & 2150-03-02 15:46:00 & 25 & 14046553 & 2150-03-02 & 15.76667\\\\\n",
       "\t3 & 20000094 & 35605481 & 2150-03-02 20:00:00 &  0 & 14046553 & 2150-03-02 & 20.00000\\\\\n",
       "\\end{tabular}\n"
      ],
      "text/markdown": [
       "\n",
       "A data.frame: 3 × 7\n",
       "\n",
       "| <!--/--> | hadm_id &lt;int&gt; | stay_id &lt;int&gt; | charttime &lt;dttm&gt; | urineoutput &lt;dbl&gt; | subject_id &lt;int&gt; | admittime &lt;dttm&gt; | charttime_r &lt;dbl&gt; |\n",
       "|---|---|---|---|---|---|---|---|\n",
       "| 1 | 20000094 | 35605481 | 2150-03-02 15:33:00 |  0 | 14046553 | 2150-03-02 | 15.55000 |\n",
       "| 2 | 20000094 | 35605481 | 2150-03-02 15:46:00 | 25 | 14046553 | 2150-03-02 | 15.76667 |\n",
       "| 3 | 20000094 | 35605481 | 2150-03-02 20:00:00 |  0 | 14046553 | 2150-03-02 | 20.00000 |\n",
       "\n"
      ],
      "text/plain": [
       "  hadm_id  stay_id  charttime           urineoutput subject_id admittime \n",
       "1 20000094 35605481 2150-03-02 15:33:00  0          14046553   2150-03-02\n",
       "2 20000094 35605481 2150-03-02 15:46:00 25          14046553   2150-03-02\n",
       "3 20000094 35605481 2150-03-02 20:00:00  0          14046553   2150-03-02\n",
       "  charttime_r\n",
       "1 15.55000   \n",
       "2 15.76667   \n",
       "3 20.00000   "
      ]
     },
     "metadata": {},
     "output_type": "display_data"
    }
   ],
   "source": [
    "urine_output[1:3,]"
   ]
  },
  {
   "cell_type": "code",
   "execution_count": 209,
   "metadata": {
    "vscode": {
     "languageId": "r"
    }
   },
   "outputs": [],
   "source": [
    "d_custom <- data.frame(itemid = names(urine_output)[4], \n",
    "                       value_type=rep(\"num\", 1), \n",
    "                       time_attribute=rep(\"single\", 1),\n",
    "                       acqu_type = rep(\"oper\", 1),\n",
    "                       agg_f = rep(\"sum\", 1))\n",
    "d_custom <- get_fill_method(d_custom)"
   ]
  },
  {
   "cell_type": "code",
   "execution_count": 210,
   "metadata": {
    "vscode": {
     "languageId": "r"
    }
   },
   "outputs": [
    {
     "data": {
      "text/html": [
       "<table class=\"dataframe\">\n",
       "<caption>A data.frame: 1 × 7</caption>\n",
       "<thead>\n",
       "\t<tr><th scope=col>itemid</th><th scope=col>value_type</th><th scope=col>time_attribute</th><th scope=col>acqu_type</th><th scope=col>agg_f</th><th scope=col>fill</th><th scope=col>fillall</th></tr>\n",
       "\t<tr><th scope=col>&lt;chr&gt;</th><th scope=col>&lt;chr&gt;</th><th scope=col>&lt;chr&gt;</th><th scope=col>&lt;chr&gt;</th><th scope=col>&lt;chr&gt;</th><th scope=col>&lt;chr&gt;</th><th scope=col>&lt;chr&gt;</th></tr>\n",
       "</thead>\n",
       "<tbody>\n",
       "\t<tr><td>urineoutput</td><td>num</td><td>single</td><td>oper</td><td>sum</td><td>zero</td><td>zero</td></tr>\n",
       "</tbody>\n",
       "</table>\n"
      ],
      "text/latex": [
       "A data.frame: 1 × 7\n",
       "\\begin{tabular}{lllllll}\n",
       " itemid & value\\_type & time\\_attribute & acqu\\_type & agg\\_f & fill & fillall\\\\\n",
       " <chr> & <chr> & <chr> & <chr> & <chr> & <chr> & <chr>\\\\\n",
       "\\hline\n",
       "\t urineoutput & num & single & oper & sum & zero & zero\\\\\n",
       "\\end{tabular}\n"
      ],
      "text/markdown": [
       "\n",
       "A data.frame: 1 × 7\n",
       "\n",
       "| itemid &lt;chr&gt; | value_type &lt;chr&gt; | time_attribute &lt;chr&gt; | acqu_type &lt;chr&gt; | agg_f &lt;chr&gt; | fill &lt;chr&gt; | fillall &lt;chr&gt; |\n",
       "|---|---|---|---|---|---|---|\n",
       "| urineoutput | num | single | oper | sum | zero | zero |\n",
       "\n"
      ],
      "text/plain": [
       "  itemid      value_type time_attribute acqu_type agg_f fill fillall\n",
       "1 urineoutput num        single         oper      sum   zero zero   "
      ]
     },
     "metadata": {},
     "output_type": "display_data"
    }
   ],
   "source": [
    "d_custom"
   ]
  },
  {
   "cell_type": "code",
   "execution_count": 211,
   "metadata": {
    "vscode": {
     "languageId": "r"
    }
   },
   "outputs": [],
   "source": [
    "stat_uo <- get_stat_wide(urine_output, d_custom$itemid, d_custom$value_type)"
   ]
  },
  {
   "cell_type": "code",
   "execution_count": 212,
   "metadata": {
    "vscode": {
     "languageId": "r"
    }
   },
   "outputs": [],
   "source": [
    "# Without loss of generality, we chose admission with hadm_id 20000094 as our demo object\n",
    "uo_k <- urine_output[which(urine_output$hadm_id == 20000094), ]"
   ]
  },
  {
   "cell_type": "code",
   "execution_count": 213,
   "metadata": {
    "vscode": {
     "languageId": "r"
    }
   },
   "outputs": [
    {
     "data": {
      "text/html": [
       "<table class=\"dataframe\">\n",
       "<caption>A data.frame: 3 × 7</caption>\n",
       "<thead>\n",
       "\t<tr><th></th><th scope=col>hadm_id</th><th scope=col>stay_id</th><th scope=col>charttime</th><th scope=col>urineoutput</th><th scope=col>subject_id</th><th scope=col>admittime</th><th scope=col>charttime_r</th></tr>\n",
       "\t<tr><th></th><th scope=col>&lt;int&gt;</th><th scope=col>&lt;int&gt;</th><th scope=col>&lt;dttm&gt;</th><th scope=col>&lt;dbl&gt;</th><th scope=col>&lt;int&gt;</th><th scope=col>&lt;dttm&gt;</th><th scope=col>&lt;dbl&gt;</th></tr>\n",
       "</thead>\n",
       "<tbody>\n",
       "\t<tr><th scope=row>1</th><td>20000094</td><td>35605481</td><td>2150-03-02 15:33:00</td><td> 0</td><td>14046553</td><td>2150-03-02</td><td>15.55000</td></tr>\n",
       "\t<tr><th scope=row>2</th><td>20000094</td><td>35605481</td><td>2150-03-02 15:46:00</td><td>25</td><td>14046553</td><td>2150-03-02</td><td>15.76667</td></tr>\n",
       "\t<tr><th scope=row>3</th><td>20000094</td><td>35605481</td><td>2150-03-02 20:00:00</td><td> 0</td><td>14046553</td><td>2150-03-02</td><td>20.00000</td></tr>\n",
       "</tbody>\n",
       "</table>\n"
      ],
      "text/latex": [
       "A data.frame: 3 × 7\n",
       "\\begin{tabular}{r|lllllll}\n",
       "  & hadm\\_id & stay\\_id & charttime & urineoutput & subject\\_id & admittime & charttime\\_r\\\\\n",
       "  & <int> & <int> & <dttm> & <dbl> & <int> & <dttm> & <dbl>\\\\\n",
       "\\hline\n",
       "\t1 & 20000094 & 35605481 & 2150-03-02 15:33:00 &  0 & 14046553 & 2150-03-02 & 15.55000\\\\\n",
       "\t2 & 20000094 & 35605481 & 2150-03-02 15:46:00 & 25 & 14046553 & 2150-03-02 & 15.76667\\\\\n",
       "\t3 & 20000094 & 35605481 & 2150-03-02 20:00:00 &  0 & 14046553 & 2150-03-02 & 20.00000\\\\\n",
       "\\end{tabular}\n"
      ],
      "text/markdown": [
       "\n",
       "A data.frame: 3 × 7\n",
       "\n",
       "| <!--/--> | hadm_id &lt;int&gt; | stay_id &lt;int&gt; | charttime &lt;dttm&gt; | urineoutput &lt;dbl&gt; | subject_id &lt;int&gt; | admittime &lt;dttm&gt; | charttime_r &lt;dbl&gt; |\n",
       "|---|---|---|---|---|---|---|---|\n",
       "| 1 | 20000094 | 35605481 | 2150-03-02 15:33:00 |  0 | 14046553 | 2150-03-02 | 15.55000 |\n",
       "| 2 | 20000094 | 35605481 | 2150-03-02 15:46:00 | 25 | 14046553 | 2150-03-02 | 15.76667 |\n",
       "| 3 | 20000094 | 35605481 | 2150-03-02 20:00:00 |  0 | 14046553 | 2150-03-02 | 20.00000 |\n",
       "\n"
      ],
      "text/plain": [
       "  hadm_id  stay_id  charttime           urineoutput subject_id admittime \n",
       "1 20000094 35605481 2150-03-02 15:33:00  0          14046553   2150-03-02\n",
       "2 20000094 35605481 2150-03-02 15:46:00 25          14046553   2150-03-02\n",
       "3 20000094 35605481 2150-03-02 20:00:00  0          14046553   2150-03-02\n",
       "  charttime_r\n",
       "1 15.55000   \n",
       "2 15.76667   \n",
       "3 20.00000   "
      ]
     },
     "metadata": {},
     "output_type": "display_data"
    }
   ],
   "source": [
    "uo_k[1:3,]"
   ]
  },
  {
   "cell_type": "code",
   "execution_count": 228,
   "metadata": {
    "vscode": {
     "languageId": "r"
    }
   },
   "outputs": [],
   "source": [
    "time_range <- 15:20"
   ]
  },
  {
   "cell_type": "code",
   "execution_count": 229,
   "metadata": {
    "vscode": {
     "languageId": "r"
    }
   },
   "outputs": [],
   "source": [
    "uo_k$timecol <- rep(NA, nrow(uo_k))\n",
    "uo_k1 <- resample_process_wide(uo_k, \n",
    "                                d_custom$itemid,\n",
    "                                d_custom$value_type,\n",
    "                                d_custom$agg_f,\n",
    "                                time_range, \n",
    "                                time_col1 = \"charttime_r\", \n",
    "                                time_col2 = \"timecol\",\n",
    "                                time_window = 1,\n",
    "                                keepNArow = T)"
   ]
  },
  {
   "cell_type": "code",
   "execution_count": 230,
   "metadata": {
    "vscode": {
     "languageId": "r"
    }
   },
   "outputs": [
    {
     "data": {
      "text/html": [
       "<table class=\"dataframe\">\n",
       "<caption>A matrix: 6 × 3 of type chr</caption>\n",
       "<thead>\n",
       "\t<tr><th scope=col>time</th><th scope=col>keep</th><th scope=col>urineoutput</th></tr>\n",
       "</thead>\n",
       "<tbody>\n",
       "\t<tr><td>15</td><td>1</td><td>NA</td></tr>\n",
       "\t<tr><td>16</td><td>1</td><td>35</td></tr>\n",
       "\t<tr><td>17</td><td>1</td><td>25</td></tr>\n",
       "\t<tr><td>18</td><td>1</td><td>5 </td></tr>\n",
       "\t<tr><td>19</td><td>0</td><td>NA</td></tr>\n",
       "\t<tr><td>20</td><td>1</td><td>0 </td></tr>\n",
       "</tbody>\n",
       "</table>\n"
      ],
      "text/latex": [
       "A matrix: 6 × 3 of type chr\n",
       "\\begin{tabular}{lll}\n",
       " time & keep & urineoutput\\\\\n",
       "\\hline\n",
       "\t 15 & 1 & NA\\\\\n",
       "\t 16 & 1 & 35\\\\\n",
       "\t 17 & 1 & 25\\\\\n",
       "\t 18 & 1 & 5 \\\\\n",
       "\t 19 & 0 & NA\\\\\n",
       "\t 20 & 1 & 0 \\\\\n",
       "\\end{tabular}\n"
      ],
      "text/markdown": [
       "\n",
       "A matrix: 6 × 3 of type chr\n",
       "\n",
       "| time | keep | urineoutput |\n",
       "|---|---|---|\n",
       "| 15 | 1 | NA |\n",
       "| 16 | 1 | 35 |\n",
       "| 17 | 1 | 25 |\n",
       "| 18 | 1 | 5  |\n",
       "| 19 | 0 | NA |\n",
       "| 20 | 1 | 0  |\n",
       "\n"
      ],
      "text/plain": [
       "     time keep urineoutput\n",
       "[1,] 15   1    NA         \n",
       "[2,] 16   1    35         \n",
       "[3,] 17   1    25         \n",
       "[4,] 18   1    5          \n",
       "[5,] 19   0    NA         \n",
       "[6,] 20   1    0          "
      ]
     },
     "metadata": {},
     "output_type": "display_data"
    }
   ],
   "source": [
    "uo_k1"
   ]
  },
  {
   "cell_type": "markdown",
   "metadata": {},
   "source": [
    "## **Chapter 3: Focusing on the Time Attribute of the Variable**\n",
    "\n",
    "For certain variables, their variable values represent the total or average amount over a specific time range. In such cases, if the resampling interval doesn't completely overlap with the variable's time range, it could lead to bias. Therefore, it's necessary to correct this bias by considering the length of the intersection of intervals. Let's first examine this type of bias.\n",
    "\n",
    "We'll use the dosage of vasodilators as an example to explain this."
   ]
  },
  {
   "cell_type": "code",
   "execution_count": 193,
   "metadata": {
    "vscode": {
     "languageId": "r"
    }
   },
   "outputs": [],
   "source": [
    "library(RPostgreSQL)\n",
    "library(dplyr)"
   ]
  },
  {
   "cell_type": "code",
   "execution_count": 72,
   "metadata": {
    "vscode": {
     "languageId": "r"
    }
   },
   "outputs": [],
   "source": [
    "drv <- dbDriver(\"PostgreSQL\")\n",
    "con <- dbConnect(drv, dbname = \"mimiciv\", \n",
    "                 host = \"127.0.0.1\", port = 5432, \n",
    "                 user = \"ljw\", \n",
    "                 password = \"123456\")"
   ]
  },
  {
   "cell_type": "code",
   "execution_count": null,
   "metadata": {
    "vscode": {
     "languageId": "r"
    }
   },
   "outputs": [],
   "source": [
    "icustays<-fread(\"/home/luojiawei/mimiciv/mimic-iv-2.2/icu/icustays.csv.gz\",header=T,fill=T)"
   ]
  },
  {
   "cell_type": "code",
   "execution_count": 154,
   "metadata": {
    "vscode": {
     "languageId": "r"
    }
   },
   "outputs": [],
   "source": [
    "schema_name <- \"mimiciv_derived\"\n",
    "table_name <- \"vasoactive_agent\"\n",
    "query <- paste0(\"SELECT * FROM \", schema_name, \".\", table_name)\n",
    "vasoactive_agent <- dbGetQuery(con, query)\n",
    "vasoactive_agent <- merge(vasoactive_agent, icustays[,c(\"subject_id\",\"hadm_id\",\"stay_id\")], by=c(\"stay_id\"), all.x=T)\n",
    "vasoactive_agent <- vasoactive_agent[vasoactive_agent$hadm_id %in% unique(admissions$hadm_id),]\n",
    "vasoactive_agent <- merge(vasoactive_agent, admissions[,c(\"hadm_id\",\"admittime\")], by=\"hadm_id\", all.x=T)"
   ]
  },
  {
   "cell_type": "code",
   "execution_count": 155,
   "metadata": {
    "vscode": {
     "languageId": "r"
    }
   },
   "outputs": [],
   "source": [
    "vasoactive_agent <- vasoactive_agent %>% filter(hadm_id %in% admissions$hadm_id,\n",
    "                                                starttime >= admittime) %>% \n",
    "                                                mutate(starttime_r = as.numeric(difftime(starttime, admittime, units = \"hours\")),\n",
    "                                                endtime_r = as.numeric(difftime(endtime, admittime, units = \"hours\")))"
   ]
  },
  {
   "cell_type": "code",
   "execution_count": 156,
   "metadata": {
    "vscode": {
     "languageId": "r"
    }
   },
   "outputs": [
    {
     "data": {
      "text/html": [
       "<table class=\"dataframe\">\n",
       "<caption>A data.frame: 3 × 15</caption>\n",
       "<thead>\n",
       "\t<tr><th></th><th scope=col>hadm_id</th><th scope=col>stay_id</th><th scope=col>starttime</th><th scope=col>endtime</th><th scope=col>dopamine</th><th scope=col>epinephrine</th><th scope=col>norepinephrine</th><th scope=col>phenylephrine</th><th scope=col>vasopressin</th><th scope=col>dobutamine</th><th scope=col>milrinone</th><th scope=col>subject_id</th><th scope=col>admittime</th><th scope=col>starttime_r</th><th scope=col>endtime_r</th></tr>\n",
       "\t<tr><th></th><th scope=col>&lt;int&gt;</th><th scope=col>&lt;int&gt;</th><th scope=col>&lt;dttm&gt;</th><th scope=col>&lt;dttm&gt;</th><th scope=col>&lt;dbl&gt;</th><th scope=col>&lt;dbl&gt;</th><th scope=col>&lt;dbl&gt;</th><th scope=col>&lt;dbl&gt;</th><th scope=col>&lt;dbl&gt;</th><th scope=col>&lt;dbl&gt;</th><th scope=col>&lt;dbl&gt;</th><th scope=col>&lt;int&gt;</th><th scope=col>&lt;dttm&gt;</th><th scope=col>&lt;dbl&gt;</th><th scope=col>&lt;dbl&gt;</th></tr>\n",
       "</thead>\n",
       "<tbody>\n",
       "\t<tr><th scope=row>1</th><td>20000094</td><td>35605481</td><td>2150-03-02 22:12:00</td><td>2150-03-02 22:20:00</td><td>NA</td><td>NA</td><td>0.3040906</td><td>NA</td><td>NA</td><td>7.520021</td><td>NA</td><td>14046553</td><td>2150-03-02</td><td>22.20000</td><td>22.33333</td></tr>\n",
       "\t<tr><th scope=row>2</th><td>20000094</td><td>35605481</td><td>2150-03-03 04:49:00</td><td>2150-03-03 05:13:00</td><td>NA</td><td>NA</td><td>       NA</td><td>NA</td><td>NA</td><td>      NA</td><td>NA</td><td>14046553</td><td>2150-03-02</td><td>28.81667</td><td>29.21667</td></tr>\n",
       "\t<tr><th scope=row>3</th><td>20000094</td><td>35605481</td><td>2150-03-02 16:34:00</td><td>2150-03-02 16:48:00</td><td>NA</td><td>NA</td><td>0.1801096</td><td>NA</td><td>NA</td><td>5.004403</td><td>NA</td><td>14046553</td><td>2150-03-02</td><td>16.56667</td><td>16.80000</td></tr>\n",
       "</tbody>\n",
       "</table>\n"
      ],
      "text/latex": [
       "A data.frame: 3 × 15\n",
       "\\begin{tabular}{r|lllllllllllllll}\n",
       "  & hadm\\_id & stay\\_id & starttime & endtime & dopamine & epinephrine & norepinephrine & phenylephrine & vasopressin & dobutamine & milrinone & subject\\_id & admittime & starttime\\_r & endtime\\_r\\\\\n",
       "  & <int> & <int> & <dttm> & <dttm> & <dbl> & <dbl> & <dbl> & <dbl> & <dbl> & <dbl> & <dbl> & <int> & <dttm> & <dbl> & <dbl>\\\\\n",
       "\\hline\n",
       "\t1 & 20000094 & 35605481 & 2150-03-02 22:12:00 & 2150-03-02 22:20:00 & NA & NA & 0.3040906 & NA & NA & 7.520021 & NA & 14046553 & 2150-03-02 & 22.20000 & 22.33333\\\\\n",
       "\t2 & 20000094 & 35605481 & 2150-03-03 04:49:00 & 2150-03-03 05:13:00 & NA & NA &        NA & NA & NA &       NA & NA & 14046553 & 2150-03-02 & 28.81667 & 29.21667\\\\\n",
       "\t3 & 20000094 & 35605481 & 2150-03-02 16:34:00 & 2150-03-02 16:48:00 & NA & NA & 0.1801096 & NA & NA & 5.004403 & NA & 14046553 & 2150-03-02 & 16.56667 & 16.80000\\\\\n",
       "\\end{tabular}\n"
      ],
      "text/markdown": [
       "\n",
       "A data.frame: 3 × 15\n",
       "\n",
       "| <!--/--> | hadm_id &lt;int&gt; | stay_id &lt;int&gt; | starttime &lt;dttm&gt; | endtime &lt;dttm&gt; | dopamine &lt;dbl&gt; | epinephrine &lt;dbl&gt; | norepinephrine &lt;dbl&gt; | phenylephrine &lt;dbl&gt; | vasopressin &lt;dbl&gt; | dobutamine &lt;dbl&gt; | milrinone &lt;dbl&gt; | subject_id &lt;int&gt; | admittime &lt;dttm&gt; | starttime_r &lt;dbl&gt; | endtime_r &lt;dbl&gt; |\n",
       "|---|---|---|---|---|---|---|---|---|---|---|---|---|---|---|---|\n",
       "| 1 | 20000094 | 35605481 | 2150-03-02 22:12:00 | 2150-03-02 22:20:00 | NA | NA | 0.3040906 | NA | NA | 7.520021 | NA | 14046553 | 2150-03-02 | 22.20000 | 22.33333 |\n",
       "| 2 | 20000094 | 35605481 | 2150-03-03 04:49:00 | 2150-03-03 05:13:00 | NA | NA |        NA | NA | NA |       NA | NA | 14046553 | 2150-03-02 | 28.81667 | 29.21667 |\n",
       "| 3 | 20000094 | 35605481 | 2150-03-02 16:34:00 | 2150-03-02 16:48:00 | NA | NA | 0.1801096 | NA | NA | 5.004403 | NA | 14046553 | 2150-03-02 | 16.56667 | 16.80000 |\n",
       "\n"
      ],
      "text/plain": [
       "  hadm_id  stay_id  starttime           endtime             dopamine\n",
       "1 20000094 35605481 2150-03-02 22:12:00 2150-03-02 22:20:00 NA      \n",
       "2 20000094 35605481 2150-03-03 04:49:00 2150-03-03 05:13:00 NA      \n",
       "3 20000094 35605481 2150-03-02 16:34:00 2150-03-02 16:48:00 NA      \n",
       "  epinephrine norepinephrine phenylephrine vasopressin dobutamine milrinone\n",
       "1 NA          0.3040906      NA            NA          7.520021   NA       \n",
       "2 NA                 NA      NA            NA                NA   NA       \n",
       "3 NA          0.1801096      NA            NA          5.004403   NA       \n",
       "  subject_id admittime  starttime_r endtime_r\n",
       "1 14046553   2150-03-02 22.20000    22.33333 \n",
       "2 14046553   2150-03-02 28.81667    29.21667 \n",
       "3 14046553   2150-03-02 16.56667    16.80000 "
      ]
     },
     "metadata": {},
     "output_type": "display_data"
    }
   ],
   "source": [
    "vasoactive_agent[1:3,]"
   ]
  },
  {
   "cell_type": "code",
   "execution_count": 157,
   "metadata": {
    "vscode": {
     "languageId": "r"
    }
   },
   "outputs": [
    {
     "data": {
      "text/html": [
       "<style>\n",
       ".list-inline {list-style: none; margin:0; padding: 0}\n",
       ".list-inline>li {display: inline-block}\n",
       ".list-inline>li:not(:last-child)::after {content: \"\\00b7\"; padding: 0 .5ex}\n",
       "</style>\n",
       "<ol class=list-inline><li>'hadm_id'</li><li>'stay_id'</li><li>'starttime'</li><li>'endtime'</li><li>'dopamine'</li><li>'epinephrine'</li><li>'norepinephrine'</li><li>'phenylephrine'</li><li>'vasopressin'</li><li>'dobutamine'</li><li>'milrinone'</li><li>'subject_id'</li><li>'admittime'</li><li>'starttime_r'</li><li>'endtime_r'</li></ol>\n"
      ],
      "text/latex": [
       "\\begin{enumerate*}\n",
       "\\item 'hadm\\_id'\n",
       "\\item 'stay\\_id'\n",
       "\\item 'starttime'\n",
       "\\item 'endtime'\n",
       "\\item 'dopamine'\n",
       "\\item 'epinephrine'\n",
       "\\item 'norepinephrine'\n",
       "\\item 'phenylephrine'\n",
       "\\item 'vasopressin'\n",
       "\\item 'dobutamine'\n",
       "\\item 'milrinone'\n",
       "\\item 'subject\\_id'\n",
       "\\item 'admittime'\n",
       "\\item 'starttime\\_r'\n",
       "\\item 'endtime\\_r'\n",
       "\\end{enumerate*}\n"
      ],
      "text/markdown": [
       "1. 'hadm_id'\n",
       "2. 'stay_id'\n",
       "3. 'starttime'\n",
       "4. 'endtime'\n",
       "5. 'dopamine'\n",
       "6. 'epinephrine'\n",
       "7. 'norepinephrine'\n",
       "8. 'phenylephrine'\n",
       "9. 'vasopressin'\n",
       "10. 'dobutamine'\n",
       "11. 'milrinone'\n",
       "12. 'subject_id'\n",
       "13. 'admittime'\n",
       "14. 'starttime_r'\n",
       "15. 'endtime_r'\n",
       "\n",
       "\n"
      ],
      "text/plain": [
       " [1] \"hadm_id\"        \"stay_id\"        \"starttime\"      \"endtime\"       \n",
       " [5] \"dopamine\"       \"epinephrine\"    \"norepinephrine\" \"phenylephrine\" \n",
       " [9] \"vasopressin\"    \"dobutamine\"     \"milrinone\"      \"subject_id\"    \n",
       "[13] \"admittime\"      \"starttime_r\"    \"endtime_r\"     "
      ]
     },
     "metadata": {},
     "output_type": "display_data"
    }
   ],
   "source": [
    "names(vasoactive_agent)"
   ]
  },
  {
   "cell_type": "code",
   "execution_count": 183,
   "metadata": {
    "vscode": {
     "languageId": "r"
    }
   },
   "outputs": [],
   "source": [
    "d_custom <- data.frame(itemid = names(vasoactive_agent)[5:11], \n",
    "                       value_type=rep(\"num\", 11-5+1), \n",
    "                       time_attribute=rep(\"interval\", 11-5+1),\n",
    "                       acqu_type = rep(\"oper\", 11-5+1),\n",
    "                       agg_f = rep(\"sum_w\", 11-5+1))\n",
    "d_custom <- get_fill_method(d_custom)"
   ]
  },
  {
   "cell_type": "code",
   "execution_count": 184,
   "metadata": {
    "vscode": {
     "languageId": "r"
    }
   },
   "outputs": [
    {
     "data": {
      "text/html": [
       "<table class=\"dataframe\">\n",
       "<caption>A data.frame: 7 × 7</caption>\n",
       "<thead>\n",
       "\t<tr><th scope=col>itemid</th><th scope=col>value_type</th><th scope=col>time_attribute</th><th scope=col>acqu_type</th><th scope=col>agg_f</th><th scope=col>fill</th><th scope=col>fillall</th></tr>\n",
       "\t<tr><th scope=col>&lt;chr&gt;</th><th scope=col>&lt;chr&gt;</th><th scope=col>&lt;chr&gt;</th><th scope=col>&lt;chr&gt;</th><th scope=col>&lt;chr&gt;</th><th scope=col>&lt;chr&gt;</th><th scope=col>&lt;chr&gt;</th></tr>\n",
       "</thead>\n",
       "<tbody>\n",
       "\t<tr><td>dopamine      </td><td>num</td><td>interval</td><td>oper</td><td>sum_w</td><td>zero</td><td>zero</td></tr>\n",
       "\t<tr><td>epinephrine   </td><td>num</td><td>interval</td><td>oper</td><td>sum_w</td><td>zero</td><td>zero</td></tr>\n",
       "\t<tr><td>norepinephrine</td><td>num</td><td>interval</td><td>oper</td><td>sum_w</td><td>zero</td><td>zero</td></tr>\n",
       "\t<tr><td>phenylephrine </td><td>num</td><td>interval</td><td>oper</td><td>sum_w</td><td>zero</td><td>zero</td></tr>\n",
       "\t<tr><td>vasopressin   </td><td>num</td><td>interval</td><td>oper</td><td>sum_w</td><td>zero</td><td>zero</td></tr>\n",
       "\t<tr><td>dobutamine    </td><td>num</td><td>interval</td><td>oper</td><td>sum_w</td><td>zero</td><td>zero</td></tr>\n",
       "\t<tr><td>milrinone     </td><td>num</td><td>interval</td><td>oper</td><td>sum_w</td><td>zero</td><td>zero</td></tr>\n",
       "</tbody>\n",
       "</table>\n"
      ],
      "text/latex": [
       "A data.frame: 7 × 7\n",
       "\\begin{tabular}{lllllll}\n",
       " itemid & value\\_type & time\\_attribute & acqu\\_type & agg\\_f & fill & fillall\\\\\n",
       " <chr> & <chr> & <chr> & <chr> & <chr> & <chr> & <chr>\\\\\n",
       "\\hline\n",
       "\t dopamine       & num & interval & oper & sum\\_w & zero & zero\\\\\n",
       "\t epinephrine    & num & interval & oper & sum\\_w & zero & zero\\\\\n",
       "\t norepinephrine & num & interval & oper & sum\\_w & zero & zero\\\\\n",
       "\t phenylephrine  & num & interval & oper & sum\\_w & zero & zero\\\\\n",
       "\t vasopressin    & num & interval & oper & sum\\_w & zero & zero\\\\\n",
       "\t dobutamine     & num & interval & oper & sum\\_w & zero & zero\\\\\n",
       "\t milrinone      & num & interval & oper & sum\\_w & zero & zero\\\\\n",
       "\\end{tabular}\n"
      ],
      "text/markdown": [
       "\n",
       "A data.frame: 7 × 7\n",
       "\n",
       "| itemid &lt;chr&gt; | value_type &lt;chr&gt; | time_attribute &lt;chr&gt; | acqu_type &lt;chr&gt; | agg_f &lt;chr&gt; | fill &lt;chr&gt; | fillall &lt;chr&gt; |\n",
       "|---|---|---|---|---|---|---|\n",
       "| dopamine       | num | interval | oper | sum_w | zero | zero |\n",
       "| epinephrine    | num | interval | oper | sum_w | zero | zero |\n",
       "| norepinephrine | num | interval | oper | sum_w | zero | zero |\n",
       "| phenylephrine  | num | interval | oper | sum_w | zero | zero |\n",
       "| vasopressin    | num | interval | oper | sum_w | zero | zero |\n",
       "| dobutamine     | num | interval | oper | sum_w | zero | zero |\n",
       "| milrinone      | num | interval | oper | sum_w | zero | zero |\n",
       "\n"
      ],
      "text/plain": [
       "  itemid         value_type time_attribute acqu_type agg_f fill fillall\n",
       "1 dopamine       num        interval       oper      sum_w zero zero   \n",
       "2 epinephrine    num        interval       oper      sum_w zero zero   \n",
       "3 norepinephrine num        interval       oper      sum_w zero zero   \n",
       "4 phenylephrine  num        interval       oper      sum_w zero zero   \n",
       "5 vasopressin    num        interval       oper      sum_w zero zero   \n",
       "6 dobutamine     num        interval       oper      sum_w zero zero   \n",
       "7 milrinone      num        interval       oper      sum_w zero zero   "
      ]
     },
     "metadata": {},
     "output_type": "display_data"
    }
   ],
   "source": [
    "d_custom"
   ]
  },
  {
   "cell_type": "code",
   "execution_count": 160,
   "metadata": {
    "vscode": {
     "languageId": "r"
    }
   },
   "outputs": [],
   "source": [
    "stat_vaso <- get_stat_wide(vasoactive_agent, d_custom$itemid, d_custom$value_type)"
   ]
  },
  {
   "cell_type": "code",
   "execution_count": 185,
   "metadata": {
    "vscode": {
     "languageId": "r"
    }
   },
   "outputs": [],
   "source": [
    "# Without loss of generality, we chose admission with hadm_id 20000094 as our demo object\n",
    "vaso_k <- vasoactive_agent[which(vasoactive_agent$hadm_id == 20000094), ]"
   ]
  },
  {
   "cell_type": "code",
   "execution_count": 186,
   "metadata": {
    "vscode": {
     "languageId": "r"
    }
   },
   "outputs": [],
   "source": [
    "time_range <- 25:30"
   ]
  },
  {
   "cell_type": "code",
   "execution_count": 187,
   "metadata": {
    "vscode": {
     "languageId": "r"
    }
   },
   "outputs": [],
   "source": [
    "vaso_k1 <- resample_process_wide(vaso_k, \n",
    "                                d_custom$itemid,\n",
    "                                d_custom$value_type,\n",
    "                                d_custom$agg_f,\n",
    "                                time_range, \n",
    "                                time_col1 = \"starttime_r\", \n",
    "                                time_col2 = \"endtime_r\",\n",
    "                                time_window = 1,\n",
    "                                keepNArow = T)"
   ]
  },
  {
   "cell_type": "code",
   "execution_count": 188,
   "metadata": {
    "vscode": {
     "languageId": "r"
    }
   },
   "outputs": [
    {
     "data": {
      "text/html": [
       "<table class=\"dataframe\">\n",
       "<caption>A matrix: 6 × 9 of type chr</caption>\n",
       "<thead>\n",
       "\t<tr><th scope=col>time</th><th scope=col>keep</th><th scope=col>dopamine</th><th scope=col>epinephrine</th><th scope=col>norepinephrine</th><th scope=col>phenylephrine</th><th scope=col>vasopressin</th><th scope=col>dobutamine</th><th scope=col>milrinone</th></tr>\n",
       "</thead>\n",
       "<tbody>\n",
       "\t<tr><td>25</td><td>1</td><td>0</td><td>0</td><td>0.42102027752593 </td><td>0</td><td>0                </td><td>8.35164206007293</td><td>0</td></tr>\n",
       "\t<tr><td>26</td><td>1</td><td>0</td><td>0</td><td>0.815914641362705</td><td>0</td><td>0                </td><td>11.9549792926466</td><td>0</td></tr>\n",
       "\t<tr><td>27</td><td>1</td><td>0</td><td>0</td><td>0.918775301554478</td><td>0</td><td>0                </td><td>19.0245394311919</td><td>0</td></tr>\n",
       "\t<tr><td>28</td><td>1</td><td>0</td><td>0</td><td>1.58536047781416 </td><td>0</td><td>6.36279031842253 </td><td>30.5360068182337</td><td>0</td></tr>\n",
       "\t<tr><td>29</td><td>1</td><td>0</td><td>0</td><td>1.03336327543208 </td><td>0</td><td>4.83720901400544 </td><td>19.900854821353 </td><td>0</td></tr>\n",
       "\t<tr><td>30</td><td>1</td><td>0</td><td>0</td><td>0.170902387859921</td><td>0</td><td>0.799999952316283</td><td>3.29129522045453</td><td>0</td></tr>\n",
       "</tbody>\n",
       "</table>\n"
      ],
      "text/latex": [
       "A matrix: 6 × 9 of type chr\n",
       "\\begin{tabular}{lllllllll}\n",
       " time & keep & dopamine & epinephrine & norepinephrine & phenylephrine & vasopressin & dobutamine & milrinone\\\\\n",
       "\\hline\n",
       "\t 25 & 1 & 0 & 0 & 0.42102027752593  & 0 & 0                 & 8.35164206007293 & 0\\\\\n",
       "\t 26 & 1 & 0 & 0 & 0.815914641362705 & 0 & 0                 & 11.9549792926466 & 0\\\\\n",
       "\t 27 & 1 & 0 & 0 & 0.918775301554478 & 0 & 0                 & 19.0245394311919 & 0\\\\\n",
       "\t 28 & 1 & 0 & 0 & 1.58536047781416  & 0 & 6.36279031842253  & 30.5360068182337 & 0\\\\\n",
       "\t 29 & 1 & 0 & 0 & 1.03336327543208  & 0 & 4.83720901400544  & 19.900854821353  & 0\\\\\n",
       "\t 30 & 1 & 0 & 0 & 0.170902387859921 & 0 & 0.799999952316283 & 3.29129522045453 & 0\\\\\n",
       "\\end{tabular}\n"
      ],
      "text/markdown": [
       "\n",
       "A matrix: 6 × 9 of type chr\n",
       "\n",
       "| time | keep | dopamine | epinephrine | norepinephrine | phenylephrine | vasopressin | dobutamine | milrinone |\n",
       "|---|---|---|---|---|---|---|---|---|\n",
       "| 25 | 1 | 0 | 0 | 0.42102027752593  | 0 | 0                 | 8.35164206007293 | 0 |\n",
       "| 26 | 1 | 0 | 0 | 0.815914641362705 | 0 | 0                 | 11.9549792926466 | 0 |\n",
       "| 27 | 1 | 0 | 0 | 0.918775301554478 | 0 | 0                 | 19.0245394311919 | 0 |\n",
       "| 28 | 1 | 0 | 0 | 1.58536047781416  | 0 | 6.36279031842253  | 30.5360068182337 | 0 |\n",
       "| 29 | 1 | 0 | 0 | 1.03336327543208  | 0 | 4.83720901400544  | 19.900854821353  | 0 |\n",
       "| 30 | 1 | 0 | 0 | 0.170902387859921 | 0 | 0.799999952316283 | 3.29129522045453 | 0 |\n",
       "\n"
      ],
      "text/plain": [
       "     time keep dopamine epinephrine norepinephrine    phenylephrine\n",
       "[1,] 25   1    0        0           0.42102027752593  0            \n",
       "[2,] 26   1    0        0           0.815914641362705 0            \n",
       "[3,] 27   1    0        0           0.918775301554478 0            \n",
       "[4,] 28   1    0        0           1.58536047781416  0            \n",
       "[5,] 29   1    0        0           1.03336327543208  0            \n",
       "[6,] 30   1    0        0           0.170902387859921 0            \n",
       "     vasopressin       dobutamine       milrinone\n",
       "[1,] 0                 8.35164206007293 0        \n",
       "[2,] 0                 11.9549792926466 0        \n",
       "[3,] 0                 19.0245394311919 0        \n",
       "[4,] 6.36279031842253  30.5360068182337 0        \n",
       "[5,] 4.83720901400544  19.900854821353  0        \n",
       "[6,] 0.799999952316283 3.29129522045453 0        "
      ]
     },
     "metadata": {},
     "output_type": "display_data"
    }
   ],
   "source": [
    "vaso_k1"
   ]
  },
  {
   "cell_type": "code",
   "execution_count": 189,
   "metadata": {
    "vscode": {
     "languageId": "r"
    }
   },
   "outputs": [],
   "source": [
    "# Now, let's change agg_f in d_custom a little bit and see the difference.\n",
    "d_custom$agg_f <- \"sum\""
   ]
  },
  {
   "cell_type": "code",
   "execution_count": 191,
   "metadata": {
    "vscode": {
     "languageId": "r"
    }
   },
   "outputs": [],
   "source": [
    "vaso_k1 <- resample_process_wide(vaso_k, \n",
    "                                d_custom$itemid,\n",
    "                                d_custom$value_type,\n",
    "                                d_custom$agg_f,\n",
    "                                time_range, \n",
    "                                time_col1 = \"starttime_r\", \n",
    "                                time_col2 = \"endtime_r\",\n",
    "                                time_window = 1,\n",
    "                                keepNArow = T)"
   ]
  },
  {
   "cell_type": "code",
   "execution_count": 192,
   "metadata": {
    "vscode": {
     "languageId": "r"
    }
   },
   "outputs": [
    {
     "data": {
      "text/html": [
       "<table class=\"dataframe\">\n",
       "<caption>A matrix: 6 × 9 of type chr</caption>\n",
       "<thead>\n",
       "\t<tr><th scope=col>time</th><th scope=col>keep</th><th scope=col>dopamine</th><th scope=col>epinephrine</th><th scope=col>norepinephrine</th><th scope=col>phenylephrine</th><th scope=col>vasopressin</th><th scope=col>dobutamine</th><th scope=col>milrinone</th></tr>\n",
       "</thead>\n",
       "<tbody>\n",
       "\t<tr><td>25</td><td>1</td><td>0</td><td>0</td><td>0.867078400915488</td><td>0</td><td>0               </td><td>15.0358555838466</td><td>0</td></tr>\n",
       "\t<tr><td>26</td><td>1</td><td>0</td><td>0</td><td>1.02615176001564 </td><td>0</td><td>0               </td><td>15.0358555838466</td><td>0</td></tr>\n",
       "\t<tr><td>27</td><td>1</td><td>0</td><td>0</td><td>1.53799366671592 </td><td>0</td><td>0               </td><td>29.1452067904175</td><td>0</td></tr>\n",
       "\t<tr><td>28</td><td>1</td><td>0</td><td>0</td><td>2.05070083029568 </td><td>0</td><td>7.19999957084655</td><td>39.4991543143988</td><td>0</td></tr>\n",
       "\t<tr><td>29</td><td>1</td><td>0</td><td>0</td><td>1.53812149073929 </td><td>0</td><td>7.19999957084655</td><td>29.6216569840908</td><td>0</td></tr>\n",
       "\t<tr><td>30</td><td>1</td><td>0</td><td>0</td><td>0.512707163579762</td><td>0</td><td>2.39999985694885</td><td>9.8738856613636 </td><td>0</td></tr>\n",
       "</tbody>\n",
       "</table>\n"
      ],
      "text/latex": [
       "A matrix: 6 × 9 of type chr\n",
       "\\begin{tabular}{lllllllll}\n",
       " time & keep & dopamine & epinephrine & norepinephrine & phenylephrine & vasopressin & dobutamine & milrinone\\\\\n",
       "\\hline\n",
       "\t 25 & 1 & 0 & 0 & 0.867078400915488 & 0 & 0                & 15.0358555838466 & 0\\\\\n",
       "\t 26 & 1 & 0 & 0 & 1.02615176001564  & 0 & 0                & 15.0358555838466 & 0\\\\\n",
       "\t 27 & 1 & 0 & 0 & 1.53799366671592  & 0 & 0                & 29.1452067904175 & 0\\\\\n",
       "\t 28 & 1 & 0 & 0 & 2.05070083029568  & 0 & 7.19999957084655 & 39.4991543143988 & 0\\\\\n",
       "\t 29 & 1 & 0 & 0 & 1.53812149073929  & 0 & 7.19999957084655 & 29.6216569840908 & 0\\\\\n",
       "\t 30 & 1 & 0 & 0 & 0.512707163579762 & 0 & 2.39999985694885 & 9.8738856613636  & 0\\\\\n",
       "\\end{tabular}\n"
      ],
      "text/markdown": [
       "\n",
       "A matrix: 6 × 9 of type chr\n",
       "\n",
       "| time | keep | dopamine | epinephrine | norepinephrine | phenylephrine | vasopressin | dobutamine | milrinone |\n",
       "|---|---|---|---|---|---|---|---|---|\n",
       "| 25 | 1 | 0 | 0 | 0.867078400915488 | 0 | 0                | 15.0358555838466 | 0 |\n",
       "| 26 | 1 | 0 | 0 | 1.02615176001564  | 0 | 0                | 15.0358555838466 | 0 |\n",
       "| 27 | 1 | 0 | 0 | 1.53799366671592  | 0 | 0                | 29.1452067904175 | 0 |\n",
       "| 28 | 1 | 0 | 0 | 2.05070083029568  | 0 | 7.19999957084655 | 39.4991543143988 | 0 |\n",
       "| 29 | 1 | 0 | 0 | 1.53812149073929  | 0 | 7.19999957084655 | 29.6216569840908 | 0 |\n",
       "| 30 | 1 | 0 | 0 | 0.512707163579762 | 0 | 2.39999985694885 | 9.8738856613636  | 0 |\n",
       "\n"
      ],
      "text/plain": [
       "     time keep dopamine epinephrine norepinephrine    phenylephrine\n",
       "[1,] 25   1    0        0           0.867078400915488 0            \n",
       "[2,] 26   1    0        0           1.02615176001564  0            \n",
       "[3,] 27   1    0        0           1.53799366671592  0            \n",
       "[4,] 28   1    0        0           2.05070083029568  0            \n",
       "[5,] 29   1    0        0           1.53812149073929  0            \n",
       "[6,] 30   1    0        0           0.512707163579762 0            \n",
       "     vasopressin      dobutamine       milrinone\n",
       "[1,] 0                15.0358555838466 0        \n",
       "[2,] 0                15.0358555838466 0        \n",
       "[3,] 0                29.1452067904175 0        \n",
       "[4,] 7.19999957084655 39.4991543143988 0        \n",
       "[5,] 7.19999957084655 29.6216569840908 0        \n",
       "[6,] 2.39999985694885 9.8738856613636  0        "
      ]
     },
     "metadata": {},
     "output_type": "display_data"
    }
   ],
   "source": [
    "vaso_k1"
   ]
  },
  {
   "cell_type": "markdown",
   "metadata": {},
   "source": [
    "Obviously, if the intersection of time frames is not taken into account, then resampling will overestimate the amount of medication used."
   ]
  },
  {
   "cell_type": "markdown",
   "metadata": {},
   "source": [
    "## **Chapter 4: Runtime Testing of EMR-LIP**"
   ]
  },
  {
   "cell_type": "code",
   "execution_count": 3,
   "metadata": {
    "vscode": {
     "languageId": "r"
    }
   },
   "outputs": [],
   "source": [
    "# We need to use the parallel computation tools from the parallel package to generate data for multiple samples in parallel.\n",
    "library(parallel)"
   ]
  },
  {
   "cell_type": "code",
   "execution_count": 17,
   "metadata": {
    "vscode": {
     "languageId": "r"
    }
   },
   "outputs": [],
   "source": [
    "chartevents<-fread(\"/home/luojiawei/mimiciv/mimic-iv-2.2/icu/chartevents.csv.gz\",header=T,fill=T)\n",
    "d_items<-fread(\"/home/luojiawei/mimiciv/mimic-iv-2.2/icu/d_items.csv.gz\",header=T,fill=T)\n",
    "admissions<-fread(\"/home/luojiawei/mimiciv/mimic-iv-2.2/hosp/admissions.csv.gz\",header=T,fill=T)"
   ]
  },
  {
   "cell_type": "code",
   "execution_count": 5,
   "metadata": {
    "vscode": {
     "languageId": "r"
    }
   },
   "outputs": [
    {
     "data": {
      "text/html": [
       "<table class=\"dataframe\">\n",
       "<caption>A data.table: 4 × 11</caption>\n",
       "<thead>\n",
       "\t<tr><th scope=col>subject_id</th><th scope=col>hadm_id</th><th scope=col>stay_id</th><th scope=col>caregiver_id</th><th scope=col>charttime</th><th scope=col>storetime</th><th scope=col>itemid</th><th scope=col>value</th><th scope=col>valuenum</th><th scope=col>valueuom</th><th scope=col>warning</th></tr>\n",
       "\t<tr><th scope=col>&lt;int&gt;</th><th scope=col>&lt;int&gt;</th><th scope=col>&lt;int&gt;</th><th scope=col>&lt;int&gt;</th><th scope=col>&lt;dttm&gt;</th><th scope=col>&lt;dttm&gt;</th><th scope=col>&lt;int&gt;</th><th scope=col>&lt;chr&gt;</th><th scope=col>&lt;dbl&gt;</th><th scope=col>&lt;chr&gt;</th><th scope=col>&lt;int&gt;</th></tr>\n",
       "</thead>\n",
       "<tbody>\n",
       "\t<tr><td>10000032</td><td>29079034</td><td>39553978</td><td>47007</td><td>2180-07-23 21:01:00</td><td>2180-07-23 22:15:00</td><td>220179</td><td>82</td><td>82</td><td>mmHg</td><td>0</td></tr>\n",
       "\t<tr><td>10000032</td><td>29079034</td><td>39553978</td><td>47007</td><td>2180-07-23 21:01:00</td><td>2180-07-23 22:15:00</td><td>220180</td><td>59</td><td>59</td><td>mmHg</td><td>0</td></tr>\n",
       "\t<tr><td>10000032</td><td>29079034</td><td>39553978</td><td>47007</td><td>2180-07-23 21:01:00</td><td>2180-07-23 22:15:00</td><td>220181</td><td>63</td><td>63</td><td>mmHg</td><td>0</td></tr>\n",
       "\t<tr><td>10000032</td><td>29079034</td><td>39553978</td><td>47007</td><td>2180-07-23 22:00:00</td><td>2180-07-23 22:15:00</td><td>220045</td><td>94</td><td>94</td><td>bpm </td><td>0</td></tr>\n",
       "</tbody>\n",
       "</table>\n"
      ],
      "text/latex": [
       "A data.table: 4 × 11\n",
       "\\begin{tabular}{lllllllllll}\n",
       " subject\\_id & hadm\\_id & stay\\_id & caregiver\\_id & charttime & storetime & itemid & value & valuenum & valueuom & warning\\\\\n",
       " <int> & <int> & <int> & <int> & <dttm> & <dttm> & <int> & <chr> & <dbl> & <chr> & <int>\\\\\n",
       "\\hline\n",
       "\t 10000032 & 29079034 & 39553978 & 47007 & 2180-07-23 21:01:00 & 2180-07-23 22:15:00 & 220179 & 82 & 82 & mmHg & 0\\\\\n",
       "\t 10000032 & 29079034 & 39553978 & 47007 & 2180-07-23 21:01:00 & 2180-07-23 22:15:00 & 220180 & 59 & 59 & mmHg & 0\\\\\n",
       "\t 10000032 & 29079034 & 39553978 & 47007 & 2180-07-23 21:01:00 & 2180-07-23 22:15:00 & 220181 & 63 & 63 & mmHg & 0\\\\\n",
       "\t 10000032 & 29079034 & 39553978 & 47007 & 2180-07-23 22:00:00 & 2180-07-23 22:15:00 & 220045 & 94 & 94 & bpm  & 0\\\\\n",
       "\\end{tabular}\n"
      ],
      "text/markdown": [
       "\n",
       "A data.table: 4 × 11\n",
       "\n",
       "| subject_id &lt;int&gt; | hadm_id &lt;int&gt; | stay_id &lt;int&gt; | caregiver_id &lt;int&gt; | charttime &lt;dttm&gt; | storetime &lt;dttm&gt; | itemid &lt;int&gt; | value &lt;chr&gt; | valuenum &lt;dbl&gt; | valueuom &lt;chr&gt; | warning &lt;int&gt; |\n",
       "|---|---|---|---|---|---|---|---|---|---|---|\n",
       "| 10000032 | 29079034 | 39553978 | 47007 | 2180-07-23 21:01:00 | 2180-07-23 22:15:00 | 220179 | 82 | 82 | mmHg | 0 |\n",
       "| 10000032 | 29079034 | 39553978 | 47007 | 2180-07-23 21:01:00 | 2180-07-23 22:15:00 | 220180 | 59 | 59 | mmHg | 0 |\n",
       "| 10000032 | 29079034 | 39553978 | 47007 | 2180-07-23 21:01:00 | 2180-07-23 22:15:00 | 220181 | 63 | 63 | mmHg | 0 |\n",
       "| 10000032 | 29079034 | 39553978 | 47007 | 2180-07-23 22:00:00 | 2180-07-23 22:15:00 | 220045 | 94 | 94 | bpm  | 0 |\n",
       "\n"
      ],
      "text/plain": [
       "  subject_id hadm_id  stay_id  caregiver_id charttime          \n",
       "1 10000032   29079034 39553978 47007        2180-07-23 21:01:00\n",
       "2 10000032   29079034 39553978 47007        2180-07-23 21:01:00\n",
       "3 10000032   29079034 39553978 47007        2180-07-23 21:01:00\n",
       "4 10000032   29079034 39553978 47007        2180-07-23 22:00:00\n",
       "  storetime           itemid value valuenum valueuom warning\n",
       "1 2180-07-23 22:15:00 220179 82    82       mmHg     0      \n",
       "2 2180-07-23 22:15:00 220180 59    59       mmHg     0      \n",
       "3 2180-07-23 22:15:00 220181 63    63       mmHg     0      \n",
       "4 2180-07-23 22:15:00 220045 94    94       bpm      0      "
      ]
     },
     "metadata": {},
     "output_type": "display_data"
    }
   ],
   "source": [
    "chartevents[1:4,]"
   ]
  },
  {
   "cell_type": "code",
   "execution_count": 6,
   "metadata": {
    "vscode": {
     "languageId": "r"
    }
   },
   "outputs": [
    {
     "data": {
      "text/html": [
       "<table class=\"dataframe\">\n",
       "<caption>A data.table: 4 × 9</caption>\n",
       "<thead>\n",
       "\t<tr><th scope=col>itemid</th><th scope=col>label</th><th scope=col>abbreviation</th><th scope=col>linksto</th><th scope=col>category</th><th scope=col>unitname</th><th scope=col>param_type</th><th scope=col>lownormalvalue</th><th scope=col>highnormalvalue</th></tr>\n",
       "\t<tr><th scope=col>&lt;int&gt;</th><th scope=col>&lt;chr&gt;</th><th scope=col>&lt;chr&gt;</th><th scope=col>&lt;chr&gt;</th><th scope=col>&lt;chr&gt;</th><th scope=col>&lt;chr&gt;</th><th scope=col>&lt;chr&gt;</th><th scope=col>&lt;int&gt;</th><th scope=col>&lt;dbl&gt;</th></tr>\n",
       "</thead>\n",
       "<tbody>\n",
       "\t<tr><td>220001</td><td>Problem List           </td><td>Problem List      </td><td>chartevents   </td><td>General            </td><td>   </td><td>Text         </td><td>NA</td><td>NA</td></tr>\n",
       "\t<tr><td>220003</td><td>ICU Admission date     </td><td>ICU Admission date</td><td>datetimeevents</td><td>ADT                </td><td>   </td><td>Date and time</td><td>NA</td><td>NA</td></tr>\n",
       "\t<tr><td>220045</td><td>Heart Rate             </td><td>HR                </td><td>chartevents   </td><td>Routine Vital Signs</td><td>bpm</td><td>Numeric      </td><td>NA</td><td>NA</td></tr>\n",
       "\t<tr><td>220046</td><td>Heart rate Alarm - High</td><td>HR Alarm - High   </td><td>chartevents   </td><td>Alarms             </td><td>bpm</td><td>Numeric      </td><td>NA</td><td>NA</td></tr>\n",
       "</tbody>\n",
       "</table>\n"
      ],
      "text/latex": [
       "A data.table: 4 × 9\n",
       "\\begin{tabular}{lllllllll}\n",
       " itemid & label & abbreviation & linksto & category & unitname & param\\_type & lownormalvalue & highnormalvalue\\\\\n",
       " <int> & <chr> & <chr> & <chr> & <chr> & <chr> & <chr> & <int> & <dbl>\\\\\n",
       "\\hline\n",
       "\t 220001 & Problem List            & Problem List       & chartevents    & General             &     & Text          & NA & NA\\\\\n",
       "\t 220003 & ICU Admission date      & ICU Admission date & datetimeevents & ADT                 &     & Date and time & NA & NA\\\\\n",
       "\t 220045 & Heart Rate              & HR                 & chartevents    & Routine Vital Signs & bpm & Numeric       & NA & NA\\\\\n",
       "\t 220046 & Heart rate Alarm - High & HR Alarm - High    & chartevents    & Alarms              & bpm & Numeric       & NA & NA\\\\\n",
       "\\end{tabular}\n"
      ],
      "text/markdown": [
       "\n",
       "A data.table: 4 × 9\n",
       "\n",
       "| itemid &lt;int&gt; | label &lt;chr&gt; | abbreviation &lt;chr&gt; | linksto &lt;chr&gt; | category &lt;chr&gt; | unitname &lt;chr&gt; | param_type &lt;chr&gt; | lownormalvalue &lt;int&gt; | highnormalvalue &lt;dbl&gt; |\n",
       "|---|---|---|---|---|---|---|---|---|\n",
       "| 220001 | Problem List            | Problem List       | chartevents    | General             | <!----> | Text          | NA | NA |\n",
       "| 220003 | ICU Admission date      | ICU Admission date | datetimeevents | ADT                 | <!----> | Date and time | NA | NA |\n",
       "| 220045 | Heart Rate              | HR                 | chartevents    | Routine Vital Signs | bpm | Numeric       | NA | NA |\n",
       "| 220046 | Heart rate Alarm - High | HR Alarm - High    | chartevents    | Alarms              | bpm | Numeric       | NA | NA |\n",
       "\n"
      ],
      "text/plain": [
       "  itemid label                   abbreviation       linksto       \n",
       "1 220001 Problem List            Problem List       chartevents   \n",
       "2 220003 ICU Admission date      ICU Admission date datetimeevents\n",
       "3 220045 Heart Rate              HR                 chartevents   \n",
       "4 220046 Heart rate Alarm - High HR Alarm - High    chartevents   \n",
       "  category            unitname param_type    lownormalvalue highnormalvalue\n",
       "1 General                      Text          NA             NA             \n",
       "2 ADT                          Date and time NA             NA             \n",
       "3 Routine Vital Signs bpm      Numeric       NA             NA             \n",
       "4 Alarms              bpm      Numeric       NA             NA             "
      ]
     },
     "metadata": {},
     "output_type": "display_data"
    }
   ],
   "source": [
    "d_items[1:4,]"
   ]
  },
  {
   "cell_type": "code",
   "execution_count": 7,
   "metadata": {
    "vscode": {
     "languageId": "r"
    }
   },
   "outputs": [],
   "source": [
    "d_items <- d_items[d_items$category %in% c('Routine Vital Signs','Respiratory', 'Labs','Alarms') & d_items$linksto %in% c(\"chartevents\") & !(d_items$param_type %in% c(\"Text\", \"Date and time\")), ]"
   ]
  },
  {
   "cell_type": "code",
   "execution_count": 8,
   "metadata": {
    "vscode": {
     "languageId": "r"
    }
   },
   "outputs": [],
   "source": [
    "d_items <- d_items[d_items$itemid %in% unique(chartevents$itemid),]"
   ]
  },
  {
   "cell_type": "code",
   "execution_count": 9,
   "metadata": {
    "vscode": {
     "languageId": "r"
    }
   },
   "outputs": [],
   "source": [
    "d_custom_all <- data.frame(itemid = d_items$itemid, value_type = d_items$param_type)"
   ]
  },
  {
   "cell_type": "code",
   "execution_count": 10,
   "metadata": {
    "vscode": {
     "languageId": "r"
    }
   },
   "outputs": [
    {
     "data": {
      "text/html": [
       "<style>\n",
       ".list-inline {list-style: none; margin:0; padding: 0}\n",
       ".list-inline>li {display: inline-block}\n",
       ".list-inline>li:not(:last-child)::after {content: \"\\00b7\"; padding: 0 .5ex}\n",
       "</style>\n",
       "<ol class=list-inline><li>'Numeric'</li><li>'Checkbox'</li><li>'Numeric with tag'</li></ol>\n"
      ],
      "text/latex": [
       "\\begin{enumerate*}\n",
       "\\item 'Numeric'\n",
       "\\item 'Checkbox'\n",
       "\\item 'Numeric with tag'\n",
       "\\end{enumerate*}\n"
      ],
      "text/markdown": [
       "1. 'Numeric'\n",
       "2. 'Checkbox'\n",
       "3. 'Numeric with tag'\n",
       "\n",
       "\n"
      ],
      "text/plain": [
       "[1] \"Numeric\"          \"Checkbox\"         \"Numeric with tag\""
      ]
     },
     "metadata": {},
     "output_type": "display_data"
    }
   ],
   "source": [
    "unique(d_custom_all$value_type)"
   ]
  },
  {
   "cell_type": "code",
   "execution_count": 11,
   "metadata": {
    "vscode": {
     "languageId": "r"
    }
   },
   "outputs": [],
   "source": [
    "d_custom_all$value_type[d_custom_all$value_type %in% c(\"Numeric\",\"Numeric with tag\")] <- \"num\"\n",
    "d_custom_all$value_type[d_custom_all$value_type %in% c(\"Checkbox\")] <- \"bin\""
   ]
  },
  {
   "cell_type": "code",
   "execution_count": 12,
   "metadata": {
    "vscode": {
     "languageId": "r"
    }
   },
   "outputs": [],
   "source": [
    "d_custom_all$time_attribute <- \"single\"\n",
    "d_custom_all$acqu_type <- \"obs\"\n",
    "d_custom_all$agg_f <- \"median\"\n",
    "d_custom_all <- get_fill_method(d_custom_all)"
   ]
  },
  {
   "cell_type": "code",
   "execution_count": 95,
   "metadata": {
    "vscode": {
     "languageId": "r"
    }
   },
   "outputs": [],
   "source": [
    "d_custom <- d_custom_all[1:100,]"
   ]
  },
  {
   "cell_type": "code",
   "execution_count": 96,
   "metadata": {
    "vscode": {
     "languageId": "r"
    }
   },
   "outputs": [
    {
     "data": {
      "text/html": [
       "<style>\n",
       ".list-inline {list-style: none; margin:0; padding: 0}\n",
       ".list-inline>li {display: inline-block}\n",
       ".list-inline>li:not(:last-child)::after {content: \"\\00b7\"; padding: 0 .5ex}\n",
       "</style>\n",
       "<ol class=list-inline><li>100</li><li>7</li></ol>\n"
      ],
      "text/latex": [
       "\\begin{enumerate*}\n",
       "\\item 100\n",
       "\\item 7\n",
       "\\end{enumerate*}\n"
      ],
      "text/markdown": [
       "1. 100\n",
       "2. 7\n",
       "\n",
       "\n"
      ],
      "text/plain": [
       "[1] 100   7"
      ]
     },
     "metadata": {},
     "output_type": "display_data"
    }
   ],
   "source": [
    "dim(d_custom)"
   ]
  },
  {
   "cell_type": "code",
   "execution_count": 97,
   "metadata": {
    "vscode": {
     "languageId": "r"
    }
   },
   "outputs": [],
   "source": [
    "chart <- chartevents[which(chartevents$itemid %in% d_custom$itemid), ]"
   ]
  },
  {
   "cell_type": "code",
   "execution_count": 98,
   "metadata": {
    "vscode": {
     "languageId": "r"
    }
   },
   "outputs": [],
   "source": [
    "chart <- merge(chart, admissions[,c(\"hadm_id\", \"admittime\")], by=\"hadm_id\", all.x=T)\n",
    "chart$admittime <- as.POSIXct(chart$admittime)\n",
    "chart$charttime_r <- as.numeric(difftime(chart$charttime, chart$admittime, unit=\"hour\"))"
   ]
  },
  {
   "cell_type": "code",
   "execution_count": 99,
   "metadata": {
    "vscode": {
     "languageId": "r"
    }
   },
   "outputs": [
    {
     "data": {
      "text/html": [
       "<table class=\"dataframe\">\n",
       "<caption>A data.table: 4 × 13</caption>\n",
       "<thead>\n",
       "\t<tr><th scope=col>hadm_id</th><th scope=col>subject_id</th><th scope=col>stay_id</th><th scope=col>caregiver_id</th><th scope=col>charttime</th><th scope=col>storetime</th><th scope=col>itemid</th><th scope=col>value</th><th scope=col>valuenum</th><th scope=col>valueuom</th><th scope=col>warning</th><th scope=col>admittime</th><th scope=col>charttime_r</th></tr>\n",
       "\t<tr><th scope=col>&lt;int&gt;</th><th scope=col>&lt;int&gt;</th><th scope=col>&lt;int&gt;</th><th scope=col>&lt;int&gt;</th><th scope=col>&lt;dttm&gt;</th><th scope=col>&lt;dttm&gt;</th><th scope=col>&lt;int&gt;</th><th scope=col>&lt;chr&gt;</th><th scope=col>&lt;dbl&gt;</th><th scope=col>&lt;chr&gt;</th><th scope=col>&lt;int&gt;</th><th scope=col>&lt;dttm&gt;</th><th scope=col>&lt;dbl&gt;</th></tr>\n",
       "</thead>\n",
       "<tbody>\n",
       "\t<tr><td>20000094</td><td>14046553</td><td>35605481</td><td>2314</td><td>2150-03-02 15:19:00</td><td>2150-03-02 15:31:00</td><td>220045</td><td>107</td><td>107</td><td>bpm     </td><td>0</td><td>2150-03-02</td><td>15.31667</td></tr>\n",
       "\t<tr><td>20000094</td><td>14046553</td><td>35605481</td><td>2314</td><td>2150-03-02 15:19:00</td><td>2150-03-02 15:31:00</td><td>220210</td><td>19 </td><td> 19</td><td>insp/min</td><td>0</td><td>2150-03-02</td><td>15.31667</td></tr>\n",
       "\t<tr><td>20000094</td><td>14046553</td><td>35605481</td><td>2314</td><td>2150-03-02 15:25:00</td><td>2150-03-02 15:25:00</td><td>220046</td><td>130</td><td>130</td><td>bpm     </td><td>0</td><td>2150-03-02</td><td>15.41667</td></tr>\n",
       "\t<tr><td>20000094</td><td>14046553</td><td>35605481</td><td>2314</td><td>2150-03-02 15:25:00</td><td>2150-03-02 15:25:00</td><td>220047</td><td>50 </td><td> 50</td><td>bpm     </td><td>0</td><td>2150-03-02</td><td>15.41667</td></tr>\n",
       "</tbody>\n",
       "</table>\n"
      ],
      "text/latex": [
       "A data.table: 4 × 13\n",
       "\\begin{tabular}{lllllllllllll}\n",
       " hadm\\_id & subject\\_id & stay\\_id & caregiver\\_id & charttime & storetime & itemid & value & valuenum & valueuom & warning & admittime & charttime\\_r\\\\\n",
       " <int> & <int> & <int> & <int> & <dttm> & <dttm> & <int> & <chr> & <dbl> & <chr> & <int> & <dttm> & <dbl>\\\\\n",
       "\\hline\n",
       "\t 20000094 & 14046553 & 35605481 & 2314 & 2150-03-02 15:19:00 & 2150-03-02 15:31:00 & 220045 & 107 & 107 & bpm      & 0 & 2150-03-02 & 15.31667\\\\\n",
       "\t 20000094 & 14046553 & 35605481 & 2314 & 2150-03-02 15:19:00 & 2150-03-02 15:31:00 & 220210 & 19  &  19 & insp/min & 0 & 2150-03-02 & 15.31667\\\\\n",
       "\t 20000094 & 14046553 & 35605481 & 2314 & 2150-03-02 15:25:00 & 2150-03-02 15:25:00 & 220046 & 130 & 130 & bpm      & 0 & 2150-03-02 & 15.41667\\\\\n",
       "\t 20000094 & 14046553 & 35605481 & 2314 & 2150-03-02 15:25:00 & 2150-03-02 15:25:00 & 220047 & 50  &  50 & bpm      & 0 & 2150-03-02 & 15.41667\\\\\n",
       "\\end{tabular}\n"
      ],
      "text/markdown": [
       "\n",
       "A data.table: 4 × 13\n",
       "\n",
       "| hadm_id &lt;int&gt; | subject_id &lt;int&gt; | stay_id &lt;int&gt; | caregiver_id &lt;int&gt; | charttime &lt;dttm&gt; | storetime &lt;dttm&gt; | itemid &lt;int&gt; | value &lt;chr&gt; | valuenum &lt;dbl&gt; | valueuom &lt;chr&gt; | warning &lt;int&gt; | admittime &lt;dttm&gt; | charttime_r &lt;dbl&gt; |\n",
       "|---|---|---|---|---|---|---|---|---|---|---|---|---|\n",
       "| 20000094 | 14046553 | 35605481 | 2314 | 2150-03-02 15:19:00 | 2150-03-02 15:31:00 | 220045 | 107 | 107 | bpm      | 0 | 2150-03-02 | 15.31667 |\n",
       "| 20000094 | 14046553 | 35605481 | 2314 | 2150-03-02 15:19:00 | 2150-03-02 15:31:00 | 220210 | 19  |  19 | insp/min | 0 | 2150-03-02 | 15.31667 |\n",
       "| 20000094 | 14046553 | 35605481 | 2314 | 2150-03-02 15:25:00 | 2150-03-02 15:25:00 | 220046 | 130 | 130 | bpm      | 0 | 2150-03-02 | 15.41667 |\n",
       "| 20000094 | 14046553 | 35605481 | 2314 | 2150-03-02 15:25:00 | 2150-03-02 15:25:00 | 220047 | 50  |  50 | bpm      | 0 | 2150-03-02 | 15.41667 |\n",
       "\n"
      ],
      "text/plain": [
       "  hadm_id  subject_id stay_id  caregiver_id charttime          \n",
       "1 20000094 14046553   35605481 2314         2150-03-02 15:19:00\n",
       "2 20000094 14046553   35605481 2314         2150-03-02 15:19:00\n",
       "3 20000094 14046553   35605481 2314         2150-03-02 15:25:00\n",
       "4 20000094 14046553   35605481 2314         2150-03-02 15:25:00\n",
       "  storetime           itemid value valuenum valueuom warning admittime \n",
       "1 2150-03-02 15:31:00 220045 107   107      bpm      0       2150-03-02\n",
       "2 2150-03-02 15:31:00 220210 19     19      insp/min 0       2150-03-02\n",
       "3 2150-03-02 15:25:00 220046 130   130      bpm      0       2150-03-02\n",
       "4 2150-03-02 15:25:00 220047 50     50      bpm      0       2150-03-02\n",
       "  charttime_r\n",
       "1 15.31667   \n",
       "2 15.31667   \n",
       "3 15.41667   \n",
       "4 15.41667   "
      ]
     },
     "metadata": {},
     "output_type": "display_data"
    }
   ],
   "source": [
    "chart[1:4,]"
   ]
  },
  {
   "cell_type": "code",
   "execution_count": 100,
   "metadata": {
    "vscode": {
     "languageId": "r"
    }
   },
   "outputs": [],
   "source": [
    "chart <- remove_extreme_value_long(chart, d_custom$itemid, d_custom$value_type, \"itemid\", \"value\")"
   ]
  },
  {
   "cell_type": "code",
   "execution_count": 101,
   "metadata": {
    "vscode": {
     "languageId": "r"
    }
   },
   "outputs": [],
   "source": [
    "stat_chart <- get_stat_long(chart, d_custom$itemid, d_custom$value_type, \"itemid\", \"value\")"
   ]
  },
  {
   "cell_type": "code",
   "execution_count": 102,
   "metadata": {
    "vscode": {
     "languageId": "r"
    }
   },
   "outputs": [],
   "source": [
    "all_hadmid <- unique(chart$hadm_id)"
   ]
  },
  {
   "cell_type": "code",
   "execution_count": 103,
   "metadata": {
    "vscode": {
     "languageId": "r"
    }
   },
   "outputs": [
    {
     "data": {
      "text/html": [
       "66239"
      ],
      "text/latex": [
       "66239"
      ],
      "text/markdown": [
       "66239"
      ],
      "text/plain": [
       "[1] 66239"
      ]
     },
     "metadata": {},
     "output_type": "display_data"
    }
   ],
   "source": [
    "length(all_hadmid)"
   ]
  },
  {
   "cell_type": "markdown",
   "metadata": {},
   "source": [
    "We can encapsulate the various components of the EMR-LIP framework into a single function, with the input being the identification number of a sample. By doing so, we can generate the data needed for modeling on an end-to-end basis for each sample."
   ]
  },
  {
   "cell_type": "code",
   "execution_count": 106,
   "metadata": {
    "vscode": {
     "languageId": "r"
    }
   },
   "outputs": [],
   "source": [
    "emr_lip_fun <- function(k) {\n",
    "    id_k <- all_hadmid[k]\n",
    "    chart_k <- chart[chart$hadm_id == id_k,]\n",
    "    chart_k$timecol <- NA\n",
    "    # resample the sequence\n",
    "    chart_k1 <- resample_data_long(chart_k,\n",
    "                                d_custom$itemid,\n",
    "                                d_custom$value_type, \n",
    "                                d_custom$agg_f, \n",
    "                                1:48,\n",
    "                                \"itemid\",\n",
    "                                \"value\",\n",
    "                                \"charttime_r\",\n",
    "                                \"timecol\",\n",
    "                                1,keepNArow = T)\n",
    "    # data imputation\n",
    "    chart_k2 <- fill(chart_k1, 3:ncol(chart_k1), 1, d_custom$value_type, d_custom$fill, d_custom$fillall, stat_chart)\n",
    "    # normalization\n",
    "    chart_k2 <- norm_num(chart_k2, 2:ncol(chart_k2), 1, d_custom$value_type, stat_chart)\n",
    "    # feature engineering\n",
    "    mask_k <- get_mask(chart_k1, 3:ncol(chart_k1), 1)\n",
    "    delta_k <- get_deltamat(mask_k, 2:ncol(mask_k), 1)\n",
    "    # output\n",
    "    chart_k2 <- chart_k2 %>% as.data.frame %>% lapply(., as.numeric) %>% as.data.frame\n",
    "    mask_k <- mask_k %>% as.data.frame %>% lapply(., as.numeric) %>% as.data.frame\n",
    "    delta_k <- delta_k %>% as.data.frame %>% lapply(., as.numeric) %>% as.data.frame\n",
    "    return(list(chart_k2, mask_k, delta_k))\n",
    "}\n"
   ]
  },
  {
   "cell_type": "code",
   "execution_count": 107,
   "metadata": {
    "vscode": {
     "languageId": "r"
    }
   },
   "outputs": [],
   "source": [
    "process_data <- function(k, root_path) {\n",
    "    id_k<-all_hadmid[k]\n",
    "    folder_path<-file.path(root_path, id_k)\n",
    "    create_dir(folder_path, F)\n",
    "    datas <- emr_lip_fun(k)\n",
    "    fwrite(datas[[1]], file=file.path(folder_path, \"X.csv\"), row.names=F)\n",
    "    fwrite(datas[[2]], file=file.path(folder_path, \"M.csv\"), row.names=F)\n",
    "    fwrite(datas[[3]], file=file.path(folder_path, \"D.csv\"), row.names=F)\n",
    "}"
   ]
  },
  {
   "cell_type": "code",
   "execution_count": 120,
   "metadata": {
    "vscode": {
     "languageId": "r"
    }
   },
   "outputs": [
    {
     "name": "stdout",
     "output_type": "stream",
     "text": [
      "[1] \"/home/luojiawei/Benchmark_project_data/mimiciv_data/patient_folders_test/ removed\"\n",
      "[1] \"/home/luojiawei/Benchmark_project_data/mimiciv_data/patient_folders_test/ created\"\n"
     ]
    }
   ],
   "source": [
    "root_path <- \"/home/luojiawei/Benchmark_project_data/mimiciv_data/patient_folders_test/\"\n",
    "create_dir(root_path, T)"
   ]
  },
  {
   "cell_type": "code",
   "execution_count": 121,
   "metadata": {
    "vscode": {
     "languageId": "r"
    }
   },
   "outputs": [],
   "source": [
    "start_time <- Sys.time()\n",
    "results <- mclapply(1:20000, \n",
    "                function(x) {\n",
    "                  result <- tryCatch({\n",
    "                    process_data(x, root_path = root_path)\n",
    "                  }, error = function(e) {\n",
    "                    print(e)\n",
    "                    print(x)\n",
    "                  })\n",
    "                  return(result)\n",
    "                }, mc.cores = detectCores())\n",
    "end_time <- Sys.time()"
   ]
  },
  {
   "cell_type": "code",
   "execution_count": 122,
   "metadata": {
    "vscode": {
     "languageId": "r"
    }
   },
   "outputs": [
    {
     "data": {
      "text/plain": [
       "Time difference of 5.606911 mins"
      ]
     },
     "metadata": {},
     "output_type": "display_data"
    }
   ],
   "source": [
    "end_time - start_time"
   ]
  },
  {
   "cell_type": "code",
   "execution_count": null,
   "metadata": {
    "vscode": {
     "languageId": "r"
    }
   },
   "outputs": [],
   "source": []
  }
 ],
 "metadata": {
  "kernelspec": {
   "display_name": "R",
   "language": "R",
   "name": "ir"
  },
  "language_info": {
   "codemirror_mode": "r",
   "file_extension": ".r",
   "mimetype": "text/x-r-source",
   "name": "R",
   "pygments_lexer": "r",
   "version": "4.2.2"
  }
 },
 "nbformat": 4,
 "nbformat_minor": 2
}
